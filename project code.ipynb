{
 "cells": [
  {
   "cell_type": "markdown",
   "id": "8e5f8bcb",
   "metadata": {},
   "source": [
    "### Importing required libraries"
   ]
  },
  {
   "cell_type": "code",
   "execution_count": null,
   "id": "481308c5",
   "metadata": {
    "scrolled": true
   },
   "outputs": [],
   "source": [
    "!pip install wordcloud"
   ]
  },
  {
   "cell_type": "code",
   "execution_count": 1,
   "id": "089b9d60",
   "metadata": {},
   "outputs": [],
   "source": [
    "# import 'Numpy'\n",
    "import numpy as np\n",
    "\n",
    "# import 'Pandas' \n",
    "import pandas as pd\n",
    "\n",
    "# import subpackage of Matplotlib\n",
    "import matplotlib.pyplot as plt\n",
    "\n",
    "# import color package from matplotlib\n",
    "from matplotlib.colors import ListedColormap\n",
    "\n",
    "# import 'Seaborn'\n",
    "import seaborn as sns\n",
    "\n",
    "# to suppress warnings\n",
    "from warnings import filterwarnings\n",
    "filterwarnings('ignore')\n",
    "\n",
    "# import regular expression\n",
    "import re\n",
    "\n",
    "# import ast\n",
    "import ast\n",
    "\n",
    "# display all columns of the dataframe\n",
    "pd.options.display.max_columns = None\n",
    "\n",
    "# import label encoder , ordinal encoder , onehot encoder \n",
    "from sklearn.preprocessing import LabelEncoder,OrdinalEncoder,OneHotEncoder\n",
    "\n",
    "# import stats for performing statistical tests\n",
    "import scipy.stats as stats\n",
    "\n",
    "# import train-test split\n",
    "from sklearn.model_selection import train_test_split\n",
    "\n",
    "# import PowerTransformer\n",
    "from sklearn.preprocessing import PowerTransformer\n",
    "\n",
    "# import SMOTE to create synthetic data\n",
    "from imblearn.over_sampling import SMOTE\n",
    "\n",
    "# import various functions from sklearn\n",
    "from sklearn.metrics import accuracy_score,roc_curve,roc_auc_score,classification_report,confusion_matrix,f1_score\n",
    "from sklearn.model_selection import KFold,GridSearchCV\n",
    "\n",
    "# import Linear Regression\n",
    "from sklearn.linear_model import LinearRegression\n",
    "\n",
    "# import statsmodels\n",
    "import statsmodels.api as sma\n",
    "\n",
    "# import Logistic Regression\n",
    "from sklearn.linear_model import LogisticRegression\n",
    "\n",
    "# import DecisionTree Classifier\n",
    "from sklearn.tree import DecisionTreeClassifier\n",
    "\n",
    "# import tree to visualize DecisiontTree\n",
    "from sklearn import tree\n",
    "\n",
    "# import RandomForest Classifier\n",
    "from sklearn.ensemble import RandomForestClassifier\n",
    "\n",
    "# import AdaBoost Classifier\n",
    "from sklearn.ensemble import AdaBoostClassifier\n",
    "\n",
    "# import GradientBoosting Classifier\n",
    "from sklearn.ensemble import GradientBoostingClassifier\n",
    "\n",
    "# import XtremeGradientBoost Classifier\n",
    "from xgboost import XGBClassifier\n",
    "\n",
    "# import wordlcoud, stopwords\n",
    "from wordcloud import WordCloud,STOPWORDS\n"
   ]
  },
  {
   "cell_type": "code",
   "execution_count": 2,
   "id": "7058421b",
   "metadata": {},
   "outputs": [],
   "source": [
    "# set the plot size using 'rcParams'\n",
    "# once the plot size is set using 'rcParams', it sets the size of all the forthcoming plots in the file\n",
    "# pass width and height in inches to 'figure.figsize' \n",
    "plt.rcParams['figure.figsize'] = [8,8]\n",
    "\n",
    "# Creating custom color\n",
    "colors = ['#97C1A9','#DCDCDC','#AFC197','#9AC197','#97C1BE','#97C1A2','#C1979A',\n",
    "          '#A997C1','#77AE8F','#DCDCDC','#67A481','#C197AF']"
   ]
  },
  {
   "cell_type": "markdown",
   "id": "57d7c0ab",
   "metadata": {},
   "source": [
    "### Reading the dataset and viewing the first 10 rows of it"
   ]
  },
  {
   "cell_type": "code",
   "execution_count": 3,
   "id": "0d44d983",
   "metadata": {},
   "outputs": [],
   "source": [
    "pd.set_option('display.max_columns',20)"
   ]
  },
  {
   "cell_type": "code",
   "execution_count": 4,
   "id": "e482d9a6",
   "metadata": {},
   "outputs": [
    {
     "data": {
      "text/html": [
       "<div>\n",
       "<style scoped>\n",
       "    .dataframe tbody tr th:only-of-type {\n",
       "        vertical-align: middle;\n",
       "    }\n",
       "\n",
       "    .dataframe tbody tr th {\n",
       "        vertical-align: top;\n",
       "    }\n",
       "\n",
       "    .dataframe thead th {\n",
       "        text-align: right;\n",
       "    }\n",
       "</style>\n",
       "<table border=\"1\" class=\"dataframe\">\n",
       "  <thead>\n",
       "    <tr style=\"text-align: right;\">\n",
       "      <th></th>\n",
       "      <th>Booking_ID</th>\n",
       "      <th>no_of_adults</th>\n",
       "      <th>no_of_children</th>\n",
       "      <th>no_of_weekend_nights</th>\n",
       "      <th>no_of_week_nights</th>\n",
       "      <th>type_of_meal_plan</th>\n",
       "      <th>required_car_parking_space</th>\n",
       "      <th>room_type_reserved</th>\n",
       "      <th>lead_time</th>\n",
       "      <th>arrival_year</th>\n",
       "      <th>arrival_month</th>\n",
       "      <th>arrival_date</th>\n",
       "      <th>market_segment_type</th>\n",
       "      <th>repeated_guest</th>\n",
       "      <th>no_of_previous_cancellations</th>\n",
       "      <th>no_of_previous_bookings_not_canceled</th>\n",
       "      <th>avg_price_per_room</th>\n",
       "      <th>no_of_special_requests</th>\n",
       "      <th>booking_status</th>\n",
       "    </tr>\n",
       "  </thead>\n",
       "  <tbody>\n",
       "    <tr>\n",
       "      <th>0</th>\n",
       "      <td>INN00001</td>\n",
       "      <td>2</td>\n",
       "      <td>0</td>\n",
       "      <td>1</td>\n",
       "      <td>2</td>\n",
       "      <td>Meal Plan 1</td>\n",
       "      <td>0</td>\n",
       "      <td>Room_Type 1</td>\n",
       "      <td>224</td>\n",
       "      <td>2017</td>\n",
       "      <td>10</td>\n",
       "      <td>2</td>\n",
       "      <td>Offline</td>\n",
       "      <td>0</td>\n",
       "      <td>0</td>\n",
       "      <td>0</td>\n",
       "      <td>65.00</td>\n",
       "      <td>0</td>\n",
       "      <td>Not_Canceled</td>\n",
       "    </tr>\n",
       "    <tr>\n",
       "      <th>1</th>\n",
       "      <td>INN00002</td>\n",
       "      <td>2</td>\n",
       "      <td>0</td>\n",
       "      <td>2</td>\n",
       "      <td>3</td>\n",
       "      <td>Not Selected</td>\n",
       "      <td>0</td>\n",
       "      <td>Room_Type 1</td>\n",
       "      <td>5</td>\n",
       "      <td>2018</td>\n",
       "      <td>11</td>\n",
       "      <td>6</td>\n",
       "      <td>Online</td>\n",
       "      <td>0</td>\n",
       "      <td>0</td>\n",
       "      <td>0</td>\n",
       "      <td>106.68</td>\n",
       "      <td>1</td>\n",
       "      <td>Not_Canceled</td>\n",
       "    </tr>\n",
       "    <tr>\n",
       "      <th>2</th>\n",
       "      <td>INN00003</td>\n",
       "      <td>1</td>\n",
       "      <td>0</td>\n",
       "      <td>2</td>\n",
       "      <td>1</td>\n",
       "      <td>Meal Plan 1</td>\n",
       "      <td>0</td>\n",
       "      <td>Room_Type 1</td>\n",
       "      <td>1</td>\n",
       "      <td>2018</td>\n",
       "      <td>2</td>\n",
       "      <td>28</td>\n",
       "      <td>Online</td>\n",
       "      <td>0</td>\n",
       "      <td>0</td>\n",
       "      <td>0</td>\n",
       "      <td>60.00</td>\n",
       "      <td>0</td>\n",
       "      <td>Canceled</td>\n",
       "    </tr>\n",
       "    <tr>\n",
       "      <th>3</th>\n",
       "      <td>INN00004</td>\n",
       "      <td>2</td>\n",
       "      <td>0</td>\n",
       "      <td>0</td>\n",
       "      <td>2</td>\n",
       "      <td>Meal Plan 1</td>\n",
       "      <td>0</td>\n",
       "      <td>Room_Type 1</td>\n",
       "      <td>211</td>\n",
       "      <td>2018</td>\n",
       "      <td>5</td>\n",
       "      <td>20</td>\n",
       "      <td>Online</td>\n",
       "      <td>0</td>\n",
       "      <td>0</td>\n",
       "      <td>0</td>\n",
       "      <td>100.00</td>\n",
       "      <td>0</td>\n",
       "      <td>Canceled</td>\n",
       "    </tr>\n",
       "    <tr>\n",
       "      <th>4</th>\n",
       "      <td>INN00005</td>\n",
       "      <td>2</td>\n",
       "      <td>0</td>\n",
       "      <td>1</td>\n",
       "      <td>1</td>\n",
       "      <td>Not Selected</td>\n",
       "      <td>0</td>\n",
       "      <td>Room_Type 1</td>\n",
       "      <td>48</td>\n",
       "      <td>2018</td>\n",
       "      <td>4</td>\n",
       "      <td>11</td>\n",
       "      <td>Online</td>\n",
       "      <td>0</td>\n",
       "      <td>0</td>\n",
       "      <td>0</td>\n",
       "      <td>94.50</td>\n",
       "      <td>0</td>\n",
       "      <td>Canceled</td>\n",
       "    </tr>\n",
       "    <tr>\n",
       "      <th>5</th>\n",
       "      <td>INN00006</td>\n",
       "      <td>2</td>\n",
       "      <td>0</td>\n",
       "      <td>0</td>\n",
       "      <td>2</td>\n",
       "      <td>Meal Plan 2</td>\n",
       "      <td>0</td>\n",
       "      <td>Room_Type 1</td>\n",
       "      <td>346</td>\n",
       "      <td>2018</td>\n",
       "      <td>9</td>\n",
       "      <td>13</td>\n",
       "      <td>Online</td>\n",
       "      <td>0</td>\n",
       "      <td>0</td>\n",
       "      <td>0</td>\n",
       "      <td>115.00</td>\n",
       "      <td>1</td>\n",
       "      <td>Canceled</td>\n",
       "    </tr>\n",
       "    <tr>\n",
       "      <th>6</th>\n",
       "      <td>INN00007</td>\n",
       "      <td>2</td>\n",
       "      <td>0</td>\n",
       "      <td>1</td>\n",
       "      <td>3</td>\n",
       "      <td>Meal Plan 1</td>\n",
       "      <td>0</td>\n",
       "      <td>Room_Type 1</td>\n",
       "      <td>34</td>\n",
       "      <td>2017</td>\n",
       "      <td>10</td>\n",
       "      <td>15</td>\n",
       "      <td>Online</td>\n",
       "      <td>0</td>\n",
       "      <td>0</td>\n",
       "      <td>0</td>\n",
       "      <td>107.55</td>\n",
       "      <td>1</td>\n",
       "      <td>Not_Canceled</td>\n",
       "    </tr>\n",
       "    <tr>\n",
       "      <th>7</th>\n",
       "      <td>INN00008</td>\n",
       "      <td>2</td>\n",
       "      <td>0</td>\n",
       "      <td>1</td>\n",
       "      <td>3</td>\n",
       "      <td>Meal Plan 1</td>\n",
       "      <td>0</td>\n",
       "      <td>Room_Type 4</td>\n",
       "      <td>83</td>\n",
       "      <td>2018</td>\n",
       "      <td>12</td>\n",
       "      <td>26</td>\n",
       "      <td>Online</td>\n",
       "      <td>0</td>\n",
       "      <td>0</td>\n",
       "      <td>0</td>\n",
       "      <td>105.61</td>\n",
       "      <td>1</td>\n",
       "      <td>Not_Canceled</td>\n",
       "    </tr>\n",
       "    <tr>\n",
       "      <th>8</th>\n",
       "      <td>INN00009</td>\n",
       "      <td>3</td>\n",
       "      <td>0</td>\n",
       "      <td>0</td>\n",
       "      <td>4</td>\n",
       "      <td>Meal Plan 1</td>\n",
       "      <td>0</td>\n",
       "      <td>Room_Type 1</td>\n",
       "      <td>121</td>\n",
       "      <td>2018</td>\n",
       "      <td>7</td>\n",
       "      <td>6</td>\n",
       "      <td>Offline</td>\n",
       "      <td>0</td>\n",
       "      <td>0</td>\n",
       "      <td>0</td>\n",
       "      <td>96.90</td>\n",
       "      <td>1</td>\n",
       "      <td>Not_Canceled</td>\n",
       "    </tr>\n",
       "    <tr>\n",
       "      <th>9</th>\n",
       "      <td>INN00010</td>\n",
       "      <td>2</td>\n",
       "      <td>0</td>\n",
       "      <td>0</td>\n",
       "      <td>5</td>\n",
       "      <td>Meal Plan 1</td>\n",
       "      <td>0</td>\n",
       "      <td>Room_Type 4</td>\n",
       "      <td>44</td>\n",
       "      <td>2018</td>\n",
       "      <td>10</td>\n",
       "      <td>18</td>\n",
       "      <td>Online</td>\n",
       "      <td>0</td>\n",
       "      <td>0</td>\n",
       "      <td>0</td>\n",
       "      <td>133.44</td>\n",
       "      <td>3</td>\n",
       "      <td>Not_Canceled</td>\n",
       "    </tr>\n",
       "  </tbody>\n",
       "</table>\n",
       "</div>"
      ],
      "text/plain": [
       "  Booking_ID  no_of_adults  no_of_children  no_of_weekend_nights  \\\n",
       "0   INN00001             2               0                     1   \n",
       "1   INN00002             2               0                     2   \n",
       "2   INN00003             1               0                     2   \n",
       "3   INN00004             2               0                     0   \n",
       "4   INN00005             2               0                     1   \n",
       "5   INN00006             2               0                     0   \n",
       "6   INN00007             2               0                     1   \n",
       "7   INN00008             2               0                     1   \n",
       "8   INN00009             3               0                     0   \n",
       "9   INN00010             2               0                     0   \n",
       "\n",
       "   no_of_week_nights type_of_meal_plan  required_car_parking_space  \\\n",
       "0                  2       Meal Plan 1                           0   \n",
       "1                  3      Not Selected                           0   \n",
       "2                  1       Meal Plan 1                           0   \n",
       "3                  2       Meal Plan 1                           0   \n",
       "4                  1      Not Selected                           0   \n",
       "5                  2       Meal Plan 2                           0   \n",
       "6                  3       Meal Plan 1                           0   \n",
       "7                  3       Meal Plan 1                           0   \n",
       "8                  4       Meal Plan 1                           0   \n",
       "9                  5       Meal Plan 1                           0   \n",
       "\n",
       "  room_type_reserved  lead_time  arrival_year  arrival_month  arrival_date  \\\n",
       "0        Room_Type 1        224          2017             10             2   \n",
       "1        Room_Type 1          5          2018             11             6   \n",
       "2        Room_Type 1          1          2018              2            28   \n",
       "3        Room_Type 1        211          2018              5            20   \n",
       "4        Room_Type 1         48          2018              4            11   \n",
       "5        Room_Type 1        346          2018              9            13   \n",
       "6        Room_Type 1         34          2017             10            15   \n",
       "7        Room_Type 4         83          2018             12            26   \n",
       "8        Room_Type 1        121          2018              7             6   \n",
       "9        Room_Type 4         44          2018             10            18   \n",
       "\n",
       "  market_segment_type  repeated_guest  no_of_previous_cancellations  \\\n",
       "0             Offline               0                             0   \n",
       "1              Online               0                             0   \n",
       "2              Online               0                             0   \n",
       "3              Online               0                             0   \n",
       "4              Online               0                             0   \n",
       "5              Online               0                             0   \n",
       "6              Online               0                             0   \n",
       "7              Online               0                             0   \n",
       "8             Offline               0                             0   \n",
       "9              Online               0                             0   \n",
       "\n",
       "   no_of_previous_bookings_not_canceled  avg_price_per_room  \\\n",
       "0                                     0               65.00   \n",
       "1                                     0              106.68   \n",
       "2                                     0               60.00   \n",
       "3                                     0              100.00   \n",
       "4                                     0               94.50   \n",
       "5                                     0              115.00   \n",
       "6                                     0              107.55   \n",
       "7                                     0              105.61   \n",
       "8                                     0               96.90   \n",
       "9                                     0              133.44   \n",
       "\n",
       "   no_of_special_requests booking_status  \n",
       "0                       0   Not_Canceled  \n",
       "1                       1   Not_Canceled  \n",
       "2                       0       Canceled  \n",
       "3                       0       Canceled  \n",
       "4                       0       Canceled  \n",
       "5                       1       Canceled  \n",
       "6                       1   Not_Canceled  \n",
       "7                       1   Not_Canceled  \n",
       "8                       1   Not_Canceled  \n",
       "9                       3   Not_Canceled  "
      ]
     },
     "execution_count": 4,
     "metadata": {},
     "output_type": "execute_result"
    }
   ],
   "source": [
    "df_hotel = pd.read_csv('Hotel Reservations.csv')\n",
    "df_hotel.head(10)"
   ]
  },
  {
   "cell_type": "markdown",
   "id": "e49c08ae",
   "metadata": {},
   "source": [
    "### Checking the shape/dimension of the dataset¶"
   ]
  },
  {
   "cell_type": "code",
   "execution_count": 5,
   "id": "0f4de1ea",
   "metadata": {},
   "outputs": [
    {
     "name": "stdout",
     "output_type": "stream",
     "text": [
      "The dataset has 36275 rows and 19 columns\n"
     ]
    }
   ],
   "source": [
    "print(f'The dataset has {df_hotel.shape[0]} rows and {df_hotel.shape[1]} columns')"
   ]
  },
  {
   "cell_type": "code",
   "execution_count": 6,
   "id": "447ec7ae",
   "metadata": {},
   "outputs": [
    {
     "name": "stdout",
     "output_type": "stream",
     "text": [
      "Dimension of the dataset is 2\n"
     ]
    }
   ],
   "source": [
    "print(f'Dimension of the dataset is {df_hotel.ndim}')"
   ]
  },
  {
   "cell_type": "markdown",
   "id": "862a5111",
   "metadata": {},
   "source": [
    "### Checking the datatype, number of non null values and name of each variable in the dataset"
   ]
  },
  {
   "cell_type": "code",
   "execution_count": 7,
   "id": "ad92599e",
   "metadata": {},
   "outputs": [
    {
     "name": "stdout",
     "output_type": "stream",
     "text": [
      "<class 'pandas.core.frame.DataFrame'>\n",
      "RangeIndex: 36275 entries, 0 to 36274\n",
      "Data columns (total 19 columns):\n",
      " #   Column                                Non-Null Count  Dtype  \n",
      "---  ------                                --------------  -----  \n",
      " 0   Booking_ID                            36275 non-null  object \n",
      " 1   no_of_adults                          36275 non-null  int64  \n",
      " 2   no_of_children                        36275 non-null  int64  \n",
      " 3   no_of_weekend_nights                  36275 non-null  int64  \n",
      " 4   no_of_week_nights                     36275 non-null  int64  \n",
      " 5   type_of_meal_plan                     36275 non-null  object \n",
      " 6   required_car_parking_space            36275 non-null  int64  \n",
      " 7   room_type_reserved                    36275 non-null  object \n",
      " 8   lead_time                             36275 non-null  int64  \n",
      " 9   arrival_year                          36275 non-null  int64  \n",
      " 10  arrival_month                         36275 non-null  int64  \n",
      " 11  arrival_date                          36275 non-null  int64  \n",
      " 12  market_segment_type                   36275 non-null  object \n",
      " 13  repeated_guest                        36275 non-null  int64  \n",
      " 14  no_of_previous_cancellations          36275 non-null  int64  \n",
      " 15  no_of_previous_bookings_not_canceled  36275 non-null  int64  \n",
      " 16  avg_price_per_room                    36275 non-null  float64\n",
      " 17  no_of_special_requests                36275 non-null  int64  \n",
      " 18  booking_status                        36275 non-null  object \n",
      "dtypes: float64(1), int64(13), object(5)\n",
      "memory usage: 5.3+ MB\n"
     ]
    }
   ],
   "source": [
    "df_hotel.info()"
   ]
  },
  {
   "cell_type": "markdown",
   "id": "292c2bf4",
   "metadata": {},
   "source": [
    "### Checking for the missing values. Displaying number of missing values per column"
   ]
  },
  {
   "cell_type": "code",
   "execution_count": 8,
   "id": "a3d0a286",
   "metadata": {},
   "outputs": [
    {
     "data": {
      "text/html": [
       "<div>\n",
       "<style scoped>\n",
       "    .dataframe tbody tr th:only-of-type {\n",
       "        vertical-align: middle;\n",
       "    }\n",
       "\n",
       "    .dataframe tbody tr th {\n",
       "        vertical-align: top;\n",
       "    }\n",
       "\n",
       "    .dataframe thead th {\n",
       "        text-align: right;\n",
       "    }\n",
       "</style>\n",
       "<table border=\"1\" class=\"dataframe\">\n",
       "  <thead>\n",
       "    <tr style=\"text-align: right;\">\n",
       "      <th></th>\n",
       "      <th>Name</th>\n",
       "      <th>No of missing values</th>\n",
       "      <th>% of missing values</th>\n",
       "    </tr>\n",
       "  </thead>\n",
       "  <tbody>\n",
       "    <tr>\n",
       "      <th>0</th>\n",
       "      <td>Booking_ID</td>\n",
       "      <td>0</td>\n",
       "      <td>0.0</td>\n",
       "    </tr>\n",
       "    <tr>\n",
       "      <th>1</th>\n",
       "      <td>no_of_adults</td>\n",
       "      <td>0</td>\n",
       "      <td>0.0</td>\n",
       "    </tr>\n",
       "    <tr>\n",
       "      <th>2</th>\n",
       "      <td>no_of_children</td>\n",
       "      <td>0</td>\n",
       "      <td>0.0</td>\n",
       "    </tr>\n",
       "    <tr>\n",
       "      <th>3</th>\n",
       "      <td>no_of_weekend_nights</td>\n",
       "      <td>0</td>\n",
       "      <td>0.0</td>\n",
       "    </tr>\n",
       "    <tr>\n",
       "      <th>4</th>\n",
       "      <td>no_of_week_nights</td>\n",
       "      <td>0</td>\n",
       "      <td>0.0</td>\n",
       "    </tr>\n",
       "    <tr>\n",
       "      <th>5</th>\n",
       "      <td>type_of_meal_plan</td>\n",
       "      <td>0</td>\n",
       "      <td>0.0</td>\n",
       "    </tr>\n",
       "    <tr>\n",
       "      <th>6</th>\n",
       "      <td>required_car_parking_space</td>\n",
       "      <td>0</td>\n",
       "      <td>0.0</td>\n",
       "    </tr>\n",
       "    <tr>\n",
       "      <th>7</th>\n",
       "      <td>room_type_reserved</td>\n",
       "      <td>0</td>\n",
       "      <td>0.0</td>\n",
       "    </tr>\n",
       "    <tr>\n",
       "      <th>8</th>\n",
       "      <td>lead_time</td>\n",
       "      <td>0</td>\n",
       "      <td>0.0</td>\n",
       "    </tr>\n",
       "    <tr>\n",
       "      <th>9</th>\n",
       "      <td>arrival_year</td>\n",
       "      <td>0</td>\n",
       "      <td>0.0</td>\n",
       "    </tr>\n",
       "    <tr>\n",
       "      <th>10</th>\n",
       "      <td>arrival_month</td>\n",
       "      <td>0</td>\n",
       "      <td>0.0</td>\n",
       "    </tr>\n",
       "    <tr>\n",
       "      <th>11</th>\n",
       "      <td>arrival_date</td>\n",
       "      <td>0</td>\n",
       "      <td>0.0</td>\n",
       "    </tr>\n",
       "    <tr>\n",
       "      <th>12</th>\n",
       "      <td>market_segment_type</td>\n",
       "      <td>0</td>\n",
       "      <td>0.0</td>\n",
       "    </tr>\n",
       "    <tr>\n",
       "      <th>13</th>\n",
       "      <td>repeated_guest</td>\n",
       "      <td>0</td>\n",
       "      <td>0.0</td>\n",
       "    </tr>\n",
       "    <tr>\n",
       "      <th>14</th>\n",
       "      <td>no_of_previous_cancellations</td>\n",
       "      <td>0</td>\n",
       "      <td>0.0</td>\n",
       "    </tr>\n",
       "    <tr>\n",
       "      <th>15</th>\n",
       "      <td>no_of_previous_bookings_not_canceled</td>\n",
       "      <td>0</td>\n",
       "      <td>0.0</td>\n",
       "    </tr>\n",
       "    <tr>\n",
       "      <th>16</th>\n",
       "      <td>avg_price_per_room</td>\n",
       "      <td>0</td>\n",
       "      <td>0.0</td>\n",
       "    </tr>\n",
       "    <tr>\n",
       "      <th>17</th>\n",
       "      <td>no_of_special_requests</td>\n",
       "      <td>0</td>\n",
       "      <td>0.0</td>\n",
       "    </tr>\n",
       "    <tr>\n",
       "      <th>18</th>\n",
       "      <td>booking_status</td>\n",
       "      <td>0</td>\n",
       "      <td>0.0</td>\n",
       "    </tr>\n",
       "  </tbody>\n",
       "</table>\n",
       "</div>"
      ],
      "text/plain": [
       "                                    Name  No of missing values  \\\n",
       "0                             Booking_ID                     0   \n",
       "1                           no_of_adults                     0   \n",
       "2                         no_of_children                     0   \n",
       "3                   no_of_weekend_nights                     0   \n",
       "4                      no_of_week_nights                     0   \n",
       "5                      type_of_meal_plan                     0   \n",
       "6             required_car_parking_space                     0   \n",
       "7                     room_type_reserved                     0   \n",
       "8                              lead_time                     0   \n",
       "9                           arrival_year                     0   \n",
       "10                         arrival_month                     0   \n",
       "11                          arrival_date                     0   \n",
       "12                   market_segment_type                     0   \n",
       "13                        repeated_guest                     0   \n",
       "14          no_of_previous_cancellations                     0   \n",
       "15  no_of_previous_bookings_not_canceled                     0   \n",
       "16                    avg_price_per_room                     0   \n",
       "17                no_of_special_requests                     0   \n",
       "18                        booking_status                     0   \n",
       "\n",
       "    % of missing values  \n",
       "0                   0.0  \n",
       "1                   0.0  \n",
       "2                   0.0  \n",
       "3                   0.0  \n",
       "4                   0.0  \n",
       "5                   0.0  \n",
       "6                   0.0  \n",
       "7                   0.0  \n",
       "8                   0.0  \n",
       "9                   0.0  \n",
       "10                  0.0  \n",
       "11                  0.0  \n",
       "12                  0.0  \n",
       "13                  0.0  \n",
       "14                  0.0  \n",
       "15                  0.0  \n",
       "16                  0.0  \n",
       "17                  0.0  \n",
       "18                  0.0  "
      ]
     },
     "execution_count": 8,
     "metadata": {},
     "output_type": "execute_result"
    }
   ],
   "source": [
    "missing_values = pd.DataFrame({'No of missing values': df_hotel.isnull().sum(),\n",
    "                              '% of missing values': (df_hotel.isnull().sum()/df_hotel.shape[0])*100}\n",
    "                             ).reset_index().rename(columns = {'index':'Name'})\n",
    "\n",
    "missing_values"
   ]
  },
  {
   "cell_type": "markdown",
   "id": "204b22d5",
   "metadata": {},
   "source": [
    "From above dataframe we can see that there are no missing values present in the dataset"
   ]
  },
  {
   "cell_type": "markdown",
   "id": "7b6c0bb5",
   "metadata": {},
   "source": [
    "### Dropping of irrelevant columns from the dataset"
   ]
  },
  {
   "cell_type": "markdown",
   "id": "6b8ddb14",
   "metadata": {},
   "source": [
    "The variable booking id is a unqiue identfier of each booking. This variable can be dropped as it might not contribute much to the prediction booking status or might impute noise to the model."
   ]
  },
  {
   "cell_type": "code",
   "execution_count": 9,
   "id": "e89e6f0c",
   "metadata": {},
   "outputs": [],
   "source": [
    "df_hotel.drop(columns = 'Booking_ID', inplace = True)"
   ]
  },
  {
   "cell_type": "markdown",
   "id": "cbb89ec9",
   "metadata": {},
   "source": [
    "### Checking for the descriptive statistics of the dataset"
   ]
  },
  {
   "cell_type": "code",
   "execution_count": 10,
   "id": "89abdc8b",
   "metadata": {},
   "outputs": [
    {
     "data": {
      "text/html": [
       "<div>\n",
       "<style scoped>\n",
       "    .dataframe tbody tr th:only-of-type {\n",
       "        vertical-align: middle;\n",
       "    }\n",
       "\n",
       "    .dataframe tbody tr th {\n",
       "        vertical-align: top;\n",
       "    }\n",
       "\n",
       "    .dataframe thead th {\n",
       "        text-align: right;\n",
       "    }\n",
       "</style>\n",
       "<table border=\"1\" class=\"dataframe\">\n",
       "  <thead>\n",
       "    <tr style=\"text-align: right;\">\n",
       "      <th></th>\n",
       "      <th>count</th>\n",
       "      <th>unique</th>\n",
       "      <th>top</th>\n",
       "      <th>freq</th>\n",
       "    </tr>\n",
       "  </thead>\n",
       "  <tbody>\n",
       "    <tr>\n",
       "      <th>type_of_meal_plan</th>\n",
       "      <td>36275</td>\n",
       "      <td>4</td>\n",
       "      <td>Meal Plan 1</td>\n",
       "      <td>27835</td>\n",
       "    </tr>\n",
       "    <tr>\n",
       "      <th>room_type_reserved</th>\n",
       "      <td>36275</td>\n",
       "      <td>7</td>\n",
       "      <td>Room_Type 1</td>\n",
       "      <td>28130</td>\n",
       "    </tr>\n",
       "    <tr>\n",
       "      <th>market_segment_type</th>\n",
       "      <td>36275</td>\n",
       "      <td>5</td>\n",
       "      <td>Online</td>\n",
       "      <td>23214</td>\n",
       "    </tr>\n",
       "    <tr>\n",
       "      <th>booking_status</th>\n",
       "      <td>36275</td>\n",
       "      <td>2</td>\n",
       "      <td>Not_Canceled</td>\n",
       "      <td>24390</td>\n",
       "    </tr>\n",
       "  </tbody>\n",
       "</table>\n",
       "</div>"
      ],
      "text/plain": [
       "                     count unique           top   freq\n",
       "type_of_meal_plan    36275      4   Meal Plan 1  27835\n",
       "room_type_reserved   36275      7   Room_Type 1  28130\n",
       "market_segment_type  36275      5        Online  23214\n",
       "booking_status       36275      2  Not_Canceled  24390"
      ]
     },
     "execution_count": 10,
     "metadata": {},
     "output_type": "execute_result"
    }
   ],
   "source": [
    "df_hotel.describe(include = 'object').T"
   ]
  },
  {
   "cell_type": "code",
   "execution_count": 11,
   "id": "e68a36f4",
   "metadata": {},
   "outputs": [
    {
     "data": {
      "text/plain": [
       "(36275, 18)"
      ]
     },
     "execution_count": 11,
     "metadata": {},
     "output_type": "execute_result"
    }
   ],
   "source": [
    "df_hotel.shape"
   ]
  },
  {
   "cell_type": "code",
   "execution_count": 12,
   "id": "93db1ef3",
   "metadata": {},
   "outputs": [
    {
     "data": {
      "text/plain": [
       "Not_Canceled    67.0\n",
       "Canceled        33.0\n",
       "Name: booking_status, dtype: float64"
      ]
     },
     "execution_count": 12,
     "metadata": {},
     "output_type": "execute_result"
    }
   ],
   "source": [
    "round(df_hotel['booking_status'].value_counts(normalize=True)*100)"
   ]
  },
  {
   "cell_type": "raw",
   "id": "d60461fd",
   "metadata": {},
   "source": [
    "From above statistics we get to know :\n",
    "\n",
    "1) There are total 36275 rows and 4 unique classes in type_of_meal_plan. In that majority class with a count of 27835 is meal plan 1.\n",
    "2) Variable room_type_reserved is having 7 unique classes. Out of 7 unqiue room_type, majority of the type is room_type_1 and their count is 28130\n",
    "3) From market segment type online booking is highest among the other 4 segment with a count of 23214\n",
    "4) In the target variable we can see it is a binary class and there is class imbalance. Majority of the customers has honoured the reservation,which is 67 percent of the total bookings."
   ]
  },
  {
   "cell_type": "markdown",
   "id": "fbdf6030",
   "metadata": {},
   "source": [
    "### Checking for the summary statistics of the dataset"
   ]
  },
  {
   "cell_type": "code",
   "execution_count": 13,
   "id": "7959fc9c",
   "metadata": {},
   "outputs": [
    {
     "data": {
      "text/html": [
       "<div>\n",
       "<style scoped>\n",
       "    .dataframe tbody tr th:only-of-type {\n",
       "        vertical-align: middle;\n",
       "    }\n",
       "\n",
       "    .dataframe tbody tr th {\n",
       "        vertical-align: top;\n",
       "    }\n",
       "\n",
       "    .dataframe thead th {\n",
       "        text-align: right;\n",
       "    }\n",
       "</style>\n",
       "<table border=\"1\" class=\"dataframe\">\n",
       "  <thead>\n",
       "    <tr style=\"text-align: right;\">\n",
       "      <th></th>\n",
       "      <th>count</th>\n",
       "      <th>mean</th>\n",
       "      <th>std</th>\n",
       "      <th>min</th>\n",
       "      <th>25%</th>\n",
       "      <th>50%</th>\n",
       "      <th>75%</th>\n",
       "      <th>max</th>\n",
       "    </tr>\n",
       "  </thead>\n",
       "  <tbody>\n",
       "    <tr>\n",
       "      <th>no_of_adults</th>\n",
       "      <td>36275.0</td>\n",
       "      <td>1.844962</td>\n",
       "      <td>0.518715</td>\n",
       "      <td>0.0</td>\n",
       "      <td>2.0</td>\n",
       "      <td>2.00</td>\n",
       "      <td>2.0</td>\n",
       "      <td>4.0</td>\n",
       "    </tr>\n",
       "    <tr>\n",
       "      <th>no_of_children</th>\n",
       "      <td>36275.0</td>\n",
       "      <td>0.105279</td>\n",
       "      <td>0.402648</td>\n",
       "      <td>0.0</td>\n",
       "      <td>0.0</td>\n",
       "      <td>0.00</td>\n",
       "      <td>0.0</td>\n",
       "      <td>10.0</td>\n",
       "    </tr>\n",
       "    <tr>\n",
       "      <th>no_of_weekend_nights</th>\n",
       "      <td>36275.0</td>\n",
       "      <td>0.810724</td>\n",
       "      <td>0.870644</td>\n",
       "      <td>0.0</td>\n",
       "      <td>0.0</td>\n",
       "      <td>1.00</td>\n",
       "      <td>2.0</td>\n",
       "      <td>7.0</td>\n",
       "    </tr>\n",
       "    <tr>\n",
       "      <th>no_of_week_nights</th>\n",
       "      <td>36275.0</td>\n",
       "      <td>2.204300</td>\n",
       "      <td>1.410905</td>\n",
       "      <td>0.0</td>\n",
       "      <td>1.0</td>\n",
       "      <td>2.00</td>\n",
       "      <td>3.0</td>\n",
       "      <td>17.0</td>\n",
       "    </tr>\n",
       "    <tr>\n",
       "      <th>required_car_parking_space</th>\n",
       "      <td>36275.0</td>\n",
       "      <td>0.030986</td>\n",
       "      <td>0.173281</td>\n",
       "      <td>0.0</td>\n",
       "      <td>0.0</td>\n",
       "      <td>0.00</td>\n",
       "      <td>0.0</td>\n",
       "      <td>1.0</td>\n",
       "    </tr>\n",
       "    <tr>\n",
       "      <th>lead_time</th>\n",
       "      <td>36275.0</td>\n",
       "      <td>85.232557</td>\n",
       "      <td>85.930817</td>\n",
       "      <td>0.0</td>\n",
       "      <td>17.0</td>\n",
       "      <td>57.00</td>\n",
       "      <td>126.0</td>\n",
       "      <td>443.0</td>\n",
       "    </tr>\n",
       "    <tr>\n",
       "      <th>arrival_year</th>\n",
       "      <td>36275.0</td>\n",
       "      <td>2017.820427</td>\n",
       "      <td>0.383836</td>\n",
       "      <td>2017.0</td>\n",
       "      <td>2018.0</td>\n",
       "      <td>2018.00</td>\n",
       "      <td>2018.0</td>\n",
       "      <td>2018.0</td>\n",
       "    </tr>\n",
       "    <tr>\n",
       "      <th>arrival_month</th>\n",
       "      <td>36275.0</td>\n",
       "      <td>7.423653</td>\n",
       "      <td>3.069894</td>\n",
       "      <td>1.0</td>\n",
       "      <td>5.0</td>\n",
       "      <td>8.00</td>\n",
       "      <td>10.0</td>\n",
       "      <td>12.0</td>\n",
       "    </tr>\n",
       "    <tr>\n",
       "      <th>arrival_date</th>\n",
       "      <td>36275.0</td>\n",
       "      <td>15.596995</td>\n",
       "      <td>8.740447</td>\n",
       "      <td>1.0</td>\n",
       "      <td>8.0</td>\n",
       "      <td>16.00</td>\n",
       "      <td>23.0</td>\n",
       "      <td>31.0</td>\n",
       "    </tr>\n",
       "    <tr>\n",
       "      <th>repeated_guest</th>\n",
       "      <td>36275.0</td>\n",
       "      <td>0.025637</td>\n",
       "      <td>0.158053</td>\n",
       "      <td>0.0</td>\n",
       "      <td>0.0</td>\n",
       "      <td>0.00</td>\n",
       "      <td>0.0</td>\n",
       "      <td>1.0</td>\n",
       "    </tr>\n",
       "    <tr>\n",
       "      <th>no_of_previous_cancellations</th>\n",
       "      <td>36275.0</td>\n",
       "      <td>0.023349</td>\n",
       "      <td>0.368331</td>\n",
       "      <td>0.0</td>\n",
       "      <td>0.0</td>\n",
       "      <td>0.00</td>\n",
       "      <td>0.0</td>\n",
       "      <td>13.0</td>\n",
       "    </tr>\n",
       "    <tr>\n",
       "      <th>no_of_previous_bookings_not_canceled</th>\n",
       "      <td>36275.0</td>\n",
       "      <td>0.153411</td>\n",
       "      <td>1.754171</td>\n",
       "      <td>0.0</td>\n",
       "      <td>0.0</td>\n",
       "      <td>0.00</td>\n",
       "      <td>0.0</td>\n",
       "      <td>58.0</td>\n",
       "    </tr>\n",
       "    <tr>\n",
       "      <th>avg_price_per_room</th>\n",
       "      <td>36275.0</td>\n",
       "      <td>103.423539</td>\n",
       "      <td>35.089424</td>\n",
       "      <td>0.0</td>\n",
       "      <td>80.3</td>\n",
       "      <td>99.45</td>\n",
       "      <td>120.0</td>\n",
       "      <td>540.0</td>\n",
       "    </tr>\n",
       "    <tr>\n",
       "      <th>no_of_special_requests</th>\n",
       "      <td>36275.0</td>\n",
       "      <td>0.619655</td>\n",
       "      <td>0.786236</td>\n",
       "      <td>0.0</td>\n",
       "      <td>0.0</td>\n",
       "      <td>0.00</td>\n",
       "      <td>1.0</td>\n",
       "      <td>5.0</td>\n",
       "    </tr>\n",
       "  </tbody>\n",
       "</table>\n",
       "</div>"
      ],
      "text/plain": [
       "                                        count         mean        std     min  \\\n",
       "no_of_adults                          36275.0     1.844962   0.518715     0.0   \n",
       "no_of_children                        36275.0     0.105279   0.402648     0.0   \n",
       "no_of_weekend_nights                  36275.0     0.810724   0.870644     0.0   \n",
       "no_of_week_nights                     36275.0     2.204300   1.410905     0.0   \n",
       "required_car_parking_space            36275.0     0.030986   0.173281     0.0   \n",
       "lead_time                             36275.0    85.232557  85.930817     0.0   \n",
       "arrival_year                          36275.0  2017.820427   0.383836  2017.0   \n",
       "arrival_month                         36275.0     7.423653   3.069894     1.0   \n",
       "arrival_date                          36275.0    15.596995   8.740447     1.0   \n",
       "repeated_guest                        36275.0     0.025637   0.158053     0.0   \n",
       "no_of_previous_cancellations          36275.0     0.023349   0.368331     0.0   \n",
       "no_of_previous_bookings_not_canceled  36275.0     0.153411   1.754171     0.0   \n",
       "avg_price_per_room                    36275.0   103.423539  35.089424     0.0   \n",
       "no_of_special_requests                36275.0     0.619655   0.786236     0.0   \n",
       "\n",
       "                                         25%      50%     75%     max  \n",
       "no_of_adults                             2.0     2.00     2.0     4.0  \n",
       "no_of_children                           0.0     0.00     0.0    10.0  \n",
       "no_of_weekend_nights                     0.0     1.00     2.0     7.0  \n",
       "no_of_week_nights                        1.0     2.00     3.0    17.0  \n",
       "required_car_parking_space               0.0     0.00     0.0     1.0  \n",
       "lead_time                               17.0    57.00   126.0   443.0  \n",
       "arrival_year                          2018.0  2018.00  2018.0  2018.0  \n",
       "arrival_month                            5.0     8.00    10.0    12.0  \n",
       "arrival_date                             8.0    16.00    23.0    31.0  \n",
       "repeated_guest                           0.0     0.00     0.0     1.0  \n",
       "no_of_previous_cancellations             0.0     0.00     0.0    13.0  \n",
       "no_of_previous_bookings_not_canceled     0.0     0.00     0.0    58.0  \n",
       "avg_price_per_room                      80.3    99.45   120.0   540.0  \n",
       "no_of_special_requests                   0.0     0.00     1.0     5.0  "
      ]
     },
     "execution_count": 13,
     "metadata": {},
     "output_type": "execute_result"
    }
   ],
   "source": [
    "df_hotel.describe().T"
   ]
  },
  {
   "cell_type": "raw",
   "id": "a7ab8835",
   "metadata": {},
   "source": [
    "From above statistics we get to know :\n",
    "    \n",
    "1) The maximum number of guests who occupied the hotel room over the age of 18 is 4 \n",
    "2) The maximum number of guests who occupied the hotel room below the age of 18 is 10 \n",
    "3) On an average 1 weekend night (Saturday or Sunday) the guest has stayed or booked to stay at the hotel\n",
    "4) The request for car parking space has majorly been asked for as a requirement (again this is a categorical variable)\n",
    "5) The Lead time between the date of arrival and the date of booking on an average is 85 days and a maximum of 443 days\n",
    "6) The data collected is for the years 2017, 2018 \n",
    "7) The arrival month we can get to see which month has the highest bookings, 12, December\n",
    "8) With the arrival date we can classify or infer the following \n",
    "    # The time of the booking , month end or the mid month --- > here most frequent bookings happend for the month end\n",
    "    # Weekday or the Weekend, where the cancellations happen the most \n",
    "9) In the collected data, this organisation has had more of repeated guest than the new visits.\n",
    "10) The maximum number of previous bookings that were cancelled and not cancelled by the customer prior to the current booking is 13 and 58 respectively\n",
    "11) Price of the room ranges from $80 to $540 , however the average booking price has been ~$103\n",
    "12) Comparatively there were not special requests made by the customer (e.g. high floor, view from the room, etc), the maximum number itself is 5"
   ]
  },
  {
   "cell_type": "markdown",
   "id": "9243f96d",
   "metadata": {},
   "source": [
    "### Univariate Analysis"
   ]
  },
  {
   "cell_type": "markdown",
   "id": "790c31b3",
   "metadata": {},
   "source": [
    "#### Type_of_meal_plan"
   ]
  },
  {
   "cell_type": "markdown",
   "id": "c86f3155",
   "metadata": {},
   "source": [
    "This variable explain the type of meal plan booked by the customer"
   ]
  },
  {
   "cell_type": "code",
   "execution_count": null,
   "id": "dc95a299",
   "metadata": {},
   "outputs": [],
   "source": [
    "plt.rcParams['figure.figsize'] = [5,5]\n",
    "\n",
    "df_hotel['type_of_meal_plan'].unique()"
   ]
  },
  {
   "cell_type": "code",
   "execution_count": null,
   "id": "689be2e0",
   "metadata": {},
   "outputs": [],
   "source": [
    "sns.countplot(df_hotel['type_of_meal_plan'].sort_values(),palette = colors)\n",
    "plt.title('Frequency of Type of Meal Plan')\n",
    "# plt.savefig(\"Frequency of Type of Meal Plan.jpeg\")\n",
    "\n",
    "for i,v in enumerate(df_hotel['type_of_meal_plan'].value_counts().sort_index()):\n",
    "    plt.text( x = i , y = v + 100, s = v, ha = 'center')\n",
    "    \n",
    "plt.savefig(\"Frequency of Type of Meal Plan.jpeg\")"
   ]
  },
  {
   "cell_type": "markdown",
   "id": "d93b828a",
   "metadata": {},
   "source": [
    "Inference:\n",
    "\n",
    "From above countplot it is clearly evident that meal plan 1 is prefered by most of the customers. It is followed by not selected and meal plan 2 with count of 5130 and 3305. Only a few customer prefer meal plan 3"
   ]
  },
  {
   "cell_type": "markdown",
   "id": "ac0974cd",
   "metadata": {},
   "source": [
    "#### Room_type_reserved"
   ]
  },
  {
   "cell_type": "markdown",
   "id": "8ab5aa2c",
   "metadata": {},
   "source": [
    "It explains the type of room reserved by the customer."
   ]
  },
  {
   "cell_type": "code",
   "execution_count": null,
   "id": "17d1139e",
   "metadata": {},
   "outputs": [],
   "source": [
    "sns.countplot(df_hotel['room_type_reserved'].sort_values(),palette= colors)\n",
    "plt.title('Frequency of Room Type Reserved')\n",
    "plt.xticks(rotation = 90)\n",
    "\n",
    "for i,v in enumerate(df_hotel['room_type_reserved'].value_counts().sort_index()):\n",
    "    plt.text( x = i , y = v + 300, s = v, ha = 'center')\n",
    "\n",
    "plt.savefig(\"Frequency of Room Type Reserved.jpeg\")"
   ]
  },
  {
   "cell_type": "code",
   "execution_count": null,
   "id": "24570d6f",
   "metadata": {
    "scrolled": true
   },
   "outputs": [],
   "source": [
    "df_hotel.groupby([\"room_type_reserved\"])[\"avg_price_per_room\"].mean()"
   ]
  },
  {
   "cell_type": "raw",
   "id": "5bd06a2a",
   "metadata": {},
   "source": [
    "Inference: \n",
    "\n",
    "Room type 1 is the most preferred type , second hightest is the room type 4.\n",
    "The average price for the room type 1 is ~$95"
   ]
  },
  {
   "cell_type": "markdown",
   "id": "562949ca",
   "metadata": {},
   "source": [
    "#### Market_segment_type"
   ]
  },
  {
   "cell_type": "markdown",
   "id": "af568920",
   "metadata": {},
   "source": [
    "The \"Market Segment\" refers to the designation or classification of the source of the booking made by the guest. It is a categorical variable that provides information about the type of customer or entity that made the reservation."
   ]
  },
  {
   "cell_type": "code",
   "execution_count": null,
   "id": "a700b120",
   "metadata": {},
   "outputs": [],
   "source": [
    "sns.countplot(df_hotel['market_segment_type'].sort_values(),palette= colors)\n",
    "plt.title('Count of Market Segment Type')\n",
    "plt.xticks(rotation = 45)\n",
    "\n",
    "for i,v in enumerate(df_hotel['market_segment_type'].value_counts().sort_index()):\n",
    "    plt.text( x = i , y = v + 200, s = v, ha = 'center')\n",
    "    \n",
    "plt.savefig('Count of Market Segment Type.jpeg')"
   ]
  },
  {
   "cell_type": "markdown",
   "id": "3ef0f322",
   "metadata": {},
   "source": [
    "Inference: \n",
    "\n",
    "From above plot it is clearly evident that customers who reserved rooms through online modes is higher compared to other modes of reservation.\n",
    "The industry is driven by the online bookings offlate, and more thoughts on the cancellation of online cancellation should be given a thought"
   ]
  },
  {
   "cell_type": "markdown",
   "id": "349fb5ee",
   "metadata": {},
   "source": [
    "#### No_of_adults"
   ]
  },
  {
   "cell_type": "markdown",
   "id": "3f356149",
   "metadata": {},
   "source": [
    "The \"number of adults\" refers to the number of guests over the age of 18 who will be occupying a hotel room"
   ]
  },
  {
   "cell_type": "code",
   "execution_count": null,
   "id": "f26651ca",
   "metadata": {},
   "outputs": [],
   "source": [
    "df_hotel['no_of_adults'].unique()"
   ]
  },
  {
   "cell_type": "code",
   "execution_count": null,
   "id": "180d946d",
   "metadata": {},
   "outputs": [],
   "source": [
    "sns.countplot(df_hotel['no_of_adults'].sort_values(),palette = colors)\n",
    "plt.title('Breakdown of No of Adults')\n",
    "\n",
    "for i,v in enumerate(df_hotel['no_of_adults'].value_counts().sort_index()):\n",
    "    plt.text( x = i , y = v + 200, s = v, ha = 'center')\n",
    "\n",
    "plt.savefig(\"Breakdown of No of Adults.jpeg\")"
   ]
  },
  {
   "cell_type": "raw",
   "id": "a67b0666",
   "metadata": {},
   "source": [
    "Inference : \n",
    "\n",
    "For the given data, the highest bookings has happened for the 2 adults."
   ]
  },
  {
   "cell_type": "markdown",
   "id": "1dc56d68",
   "metadata": {},
   "source": [
    "#### No_of_children"
   ]
  },
  {
   "cell_type": "markdown",
   "id": "d37907e7",
   "metadata": {},
   "source": [
    "The \"number of children\" refers to the number of guests below the age of 18 who will be occupying a hotel room"
   ]
  },
  {
   "cell_type": "code",
   "execution_count": null,
   "id": "3b6b07b3",
   "metadata": {},
   "outputs": [],
   "source": [
    "sns.countplot(df_hotel['no_of_children'].sort_values(),palette = colors)\n",
    "plt.title('Breakdown of No of Children')\n",
    "\n",
    "for i,v in enumerate(df_hotel['no_of_children'].value_counts().sort_index()):\n",
    "    plt.text( x = i , y = v + 350, s = v, ha = 'center')\n",
    "\n",
    "plt.savefig(\"Breakdown of No of Children.jpeg\")"
   ]
  },
  {
   "cell_type": "raw",
   "id": "52e18da0",
   "metadata": {},
   "source": [
    "Inference: \n",
    "The highest booking is done with zero kids, so it is clearly evident that the booking pattern is highest for 2 adults "
   ]
  },
  {
   "cell_type": "markdown",
   "id": "687f6b38",
   "metadata": {},
   "source": [
    "#### No_of_weekend_nights"
   ]
  },
  {
   "cell_type": "markdown",
   "id": "47e88efa",
   "metadata": {},
   "source": [
    "The \"no_of_weekend_nights\" variable refers to the number of weekend nights (i.e., Saturday, or Sunday nights) that a guest will be staying at the hotel as part of their reservation. "
   ]
  },
  {
   "cell_type": "code",
   "execution_count": null,
   "id": "68b9e930",
   "metadata": {},
   "outputs": [],
   "source": [
    "sns.countplot(df_hotel['no_of_weekend_nights'].sort_values(),palette = colors)\n",
    "plt.title('Frequency of No of Weekend Nights')\n",
    "\n",
    "for i,v in enumerate(df_hotel['no_of_weekend_nights'].value_counts().sort_index()):\n",
    "    plt.text( x = i , y = v + 350, s = v, ha = 'center')\n",
    "    \n",
    "plt.savefig(\"Frequency of No of Weekend Nights.jpeg\")"
   ]
  },
  {
   "cell_type": "raw",
   "id": "59082b3b",
   "metadata": {},
   "source": [
    "Inference : \n",
    "From the above plot it is claerly evident that, least of bookings has happened with 0 no of weekend nights"
   ]
  },
  {
   "cell_type": "markdown",
   "id": "fce34388",
   "metadata": {},
   "source": [
    "#### No_of_week_nights"
   ]
  },
  {
   "cell_type": "markdown",
   "id": "df3431b2",
   "metadata": {},
   "source": [
    "It is the number of weekday nights (i.e., Monday to Friday nights) that a guest will be staying at the hotel as part of their reservation."
   ]
  },
  {
   "cell_type": "code",
   "execution_count": null,
   "id": "4cd9534b",
   "metadata": {},
   "outputs": [],
   "source": [
    "sns.countplot(df_hotel['no_of_week_nights'].sort_values(),palette = colors)\n",
    "plt.title('Investigating the Frequency of No of Week Nights')\n",
    "\n",
    "for i,v in enumerate(df_hotel['no_of_week_nights'].value_counts().sort_index()):\n",
    "    plt.text( x = i , y = v + 150, s = v, ha = 'center')\n",
    "plt.savefig(\"Investigating the Frequency of No of Week Nights.jpeg\")"
   ]
  },
  {
   "cell_type": "raw",
   "id": "2595d202",
   "metadata": {},
   "source": [
    "Inference: \n",
    "\n",
    "From the above visuals it is clearly seen that the reservation for the weekday nights are most for 1- 3 days"
   ]
  },
  {
   "cell_type": "markdown",
   "id": "1d328231",
   "metadata": {},
   "source": [
    "#### Lead_time"
   ]
  },
  {
   "cell_type": "markdown",
   "id": "09fa8fe8",
   "metadata": {},
   "source": [
    "It is the amount of time between when a guest makes a reservation and when their planned arrival date at the hotel is. It is a measure of how much advance notice the hotel has before the guest arrives."
   ]
  },
  {
   "cell_type": "code",
   "execution_count": null,
   "id": "b558c407",
   "metadata": {},
   "outputs": [],
   "source": [
    "plt.rcParams[\"figure.figsize\"] = [8,5]\n",
    "sns.countplot(df_hotel['no_of_week_nights'].sort_values(),palette = colors)\n",
    "plt.title('Investigating the Frequency of Lead Time')\n",
    "\n",
    "for i,v in enumerate(df_hotel['no_of_week_nights'].value_counts().sort_index()):\n",
    "    plt.text( x = i , y = v + 150, s = v, ha = 'center')\n",
    "\n",
    "plt.savefig(\"Investigating the Frequency of Lead Time.jpeg\")"
   ]
  },
  {
   "cell_type": "raw",
   "id": "9b775063",
   "metadata": {},
   "source": [
    "Inference: \n",
    "\n",
    "The difference between the booking time and the arrival time is the lead time which has had a trend of 1 to 3 days prior booking, however there are outliers with a maximum of 418 days, which is almost an year prior arrival date."
   ]
  },
  {
   "cell_type": "markdown",
   "id": "1bf2dd38",
   "metadata": {},
   "source": [
    "#### Arrival_year"
   ]
  },
  {
   "cell_type": "markdown",
   "id": "cfb19184",
   "metadata": {},
   "source": [
    "\"Arrival year\" refers to the year in which a guest is scheduled to arrive for their reservation at a hotel. "
   ]
  },
  {
   "cell_type": "code",
   "execution_count": null,
   "id": "85beafa3",
   "metadata": {},
   "outputs": [],
   "source": [
    "plt.pie(df_hotel['arrival_year'].value_counts(), labels = df_hotel['arrival_year'].value_counts().index,\n",
    "        autopct = '%.2f%%', shadow = True, explode = [0.1,0.05],colors = colors)\n",
    "plt.title('Proportions of Bookings Yearly')\n",
    "\n",
    "\n",
    "plt.savefig(\"Proportions of Bookings Yearly.jpeg\")\n",
    "\n",
    "plt.show()"
   ]
  },
  {
   "cell_type": "markdown",
   "id": "44f2d056",
   "metadata": {},
   "source": [
    "Inference: \n",
    "The given data Set is dominated by the 2018 data, or the bookings have boosted high in the year 2018"
   ]
  },
  {
   "cell_type": "markdown",
   "id": "3ede36ad",
   "metadata": {},
   "source": [
    "#### Arrival_month"
   ]
  },
  {
   "cell_type": "markdown",
   "id": "6b583338",
   "metadata": {},
   "source": [
    "\"Arrival month\" refers to the month in which a guest is scheduled to arrive for their reservation at a hotel."
   ]
  },
  {
   "cell_type": "code",
   "execution_count": null,
   "id": "868fceb0",
   "metadata": {},
   "outputs": [],
   "source": [
    "plt.pie(df_hotel['arrival_month'].value_counts(), labels = df_hotel['arrival_month'].value_counts().index,\n",
    "        autopct = '%.1f%%', shadow = True,colors = colors )\n",
    "plt.title('Proportions of monthly bookings')\n",
    "\n",
    "plt.savefig('Proportions of monthly bookings.jpeg')\n",
    "plt.show()"
   ]
  },
  {
   "cell_type": "markdown",
   "id": "94fc4da5",
   "metadata": {},
   "source": [
    "Inference: \n",
    "8,9,10 has the highest no bookings. which is August, September and November. So in the financial year perspective 2nd and 3rd has the highest footfall / bookings\n",
    "There is a scope for feature engineering  for this column, to bin the months quarter wise or bin it season wise to establish better pattern with the target variable\n"
   ]
  },
  {
   "cell_type": "markdown",
   "id": "50bfaf6b",
   "metadata": {},
   "source": [
    "#### Repeated_guest"
   ]
  },
  {
   "cell_type": "markdown",
   "id": "b38e49ca",
   "metadata": {},
   "source": [
    "This variable explains whether a guest who made a hotel reservation has stayed at the same hotel before."
   ]
  },
  {
   "cell_type": "code",
   "execution_count": null,
   "id": "08a0c282",
   "metadata": {},
   "outputs": [],
   "source": [
    "plt.rcParams[\"figure.figsize\"] = [8,5]\n",
    "sns.countplot(df_hotel['repeated_guest'].sort_values(),palette = colors)\n",
    "plt.title('Frequency of Repeated Guest')\n",
    "\n",
    "for i,v in enumerate(df_hotel['repeated_guest'].value_counts().sort_index()):\n",
    "    plt.text( x = i , y = v + 150, s = v, ha = 'center')\n",
    "\n",
    "plt.savefig(\"Frequency of Repeated Guest.jpeg\")"
   ]
  },
  {
   "cell_type": "raw",
   "id": "7ed816ae",
   "metadata": {},
   "source": [
    "Inference :\n",
    "\n",
    "This hotel has a loyal customer base, and also scope for increasing the footfall of new users"
   ]
  },
  {
   "cell_type": "markdown",
   "id": "3a2039b4",
   "metadata": {},
   "source": [
    "#### No_of_previous_cancellations"
   ]
  },
  {
   "cell_type": "markdown",
   "id": "902e265b",
   "metadata": {},
   "source": [
    "\"No of previous cancellations\" refers to the number of times a guest has previously cancelled a reservation at the hotel"
   ]
  },
  {
   "cell_type": "code",
   "execution_count": null,
   "id": "e300b697",
   "metadata": {},
   "outputs": [],
   "source": [
    "sns.countplot(df_hotel['no_of_previous_cancellations'].sort_values(),palette = colors)\n",
    "plt.title('Breakdown of No of Previous Cancellations')\n",
    "\n",
    "for i,v in enumerate(df_hotel['no_of_previous_cancellations'].value_counts().sort_index()):\n",
    "    plt.text( x = i , y = v + 150, s = v, ha = 'center')\n",
    "    \n",
    "plt.savefig(\"Breakdown of No of Previous Cancellations.jpeg\")"
   ]
  },
  {
   "cell_type": "raw",
   "id": "507213f6",
   "metadata": {},
   "source": [
    "Inference : \n",
    "    \n",
    "From the history of bookings, it is clear that the previous bookings have been honoured duely by the customer base.\n",
    "This data clearly seems to have data imbalance."
   ]
  },
  {
   "cell_type": "markdown",
   "id": "942e11bf",
   "metadata": {},
   "source": [
    "#### Avg_price_per_room"
   ]
  },
  {
   "cell_type": "markdown",
   "id": "e08b3b70",
   "metadata": {},
   "source": [
    "Average price per day of the reservation; prices of the rooms are dynamic. (in Dollars)"
   ]
  },
  {
   "cell_type": "code",
   "execution_count": null,
   "id": "29b8624c",
   "metadata": {},
   "outputs": [],
   "source": [
    "sns.distplot(df_hotel['avg_price_per_room'], color = '#97C1A9')\n",
    "plt.title('Understanding the distribution of Average Price Per Room')\n",
    "plt.show()"
   ]
  },
  {
   "cell_type": "markdown",
   "id": "0e2bda20",
   "metadata": {},
   "source": [
    "#### No_of_special_requests"
   ]
  },
  {
   "cell_type": "markdown",
   "id": "a4e18d1e",
   "metadata": {},
   "source": [
    "The \"Number of special requests\" in the Hotel Reservations dataset refers to the number of additional services or special requests made by a guest when booking a hotel reservation. "
   ]
  },
  {
   "cell_type": "code",
   "execution_count": null,
   "id": "73ceb3f6",
   "metadata": {},
   "outputs": [],
   "source": [
    "sns.countplot(df_hotel['no_of_special_requests'].sort_values(),palette = colors)\n",
    "plt.title('Breakdown of No of Special Requests')\n",
    "\n",
    "for i,v in enumerate(df_hotel['no_of_special_requests'].value_counts().sort_index()):\n",
    "    plt.text( x = i , y = v + 150, s = v, ha = 'center')\n",
    "    \n",
    "plt.savefig('Breakdown of No of Special Requests.jpeg')"
   ]
  },
  {
   "cell_type": "code",
   "execution_count": null,
   "id": "8b01acb7",
   "metadata": {},
   "outputs": [],
   "source": [
    "round(df_hotel[\"no_of_special_requests\"].value_counts(normalize= True)*100)"
   ]
  },
  {
   "cell_type": "raw",
   "id": "a131561e",
   "metadata": {},
   "source": [
    "Inference: \n",
    "The data is highly positively skewed and there were no much ask for special requests as well ."
   ]
  },
  {
   "cell_type": "markdown",
   "id": "94ad0413",
   "metadata": {},
   "source": [
    "#### Booking_status"
   ]
  },
  {
   "cell_type": "markdown",
   "id": "0ec43669",
   "metadata": {},
   "source": [
    "Flag indicating if the booking was canceled or not. This is the target variable"
   ]
  },
  {
   "cell_type": "code",
   "execution_count": null,
   "id": "3c333118",
   "metadata": {},
   "outputs": [],
   "source": [
    "plt.pie(df_hotel['booking_status'].value_counts(), labels = df_hotel['booking_status'].value_counts().index,\n",
    "        autopct = '%.2f%%', shadow = True, explode = [0.05,0.025],colors = colors)\n",
    "plt.title('Distribution of Booking status')\n",
    "plt.savefig('Distribution of Booking status.jpeg')\n",
    "plt.show()\n"
   ]
  },
  {
   "cell_type": "markdown",
   "id": "64d207aa",
   "metadata": {},
   "source": [
    "From the above distribution it is clearly evident that there is class imbalance in the target variable"
   ]
  },
  {
   "cell_type": "markdown",
   "id": "24b514c5",
   "metadata": {},
   "source": [
    "### Bivariate Analysis"
   ]
  },
  {
   "cell_type": "markdown",
   "id": "c2f3d232",
   "metadata": {},
   "source": [
    "#### Avg_price_per_room vs Booking_status"
   ]
  },
  {
   "cell_type": "code",
   "execution_count": null,
   "id": "abe71373",
   "metadata": {},
   "outputs": [],
   "source": [
    "sns.barplot(x = df_hotel['booking_status'].sort_values(), y = df_hotel['avg_price_per_room'],palette= colors)\n",
    "plt.title('Examining the Variability of Average Price Per Room in Booking Status')\n",
    "\n",
    "for i,v in enumerate(round(df_hotel.groupby('booking_status')['avg_price_per_room'].mean(),2)):\n",
    "    plt.text(x = i , y = v + 2, s = v , ha = 'center')\n",
    "    \n",
    "plt.savefig(\"Examining the Variability of Average Price Per Room in Booking Status.jpeg\")"
   ]
  },
  {
   "cell_type": "raw",
   "id": "37b17070",
   "metadata": {},
   "source": [
    "Inference: \n",
    "The average booking costs for both cancelled and non - cancelled status are almost the same but the not cancelled comparatively has the a higher cost of booking    "
   ]
  },
  {
   "cell_type": "markdown",
   "id": "81159691",
   "metadata": {},
   "source": [
    "#### No_of_week_nights vs Booking_status"
   ]
  },
  {
   "cell_type": "code",
   "execution_count": null,
   "id": "e9e611c1",
   "metadata": {},
   "outputs": [],
   "source": [
    "sns.barplot(x = df_hotel['booking_status'].sort_values(), y = df_hotel['no_of_week_nights'],palette = colors)\n",
    "plt.title('Examining the Variability of No of Week Nights in Booking Status')\n",
    "\n",
    "for i,v in enumerate(round(df_hotel.groupby('booking_status')['no_of_week_nights'].mean(),2)):\n",
    "    plt.text(x = i , y = v , s = v , ha = 'center')\n",
    "    \n",
    "plt.savefig('Examining the Variability of No of Week Nights in Booking Status.jpeg')"
   ]
  },
  {
   "cell_type": "markdown",
   "id": "3da384a6",
   "metadata": {},
   "source": [
    "Inference: \n",
    "This plot can help us visualize how booking status varies with the length of the stay. For example, we might find that bookings with longer weeknight stays are more likely to result in a cancellation"
   ]
  },
  {
   "cell_type": "markdown",
   "id": "1d50b3e4",
   "metadata": {},
   "source": [
    "#### No_of_adults vs Booking_status"
   ]
  },
  {
   "cell_type": "code",
   "execution_count": null,
   "id": "3f92f87f",
   "metadata": {},
   "outputs": [],
   "source": [
    "sns.barplot(x = df_hotel['booking_status'].sort_values(), y = df_hotel['no_of_adults'], palette = colors)\n",
    "plt.title('Examining the Variability of No of Adults in Booking Status')\n",
    "\n",
    "for i,v in enumerate(round(df_hotel.groupby('booking_status')['no_of_adults'].mean())):\n",
    "    plt.text(x = i , y = v - 0.5, s = v , ha = 'center')\n",
    "    \n",
    "plt.savefig('Examining the Variability of No of Adults in Booking Status.jpeg')"
   ]
  },
  {
   "cell_type": "markdown",
   "id": "863ad4ab",
   "metadata": {},
   "source": [
    "#### Type_of_meal_plan vs Booking_status"
   ]
  },
  {
   "cell_type": "code",
   "execution_count": null,
   "id": "68e098b8",
   "metadata": {},
   "outputs": [],
   "source": [
    "sns.countplot(x = df_hotel['type_of_meal_plan'] , hue = df_hotel['booking_status'],palette = colors)\n",
    "plt.title('Describing the Count of Type of Meal Plan by Booking Status')\n",
    "plt.savefig('Describing the Count of Type of Meal Plan by Booking Status.jpeg')\n",
    "plt.show()"
   ]
  },
  {
   "cell_type": "raw",
   "id": "eff83967",
   "metadata": {},
   "source": [
    "Inference: \n",
    "The meal plan 3 has merely been chosen by the customers, meal plan 1 is the mostfrequently asked for type."
   ]
  },
  {
   "cell_type": "markdown",
   "id": "185ad5e0",
   "metadata": {},
   "source": [
    "#### Repeated_guest vs Booking_status"
   ]
  },
  {
   "cell_type": "code",
   "execution_count": null,
   "id": "8960a065",
   "metadata": {},
   "outputs": [],
   "source": [
    "sns.countplot(x = df_hotel['repeated_guest'] , hue = df_hotel['booking_status'],palette = colors)\n",
    "plt.title('Describing the Count of Repeated Guests by Booking Status')\n",
    "plt.savefig(\"Describing the Count of Repeated Guests by Booking Status.jpeg\")\n",
    "plt.show()"
   ]
  },
  {
   "cell_type": "markdown",
   "id": "84a03b64",
   "metadata": {},
   "source": [
    "#### No_of_weekend_nights vs Booking_status"
   ]
  },
  {
   "cell_type": "code",
   "execution_count": null,
   "id": "3deaafbe",
   "metadata": {},
   "outputs": [],
   "source": [
    "sns.barplot(x = df_hotel['booking_status'] , y = df_hotel['no_of_weekend_nights'],palette = colors)\n",
    "plt.title('Examining the Variability of No of Weekend Nights in Booking Status')\n",
    "\n",
    "for i,v in enumerate(round(df_hotel.groupby('booking_status')['no_of_weekend_nights'].mean())):\n",
    "    plt.text(x = i , y = v - 0.2, s = v , ha = 'center')\n",
    "\n",
    "plt.savefig(\"Examining the Variability of No of Weekend Nights in Booking Status.jpeg\")"
   ]
  },
  {
   "cell_type": "markdown",
   "id": "55233b9c",
   "metadata": {},
   "source": [
    "#### Room_type_reserved vs Booking_status"
   ]
  },
  {
   "cell_type": "code",
   "execution_count": null,
   "id": "aafaa30d",
   "metadata": {},
   "outputs": [],
   "source": [
    "sns.countplot(x = df_hotel['room_type_reserved'] , hue = df_hotel['booking_status'],palette = colors)\n",
    "plt.title('Describing the Count of Room Type Reserved by Booking Status')\n",
    "plt.savefig(\"Describing the Count of Room Type Reserved by Booking Status.jpeg\")\n",
    "plt.show()"
   ]
  },
  {
   "cell_type": "markdown",
   "id": "33aae68e",
   "metadata": {},
   "source": [
    "#### Required_car_parking_space vs Avg_price_per_room"
   ]
  },
  {
   "cell_type": "code",
   "execution_count": null,
   "id": "5fec4cd2",
   "metadata": {},
   "outputs": [],
   "source": [
    "sns.barplot(x = df_hotel['required_car_parking_space'] , y = df_hotel['avg_price_per_room'],palette = colors)\n",
    "plt.title('Examining the Variability of Average Price Per Room in Required Car Parking Space')\n",
    "\n",
    "for i,v in enumerate(round(df_hotel.groupby('required_car_parking_space')['avg_price_per_room'].mean(),2)):\n",
    "    plt.text(x = i , y = v + 3, s = v , ha = 'center')\n",
    "    \n",
    "plt.savefig(\"Examining the Variability of Average Price Per Room in Required Car Parking Space.jpeg\")"
   ]
  },
  {
   "cell_type": "raw",
   "id": "e7749a89",
   "metadata": {},
   "source": [
    "Inference: The average price of the room is significantly higher for those with the request of car parking space "
   ]
  },
  {
   "cell_type": "markdown",
   "id": "e21c1e5d",
   "metadata": {},
   "source": [
    "#### Type_of_meal_plan vs Avg_price_per_room"
   ]
  },
  {
   "cell_type": "code",
   "execution_count": null,
   "id": "61b710be",
   "metadata": {},
   "outputs": [],
   "source": [
    "sns.barplot(x = df_hotel['type_of_meal_plan'].sort_values() , y = df_hotel['avg_price_per_room'],palette = colors)\n",
    "plt.title('Examining the Variability of Average Price Per Room in Type of Meal Plan')\n",
    "\n",
    "for i,v in enumerate(round(df_hotel.groupby('type_of_meal_plan')['avg_price_per_room'].mean(),2)):\n",
    "    plt.text(x = i , y = v + 3, s = v , ha = 'center')\n",
    "    \n",
    "plt.savefig(\"Examining the Variability of Average Price Per Room in Type of Meal Plan.jpeg\")"
   ]
  },
  {
   "cell_type": "raw",
   "id": "95cd50c6",
   "metadata": {},
   "source": [
    "Inference: Average price of meal plan 2 category is the highest of all and meal plan 1 and not selected meal plan has almost similar pricing pattern, whereas the meal plann 3 has the lowest price"
   ]
  },
  {
   "cell_type": "markdown",
   "id": "341273e8",
   "metadata": {},
   "source": [
    "#### Market_segment_type vs Booking_status"
   ]
  },
  {
   "cell_type": "code",
   "execution_count": null,
   "id": "bc2ce880",
   "metadata": {},
   "outputs": [],
   "source": [
    "sns.countplot(x = df_hotel['market_segment_type'] , hue = df_hotel['booking_status'],palette = colors)\n",
    "plt.title('Comparison of Market Segment Type by Booking Status')\n",
    "plt.savefig(\"Comparison of Market Segment Type by Booking Status.jpeg\")\n",
    "plt.show()"
   ]
  },
  {
   "cell_type": "raw",
   "id": "7c43cd14",
   "metadata": {},
   "source": [
    "Inference: Out of all the markets the online has the highest booking as well as the cancellations, while offline bookings have a better non cancelled proportions"
   ]
  },
  {
   "cell_type": "markdown",
   "id": "11325778",
   "metadata": {},
   "source": [
    "#### No_of_week_nights vs Avg_price_per_room"
   ]
  },
  {
   "cell_type": "code",
   "execution_count": null,
   "id": "d9154cde",
   "metadata": {},
   "outputs": [],
   "source": [
    "sns.scatterplot(x = df_hotel['no_of_week_nights'], y = df_hotel['avg_price_per_room'])\n",
    "plt.title('Visualizing the Spread of Average Price Per Room in No of Week Nights')\n",
    "plt.savefig('Visualizing the Spread of Average Price Per Room in No of Week Nights.jpeg')\n",
    "plt.show()"
   ]
  },
  {
   "cell_type": "markdown",
   "id": "4551a9f2",
   "metadata": {},
   "source": [
    "#### No_of_weekend_nights vs Avg_price_per_room"
   ]
  },
  {
   "cell_type": "code",
   "execution_count": null,
   "id": "aa471a07",
   "metadata": {},
   "outputs": [],
   "source": [
    "sns.scatterplot(x = df_hotel['no_of_weekend_nights'], y = df_hotel['avg_price_per_room'])\n",
    "plt.title('Visualizing the Spread of Average Price Per Room in No of Weekend Nights')\n",
    "plt.savefig('Visualizing the Spread of Average Price Per Room in No of Weekend Nights.jpeg')\n",
    "plt.show()"
   ]
  },
  {
   "cell_type": "markdown",
   "id": "6ea3d13e",
   "metadata": {},
   "source": [
    "### Multivariate Analysis"
   ]
  },
  {
   "cell_type": "markdown",
   "id": "6fa9eb9e",
   "metadata": {},
   "source": [
    "#### Type_of_meal_plan vs Avg_price_per_room vs Booking_status"
   ]
  },
  {
   "cell_type": "code",
   "execution_count": null,
   "id": "2154563f",
   "metadata": {},
   "outputs": [],
   "source": [
    "sns.barplot(x = df_hotel['type_of_meal_plan'].sort_values() , y = df_hotel['avg_price_per_room'], \n",
    "           hue = df_hotel['booking_status'].sort_values(), palette = colors)\n",
    "\n",
    "plt.title('Exploring the Interactions among Type of Meal Plan , Average Price Per Room , Booking Status')\n",
    "\n",
    "for i,v in enumerate(round(df_hotel.groupby(['type_of_meal_plan','booking_status']\n",
    "                                           )['avg_price_per_room'].mean(),2).sort_index()):\n",
    "    plt.text(x = i-i/2 - 0.2, y = v + 3, s = v , ha = 'center')\n",
    "    \n",
    "plt.savefig('Exploring the Interactions among Type of Meal Plan , Average Price Per Room , Booking Status.jpeg')"
   ]
  },
  {
   "cell_type": "raw",
   "id": "8e8eb4a5",
   "metadata": {},
   "source": [
    "Innference:"
   ]
  },
  {
   "cell_type": "markdown",
   "id": "83387ec9",
   "metadata": {},
   "source": [
    "#### Room_type_reserved vs Avg_price_per_room vs Booking_status"
   ]
  },
  {
   "cell_type": "code",
   "execution_count": null,
   "id": "4962d4a3",
   "metadata": {},
   "outputs": [],
   "source": [
    "sns.barplot(x = df_hotel['room_type_reserved'].sort_values() , y = df_hotel['avg_price_per_room'], \n",
    "           hue = df_hotel['booking_status'].sort_values(), palette = colors)\n",
    "\n",
    "plt.title('Exploring the Interactions among Room Type Reserved , Average Price Per Room , Booking Status')\n",
    "\n",
    "for i,v in enumerate(round(df_hotel.groupby(['room_type_reserved','booking_status']\n",
    "                                           )['avg_price_per_room'].mean(),2).sort_index()):\n",
    "    plt.text(x = i-i/2 - 0.2, y = v + 3, s = v , ha = 'center')\n",
    "    \n",
    "plt.savefig('Exploring the Interactions among Room Type Reserved , Average Price Per Room , Booking Status.jpeg')"
   ]
  },
  {
   "cell_type": "raw",
   "id": "29a5ed52",
   "metadata": {},
   "source": [
    "Inference"
   ]
  },
  {
   "cell_type": "markdown",
   "id": "a80b2147",
   "metadata": {},
   "source": [
    "#### Market_segment_type vs Avg_price_per_room vs Booking_status"
   ]
  },
  {
   "cell_type": "code",
   "execution_count": null,
   "id": "62876014",
   "metadata": {},
   "outputs": [],
   "source": [
    "sns.barplot(x = df_hotel['market_segment_type'], y = df_hotel['avg_price_per_room'], hue = df_hotel['booking_status'], \n",
    "            palette = colors)\n",
    "plt.title('Examining the Predictive Power of Market Segment Type and Average Price Per Room on Booking_status')\n",
    "plt.savefig('Examining the Predictive Power of Market Segment Type and Average Price Per Room on Booking_status.jpeg')\n",
    "plt.show()"
   ]
  },
  {
   "cell_type": "raw",
   "id": "d7d1dae8",
   "metadata": {},
   "source": [
    "Inference:"
   ]
  },
  {
   "cell_type": "markdown",
   "id": "fc687171",
   "metadata": {},
   "source": [
    "#### Room_type_reserved vs No_of_weekend_nights vs Booking_status"
   ]
  },
  {
   "cell_type": "code",
   "execution_count": null,
   "id": "31957477",
   "metadata": {},
   "outputs": [],
   "source": [
    "sns.barplot(x = df_hotel['room_type_reserved'].sort_values() , y = df_hotel['no_of_weekend_nights'], \n",
    "           hue = df_hotel['booking_status'].sort_values(), palette = colors)\n",
    "\n",
    "plt.title('Examining the Predictive Power of Room Type Reserved and No of Weekend Nights on Booking_status')\n",
    "\n",
    "for i,v in enumerate(round(df_hotel.groupby(['room_type_reserved','booking_status']\n",
    "                                           )['no_of_weekend_nights'].mean(),2).sort_index()):\n",
    "    plt.text(x = i-i/2 - 0.2, y = v + 0.05, s = v , ha = 'center')\n",
    "    \n",
    "plt.savefig('Examining the Predictive Power of Room Type Reserved and No of Weekend Nights on Booking_status.jpeg')"
   ]
  },
  {
   "cell_type": "raw",
   "id": "a8556d53",
   "metadata": {},
   "source": [
    "Inference:"
   ]
  },
  {
   "cell_type": "markdown",
   "id": "d446f7ca",
   "metadata": {},
   "source": [
    "#### Room_type_reserved vs No_of_week_nights vs Booking_status"
   ]
  },
  {
   "cell_type": "code",
   "execution_count": null,
   "id": "7000d563",
   "metadata": {},
   "outputs": [],
   "source": [
    "sns.barplot(x = df_hotel['room_type_reserved'].sort_values() , y = df_hotel['no_of_week_nights'], \n",
    "           hue = df_hotel['booking_status'].sort_values(), palette = colors)\n",
    "\n",
    "plt.title('Exploring the Interactions among Room Type Reserved , No of Week Nights , Booking_status')\n",
    "\n",
    "for i,v in enumerate(round(df_hotel.groupby(['room_type_reserved','booking_status']\n",
    "                                           )['no_of_week_nights'].mean(),2).sort_index()):\n",
    "    plt.text(x = i-i/2 - 0.2, y = v + 0.05, s = v , ha = 'center')\n",
    "    \n",
    "plt.savefig('Exploring the Interactions among Room Type Reserved , No of Week Nights , Booking_status.jpeg')"
   ]
  },
  {
   "cell_type": "raw",
   "id": "add194fd",
   "metadata": {},
   "source": [
    "Inference:"
   ]
  },
  {
   "cell_type": "markdown",
   "id": "27d0f70b",
   "metadata": {},
   "source": [
    "#### Repeated_guest vs No_of_weekend_nights vs Booking_status"
   ]
  },
  {
   "cell_type": "code",
   "execution_count": null,
   "id": "04e60b44",
   "metadata": {},
   "outputs": [],
   "source": [
    "sns.barplot(x = df_hotel['repeated_guest'].sort_values() , y = df_hotel['no_of_weekend_nights'], \n",
    "           hue = df_hotel['booking_status'].sort_values(), palette = colors)\n",
    "\n",
    "plt.title('Exploring the Interactions among Repeated Guest , No of Weekend Nights , Booking_status')\n",
    "\n",
    "for i,v in enumerate(round(df_hotel.groupby(['repeated_guest','booking_status']\n",
    "                                           )['no_of_weekend_nights'].mean(),2).sort_index()):\n",
    "    plt.text(x = i-i/2 - 0.2, y = v + 0.05, s = v , ha = 'center')\n",
    "\n",
    "plt.savefig('Exploring the Interactions among Repeated Guest , No of Weekend Nights , Booking_status.jpeg')"
   ]
  },
  {
   "cell_type": "markdown",
   "id": "b34a93c9",
   "metadata": {},
   "source": [
    "#### No_of_week_nights vs Avg_price_per_room vs Booking_status"
   ]
  },
  {
   "cell_type": "code",
   "execution_count": null,
   "id": "e21217fe",
   "metadata": {},
   "outputs": [],
   "source": [
    "sns.scatterplot(x = df_hotel['no_of_week_nights'] , y = df_hotel['avg_price_per_room'], \n",
    "                hue = df_hotel['booking_status'])\n",
    "\n",
    "plt.title('Visualizing the Spread of No of Week Nights and Average Price Per Room on Booking Status')\n",
    "plt.savefig('Visualizing the Spread of No of Week Nights and Average Price Per Room on Booking Status.jpeg')\n",
    "\n",
    "plt.show()"
   ]
  },
  {
   "cell_type": "markdown",
   "id": "2dc5e37a",
   "metadata": {},
   "source": [
    "#### No_of_weekend_nights vs Avg_price_per_room vs Booking_status"
   ]
  },
  {
   "cell_type": "code",
   "execution_count": null,
   "id": "51a5f9b4",
   "metadata": {},
   "outputs": [],
   "source": [
    "sns.scatterplot(x = df_hotel['no_of_weekend_nights'] , y = df_hotel['avg_price_per_room'], hue = df_hotel['booking_status'])\n",
    "plt.title('Visualizing the Spread of No of Weekend Nights and Average Price Per Room on Booking Status')\n",
    "plt.savefig('Visualizing the Spread of No of Weekend Nights and Average Price Per Room on Booking Status.jpeg')\n",
    "plt.show()"
   ]
  },
  {
   "cell_type": "code",
   "execution_count": null,
   "id": "78427365",
   "metadata": {},
   "outputs": [],
   "source": [
    "plt.rcParams[\"figure.figsize\"] = [15,10]\n",
    "sns.heatmap(df_hotel.corr(), annot = True, cmap = \"Blues\" , mask = np.triu(df_hotel.corr()))\n",
    "plt.title('Correlation Heatmap')\n",
    "plt.savefig('Correlation Heatmap.jpeg')\n",
    "plt.show()"
   ]
  },
  {
   "cell_type": "raw",
   "id": "c9909f2a",
   "metadata": {},
   "source": [
    "Inference: \n",
    "    \n",
    "From the correlation matrix it is found that not much of the independent variable has correlation with each other.\n",
    "Hence no multicollinearity in between the predictor variables.\n",
    "Highest correlation exist between \"no of prev bookings not cancelled, and repeated_guest, no of prev cancellations\""
   ]
  },
  {
   "cell_type": "markdown",
   "id": "1c05ff9e",
   "metadata": {},
   "source": [
    "### Performing hypothesis testing to find the significant variables"
   ]
  },
  {
   "cell_type": "markdown",
   "id": "da184337",
   "metadata": {},
   "source": [
    "Hypothesis :\n",
    "\n",
    "H0 : There is no significant relationship between the dependent and independent variable\n",
    "\n",
    "Ha : There is significant relationship between the dependent and independent variable\n",
    "\n",
    "Significance level :\n",
    "\n",
    "Considering significance level as 0.05"
   ]
  },
  {
   "cell_type": "code",
   "execution_count": null,
   "id": "1082c73d",
   "metadata": {},
   "outputs": [],
   "source": [
    "# No_of_adults is a numerical column and Booking_status is categorical column.\n",
    "# Numerical vs Categorical - f_oneway test\n",
    "\n",
    "stats.f_oneway(df_hotel['no_of_adults'],df_hotel['booking_status'])"
   ]
  },
  {
   "cell_type": "markdown",
   "id": "3d2fcd58",
   "metadata": {},
   "source": [
    "since pvalue is less than significance level, reject H0. There is significant relationship between no of adults and booking status"
   ]
  },
  {
   "cell_type": "code",
   "execution_count": null,
   "id": "04101e06",
   "metadata": {},
   "outputs": [],
   "source": [
    "# No_of_children is a numerical column and Booking_status is categorical column.\n",
    "# Numerical vs Categorical - f_oneway test\n",
    "\n",
    "stats.f_oneway(df_hotel['no_of_children'],df_hotel['booking_status'])"
   ]
  },
  {
   "cell_type": "markdown",
   "id": "08e1fe0f",
   "metadata": {},
   "source": [
    "since pvalue is less than significance level, reject H0. There is significant relationship between no_of_children and booking status"
   ]
  },
  {
   "cell_type": "code",
   "execution_count": null,
   "id": "0a8d27ff",
   "metadata": {},
   "outputs": [],
   "source": [
    "# No_of_weekend_nights is a numerical column and Booking_status is categorical column.\n",
    "# Numerical vs Categorical - f_oneway test\n",
    "\n",
    "stats.f_oneway(df_hotel['no_of_weekend_nights'],df_hotel['booking_status'])"
   ]
  },
  {
   "cell_type": "markdown",
   "id": "001c08ff",
   "metadata": {},
   "source": [
    "since pvalue is less than significance level, reject H0. There is significant relationship between no_of_weekend_nights and booking status"
   ]
  },
  {
   "cell_type": "code",
   "execution_count": null,
   "id": "55acb6f4",
   "metadata": {},
   "outputs": [],
   "source": [
    "# No_of_week_nights is a numerical column and Booking_status is categorical column.\n",
    "# Numerical vs Categorical - f_oneway test\n",
    "\n",
    "stats.f_oneway(df_hotel['no_of_week_nights'],df_hotel['booking_status'])"
   ]
  },
  {
   "cell_type": "markdown",
   "id": "7d6f5d19",
   "metadata": {},
   "source": [
    "since pvalue is less than significance level, reject H0. There is significant relationship between no_of_week_nights and booking status"
   ]
  },
  {
   "cell_type": "code",
   "execution_count": null,
   "id": "c2ba695d",
   "metadata": {},
   "outputs": [],
   "source": [
    "# Type_of_meal_plan is a categorical column and Booking_status is categorical column.\n",
    "# Categorical vs Categorical - chi2_contingency test\n",
    "\n",
    "ge = pd.crosstab(df_hotel['type_of_meal_plan'], df_hotel['booking_status'])\n",
    "\n",
    "stats.chi2_contingency(ge)"
   ]
  },
  {
   "cell_type": "markdown",
   "id": "0fe2247a",
   "metadata": {},
   "source": [
    "since pvalue is less than significance level, reject H0. There is significant relationship between type_of_meal_plan and booking status"
   ]
  },
  {
   "cell_type": "code",
   "execution_count": null,
   "id": "0b9d52a1",
   "metadata": {},
   "outputs": [],
   "source": [
    "# Required_car_parking_space is a categorical column and Booking_status is categorical column.\n",
    "# Categorical vs Categorical - chi2_contingency test\n",
    "\n",
    "ge = pd.crosstab(df_hotel['required_car_parking_space'], df_hotel['booking_status'])\n",
    "\n",
    "stats.chi2_contingency(ge)"
   ]
  },
  {
   "cell_type": "markdown",
   "id": "d55feda7",
   "metadata": {},
   "source": [
    "since pvalue is less than significance level, reject H0. There is significant relationship between required_car_parking_space and booking status"
   ]
  },
  {
   "cell_type": "code",
   "execution_count": null,
   "id": "7df1321b",
   "metadata": {},
   "outputs": [],
   "source": [
    "# Room_type_reserved is a categorical column and Booking_status is categorical column.\n",
    "# Categorical vs Categorical - chi2_contingency test\n",
    "\n",
    "ge = pd.crosstab(df_hotel['room_type_reserved'], df_hotel['booking_status'])\n",
    "\n",
    "stats.chi2_contingency(ge)"
   ]
  },
  {
   "cell_type": "markdown",
   "id": "f85a879d",
   "metadata": {},
   "source": [
    "since pvalue is less than significance level, reject H0. There is significant relationship between room_type_reserved and booking status"
   ]
  },
  {
   "cell_type": "code",
   "execution_count": null,
   "id": "bbb350be",
   "metadata": {},
   "outputs": [],
   "source": [
    "# Lead_time is a numerical column and Booking_status is categorical column.\n",
    "# Numerical vs Categorical - f_oneway test\n",
    "\n",
    "stats.f_oneway(df_hotel['lead_time'],df_hotel['booking_status'])"
   ]
  },
  {
   "cell_type": "markdown",
   "id": "1c00413c",
   "metadata": {},
   "source": [
    "since pvalue is less than significance level, reject H0. There is significant relationship between lead_time and booking status"
   ]
  },
  {
   "cell_type": "code",
   "execution_count": null,
   "id": "3cbddf4a",
   "metadata": {},
   "outputs": [],
   "source": [
    "# Market_segment_type is a categorical column and Booking_status is categorical column.\n",
    "# Categorical vs Categorical - chi2_contingency test\n",
    "\n",
    "ge = pd.crosstab(df_hotel['market_segment_type'], df_hotel['booking_status'])\n",
    "\n",
    "stats.chi2_contingency(ge)"
   ]
  },
  {
   "cell_type": "markdown",
   "id": "131329c9",
   "metadata": {},
   "source": [
    "since pvalue is less than significance level, reject H0. There is significant relationship between market_segment_type and booking status"
   ]
  },
  {
   "cell_type": "code",
   "execution_count": null,
   "id": "8b4e246d",
   "metadata": {},
   "outputs": [],
   "source": [
    "# Repeated_guest is a categorical column and Booking_status is categorical column.\n",
    "# Categorical vs Categorical - chi2_contingency test\n",
    "\n",
    "ge = pd.crosstab(df_hotel['repeated_guest'], df_hotel['booking_status'])\n",
    "\n",
    "stats.chi2_contingency(ge)"
   ]
  },
  {
   "cell_type": "markdown",
   "id": "265bec22",
   "metadata": {},
   "source": [
    "since pvalue is less than significance level, reject H0. There is significant relationship between repeated_guest and booking status"
   ]
  },
  {
   "cell_type": "code",
   "execution_count": null,
   "id": "945d91a5",
   "metadata": {},
   "outputs": [],
   "source": [
    "# No_of_previous_cancellations is a numerical column and Booking_status is categorical column.\n",
    "# Numerical vs Categorical - f_oneway test\n",
    "\n",
    "stats.f_oneway(df_hotel['no_of_previous_cancellations'],df_hotel['booking_status'])"
   ]
  },
  {
   "cell_type": "markdown",
   "id": "1ad05f99",
   "metadata": {},
   "source": [
    "since pvalue is less than significance level, reject H0. There is significant relationship between no_of_previous_cancellations and booking status"
   ]
  },
  {
   "cell_type": "code",
   "execution_count": null,
   "id": "72d46f8d",
   "metadata": {},
   "outputs": [],
   "source": [
    "# No_of_previous_bookings_not_canceled is a numerical column and Booking_status is categorical column.\n",
    "# Numerical vs Categorical - f_oneway test\n",
    "\n",
    "stats.f_oneway(df_hotel['no_of_previous_bookings_not_canceled'],df_hotel['booking_status'])"
   ]
  },
  {
   "cell_type": "markdown",
   "id": "8ba3c210",
   "metadata": {},
   "source": [
    "since pvalue is less than significance level, reject H0. There is significant relationship between no_of_previous_bookings_not_canceled and booking status"
   ]
  },
  {
   "cell_type": "code",
   "execution_count": null,
   "id": "32213d33",
   "metadata": {},
   "outputs": [],
   "source": [
    "# Avg_price_per_room is a numerical column and Booking_status is categorical column.\n",
    "# Numerical vs Categorical - f_oneway test\n",
    "\n",
    "stats.f_oneway(df_hotel['avg_price_per_room'],df_hotel['booking_status'])"
   ]
  },
  {
   "cell_type": "markdown",
   "id": "b373f6d3",
   "metadata": {},
   "source": [
    "since pvalue is less than significance level, reject H0. There is significant relationship between avg_price_per_room and booking status"
   ]
  },
  {
   "cell_type": "code",
   "execution_count": null,
   "id": "40f913cf",
   "metadata": {},
   "outputs": [],
   "source": [
    "# No_of_special_requets is a numerical column and Booking_status is categorical column.\n",
    "# Numerical vs Categorical - f_oneway test\n",
    "\n",
    "stats.f_oneway(df_hotel['no_of_special_requests'],df_hotel['booking_status'])"
   ]
  },
  {
   "cell_type": "markdown",
   "id": "8d4c03f0",
   "metadata": {},
   "source": [
    "since pvalue is less than significance level, reject H0. There is significant relationship between no_of_special_requests and booking status"
   ]
  },
  {
   "cell_type": "markdown",
   "id": "a0452f48",
   "metadata": {},
   "source": [
    "###### Insights from statistical tests\n",
    "From above performed statistical tests we can conclude that none of the columns has failed to reject null hypotheses which means none of the columns are insignificant to the target variable booking_status. At this stage we cant drop any variable. On further progress after building few models and checking for their metrics if the performance is considerably low we can drop some columns based on the feature_importance score."
   ]
  },
  {
   "cell_type": "raw",
   "id": "40bd7781",
   "metadata": {},
   "source": [
    "Note : \n",
    "\n",
    "Arrival Date, arrival month , arrival year are the date features which are held for feature engineering. However for base model none of these columns were removed or treated."
   ]
  },
  {
   "cell_type": "markdown",
   "id": "21ae2e35",
   "metadata": {},
   "source": [
    "### Splitting the dataset randomly into train and test dataset using ratio of 70:30 "
   ]
  },
  {
   "cell_type": "code",
   "execution_count": 14,
   "id": "9053e34c",
   "metadata": {},
   "outputs": [],
   "source": [
    "df_hotel = df_hotel.drop(columns=\"arrival_year\")"
   ]
  },
  {
   "cell_type": "code",
   "execution_count": 15,
   "id": "57e4294e",
   "metadata": {},
   "outputs": [],
   "source": [
    "x = df_hotel.drop(columns= 'booking_status')\n",
    "y = df_hotel[\"booking_status\"]"
   ]
  },
  {
   "cell_type": "code",
   "execution_count": 16,
   "id": "91986938",
   "metadata": {},
   "outputs": [],
   "source": [
    "xtrain , xtest , ytrain , ytest = train_test_split(x, y, test_size = 0.30, random_state = 7, stratify=y)"
   ]
  },
  {
   "cell_type": "markdown",
   "id": "12b9ac87",
   "metadata": {},
   "source": [
    "### Checking and treating of outliers¶"
   ]
  },
  {
   "cell_type": "code",
   "execution_count": 17,
   "id": "4b8a8bd5",
   "metadata": {},
   "outputs": [],
   "source": [
    "plt.rcParams[\"figure.figsize\"] = [8,5]"
   ]
  },
  {
   "cell_type": "code",
   "execution_count": 18,
   "id": "389b93e1",
   "metadata": {},
   "outputs": [
    {
     "data": {
      "text/plain": [
       "['no_of_adults',\n",
       " 'no_of_children',\n",
       " 'no_of_weekend_nights',\n",
       " 'no_of_week_nights',\n",
       " 'lead_time',\n",
       " 'no_of_previous_cancellations',\n",
       " 'no_of_previous_bookings_not_canceled',\n",
       " 'avg_price_per_room']"
      ]
     },
     "execution_count": 18,
     "metadata": {},
     "output_type": "execute_result"
    }
   ],
   "source": [
    "num_cols = ['no_of_adults','no_of_children','no_of_weekend_nights','no_of_week_nights','lead_time',\n",
    "            'no_of_previous_cancellations','no_of_previous_bookings_not_canceled','avg_price_per_room']\n",
    "num_cols"
   ]
  },
  {
   "cell_type": "markdown",
   "id": "1b5ac676",
   "metadata": {},
   "source": [
    "For Train Data "
   ]
  },
  {
   "cell_type": "code",
   "execution_count": 19,
   "id": "24a68734",
   "metadata": {},
   "outputs": [
    {
     "data": {
      "image/png": "[encoded data removed]",
      "text/plain": [
       "<Figure size 800x500 with 8 Axes>"
      ]
     },
     "metadata": {},
     "output_type": "display_data"
    }
   ],
   "source": [
    "f,ax = plt.subplots(2,4)\n",
    "for i, v in zip(num_cols, ax.flatten()):\n",
    "    sns.boxplot(y = xtrain[i], ax = v)\n",
    "    \n",
    "plt.tight_layout()\n",
    "plt.show()"
   ]
  },
  {
   "cell_type": "markdown",
   "id": "9d307a19",
   "metadata": {},
   "source": [
    "For Test Data "
   ]
  },
  {
   "cell_type": "code",
   "execution_count": 20,
   "id": "3eece607",
   "metadata": {},
   "outputs": [
    {
     "data": {
      "image/png": "[encoded data removed]",
      "text/plain": [
       "<Figure size 800x500 with 8 Axes>"
      ]
     },
     "metadata": {},
     "output_type": "display_data"
    }
   ],
   "source": [
    "f,ax = plt.subplots(2,4)\n",
    "for i, v in zip(num_cols, ax.flatten()):\n",
    "    sns.boxplot(y = xtest[i], ax = v)\n",
    "    \n",
    "plt.tight_layout()\n",
    "plt.show()"
   ]
  },
  {
   "cell_type": "markdown",
   "id": "4f77e03c",
   "metadata": {},
   "source": [
    "From the above it is clearly evident that there are outliers in both train annd test data. By doin IQR we tend to lose data, therefore we proceed to do Power Transformer."
   ]
  },
  {
   "cell_type": "code",
   "execution_count": 21,
   "id": "855879c8",
   "metadata": {},
   "outputs": [],
   "source": [
    "out_cols =['no_of_adults','no_of_children','no_of_weekend_nights','no_of_week_nights','lead_time',\n",
    "            'no_of_previous_cancellations','no_of_previous_bookings_not_canceled','avg_price_per_room']"
   ]
  },
  {
   "cell_type": "code",
   "execution_count": 24,
   "id": "49e7c417",
   "metadata": {},
   "outputs": [],
   "source": [
    "import pickle"
   ]
  },
  {
   "cell_type": "code",
   "execution_count": 25,
   "id": "609a2f48",
   "metadata": {},
   "outputs": [],
   "source": [
    "pt = PowerTransformer()\n",
    "\n",
    "for i in out_cols:\n",
    "    variable = pt.fit(xtrain[[i]])\n",
    "    xtrain[i] = pt.transform(xtrain[[i]])\n",
    "    \n",
    "#     with open(f'{i}.pkl','wb') as file:\n",
    "#         pickle.dump(variable,file)\n",
    "    \n",
    "    xtest[i] = pt.transform(xtest[[i]])"
   ]
  },
  {
   "cell_type": "markdown",
   "id": "12e0ea77",
   "metadata": {},
   "source": [
    "Since the Power Trasformation has inbuilt scaling feature , we are not scaling again "
   ]
  },
  {
   "cell_type": "markdown",
   "id": "168fa1ed",
   "metadata": {},
   "source": [
    "### Encoding of categorical variables"
   ]
  },
  {
   "cell_type": "markdown",
   "id": "5c0e75bd",
   "metadata": {},
   "source": [
    "#### Type_of_meal_plan"
   ]
  },
  {
   "cell_type": "code",
   "execution_count": 41,
   "id": "a6c5fea1",
   "metadata": {},
   "outputs": [],
   "source": [
    "# with open(\"oe_market.pkl\", \"wb\") as file:\n",
    "#     pickle.dump(oe_market, file)"
   ]
  },
  {
   "cell_type": "code",
   "execution_count": 26,
   "id": "298513b2",
   "metadata": {},
   "outputs": [
    {
     "data": {
      "text/plain": [
       "array(['Not Selected', 'Meal Plan 1', 'Meal Plan 2', 'Meal Plan 3'],\n",
       "      dtype=object)"
      ]
     },
     "execution_count": 26,
     "metadata": {},
     "output_type": "execute_result"
    }
   ],
   "source": [
    "xtrain['type_of_meal_plan'].unique()"
   ]
  },
  {
   "cell_type": "markdown",
   "id": "86ff221c",
   "metadata": {},
   "source": [
    "Type of meal plan variable is an ordinal categorical variable. It has a hierarchy between the subclasses. Meal plan type affects the price of room. Each plan has different prices."
   ]
  },
  {
   "cell_type": "code",
   "execution_count": 27,
   "id": "52ba93e8",
   "metadata": {},
   "outputs": [
    {
     "data": {
      "text/plain": [
       "type_of_meal_plan\n",
       "Meal Plan 3    -2.108397\n",
       "Not Selected   -0.224513\n",
       "Meal Plan 1     0.001513\n",
       "Meal Plan 2     0.332682\n",
       "Name: avg_price_per_room, dtype: float64"
      ]
     },
     "execution_count": 27,
     "metadata": {},
     "output_type": "execute_result"
    }
   ],
   "source": [
    "xtrain.groupby('type_of_meal_plan')['avg_price_per_room'].mean().sort_values()"
   ]
  },
  {
   "cell_type": "code",
   "execution_count": 28,
   "id": "0a171613",
   "metadata": {},
   "outputs": [
    {
     "data": {
      "text/plain": [
       "array([1., 2., 3., 0.])"
      ]
     },
     "execution_count": 28,
     "metadata": {},
     "output_type": "execute_result"
    }
   ],
   "source": [
    "\n",
    "oe = OrdinalEncoder(categories = [['Meal Plan 3','Not Selected','Meal Plan 1', 'Meal Plan 2']])\n",
    "\n",
    "oe_mealplan = oe.fit(xtrain[[\"type_of_meal_plan\"]])\n",
    "\n",
    "xtrain['type_of_meal_plan'] = oe_mealplan.transform(xtrain[['type_of_meal_plan']])\n",
    "xtest['type_of_meal_plan'] = oe_mealplan.transform(xtest[['type_of_meal_plan']])\n",
    "\n",
    "xtrain['type_of_meal_plan'].unique()\n"
   ]
  },
  {
   "cell_type": "markdown",
   "id": "810bb9a3",
   "metadata": {},
   "source": [
    "#### Room_type_reserved"
   ]
  },
  {
   "cell_type": "code",
   "execution_count": 29,
   "id": "8fb416e8",
   "metadata": {},
   "outputs": [
    {
     "data": {
      "text/plain": [
       "array(['Room_Type 1', 'Room_Type 4', 'Room_Type 2', 'Room_Type 6',\n",
       "       'Room_Type 5', 'Room_Type 7', 'Room_Type 3'], dtype=object)"
      ]
     },
     "execution_count": 29,
     "metadata": {},
     "output_type": "execute_result"
    }
   ],
   "source": [
    "df_hotel['room_type_reserved'].unique()"
   ]
  },
  {
   "cell_type": "markdown",
   "id": "e2fd4be9",
   "metadata": {},
   "source": [
    "Room type variable is an ordinal categorical variable. It has a hierarchy between the subclasses. Different room price will be having different prices"
   ]
  },
  {
   "cell_type": "code",
   "execution_count": 30,
   "id": "4df47831",
   "metadata": {},
   "outputs": [
    {
     "data": {
      "text/plain": [
       "room_type_reserved\n",
       "Room_Type 3   -0.814397\n",
       "Room_Type 2   -0.464847\n",
       "Room_Type 1   -0.203907\n",
       "Room_Type 5    0.541580\n",
       "Room_Type 4    0.618562\n",
       "Room_Type 7    1.198991\n",
       "Room_Type 6    2.102405\n",
       "Name: avg_price_per_room, dtype: float64"
      ]
     },
     "execution_count": 30,
     "metadata": {},
     "output_type": "execute_result"
    }
   ],
   "source": [
    "xtrain.groupby('room_type_reserved')['avg_price_per_room'].mean().sort_values(ascending=True)"
   ]
  },
  {
   "cell_type": "code",
   "execution_count": 31,
   "id": "31ef03ca",
   "metadata": {},
   "outputs": [
    {
     "data": {
      "text/plain": [
       "array([2., 4., 6., 3., 1., 5., 0.])"
      ]
     },
     "execution_count": 31,
     "metadata": {},
     "output_type": "execute_result"
    }
   ],
   "source": [
    "oe = OrdinalEncoder(categories = [['Room_Type 3','Room_Type 2','Room_Type 1', 'Room_Type 5',\n",
    "                                  'Room_Type 4','Room_Type 7','Room_Type 6']])\n",
    "\n",
    "oe_roomtype = oe.fit(xtrain[[\"room_type_reserved\"]])\n",
    "\n",
    "xtrain['room_type_reserved'] = oe_roomtype.transform(xtrain[['room_type_reserved']])\n",
    "xtest['room_type_reserved'] = oe_roomtype.transform(xtest[['room_type_reserved']])\n",
    "\n",
    "xtrain['room_type_reserved'].unique()"
   ]
  },
  {
   "cell_type": "markdown",
   "id": "ec874050",
   "metadata": {},
   "source": [
    "#### Market_segment_type"
   ]
  },
  {
   "cell_type": "code",
   "execution_count": 32,
   "id": "10ce54fc",
   "metadata": {},
   "outputs": [
    {
     "data": {
      "text/plain": [
       "array(['Online', 'Offline', 'Corporate', 'Complementary', 'Aviation'],\n",
       "      dtype=object)"
      ]
     },
     "execution_count": 32,
     "metadata": {},
     "output_type": "execute_result"
    }
   ],
   "source": [
    "xtrain['market_segment_type'].unique()"
   ]
  },
  {
   "cell_type": "markdown",
   "id": "0ddfa502",
   "metadata": {},
   "source": [
    "Market segment type variable is an ordinal categorical variable. It has a hierarchy between the subclasses. For example when a corporate company does bulk booking there maybe slight discount in price of the room and for the customer who books through online has to pay more due to internet service charges , platform charges etc. Same can be applied also for other subclasses also"
   ]
  },
  {
   "cell_type": "code",
   "execution_count": 33,
   "id": "4e831f8a",
   "metadata": {},
   "outputs": [
    {
     "data": {
      "text/plain": [
       "market_segment_type\n",
       "Online           0.253924\n",
       "Aviation        -0.045323\n",
       "Offline         -0.316698\n",
       "Corporate       -0.561118\n",
       "Complementary   -3.236370\n",
       "Name: avg_price_per_room, dtype: float64"
      ]
     },
     "execution_count": 33,
     "metadata": {},
     "output_type": "execute_result"
    }
   ],
   "source": [
    "xtrain.groupby('market_segment_type')['avg_price_per_room'].mean().sort_values(ascending=False)"
   ]
  },
  {
   "cell_type": "markdown",
   "id": "c7ab062e",
   "metadata": {},
   "source": [
    "From above groupby we can see that the prices for different market type the prices are different. There is an hierarchy followedFrom above groupby we can see that the prices for different market type the prices are different. There is an hierarchy followed"
   ]
  },
  {
   "cell_type": "code",
   "execution_count": 34,
   "id": "b5234b37",
   "metadata": {},
   "outputs": [
    {
     "data": {
      "text/plain": [
       "array([4., 2., 1., 0., 3.])"
      ]
     },
     "execution_count": 34,
     "metadata": {},
     "output_type": "execute_result"
    }
   ],
   "source": [
    "oe = OrdinalEncoder(categories = [['Complementary','Corporate','Offline','Aviation','Online']])\n",
    "\n",
    "oe_market = oe.fit(xtrain[[\"market_segment_type\"]])\n",
    "\n",
    "xtrain['market_segment_type'] = oe_market.transform(xtrain[['market_segment_type']])\n",
    "xtest['market_segment_type'] = oe_market.transform(xtest[['market_segment_type']])\n",
    "\n",
    "xtrain['market_segment_type'].unique()"
   ]
  },
  {
   "cell_type": "markdown",
   "id": "18f8f27b",
   "metadata": {},
   "source": [
    "#### Booking_status"
   ]
  },
  {
   "cell_type": "code",
   "execution_count": 35,
   "id": "187e5d23",
   "metadata": {},
   "outputs": [
    {
     "data": {
      "text/plain": [
       "array(['Not_Canceled', 'Canceled'], dtype=object)"
      ]
     },
     "execution_count": 35,
     "metadata": {},
     "output_type": "execute_result"
    }
   ],
   "source": [
    "ytrain.unique()"
   ]
  },
  {
   "cell_type": "markdown",
   "id": "3674bbd3",
   "metadata": {},
   "source": [
    "For booking status variable we can replace not_canceled with 0 and cancelled as 1"
   ]
  },
  {
   "cell_type": "code",
   "execution_count": 36,
   "id": "184582ea",
   "metadata": {},
   "outputs": [
    {
     "data": {
      "text/plain": [
       "array([0, 1], dtype=int64)"
      ]
     },
     "execution_count": 36,
     "metadata": {},
     "output_type": "execute_result"
    }
   ],
   "source": [
    "ytrain.replace({'Not_Canceled':0,'Canceled':1}, inplace = True)\n",
    "ytest.replace({'Not_Canceled':0,'Canceled':1}, inplace = True)\n",
    "\n",
    "ytrain.unique()"
   ]
  },
  {
   "cell_type": "markdown",
   "id": "7a51c4d2",
   "metadata": {},
   "source": [
    "### Checking for imbalance in target variable"
   ]
  },
  {
   "cell_type": "code",
   "execution_count": 37,
   "id": "db5692c7",
   "metadata": {},
   "outputs": [
    {
     "data": {
      "image/png": "[encoded data removed]",
      "text/plain": [
       "<Figure size 800x500 with 1 Axes>"
      ]
     },
     "metadata": {},
     "output_type": "display_data"
    }
   ],
   "source": [
    "plt.pie(ytrain.value_counts(), labels = ytrain.value_counts().index,\n",
    "        autopct = '%.2f%%', shadow = True, explode = [0.05,0.025],colors = colors)\n",
    "plt.title('Investigating the Frequency of Booking Status')\n",
    "plt.show()"
   ]
  },
  {
   "cell_type": "code",
   "execution_count": 38,
   "id": "97721697",
   "metadata": {},
   "outputs": [
    {
     "data": {
      "text/plain": [
       "0    17073\n",
       "1     8319\n",
       "Name: booking_status, dtype: int64"
      ]
     },
     "execution_count": 38,
     "metadata": {},
     "output_type": "execute_result"
    }
   ],
   "source": [
    "ytrain.value_counts()"
   ]
  },
  {
   "cell_type": "markdown",
   "id": "dfa573da",
   "metadata": {},
   "source": [
    "From above plot it is clearly evident that there is class imbalance in the target variable. In class 0 there is 24390 instances and 11885 instances in class 1. We can do over sampling technique to overcome this imblalance"
   ]
  },
  {
   "cell_type": "markdown",
   "id": "ae634001",
   "metadata": {},
   "source": [
    "### Oversampling technique using SMOTE"
   ]
  },
  {
   "cell_type": "markdown",
   "id": "1f6b00c8",
   "metadata": {},
   "source": [
    "For train data "
   ]
  },
  {
   "cell_type": "code",
   "execution_count": 42,
   "id": "22c33393",
   "metadata": {},
   "outputs": [],
   "source": [
    "smtrain = SMOTE()\n",
    "\n",
    "xtrain,ytrain = smtrain.fit_resample(xtrain,ytrain)"
   ]
  },
  {
   "cell_type": "code",
   "execution_count": 43,
   "id": "5dbb0e39",
   "metadata": {},
   "outputs": [],
   "source": [
    "smtest = SMOTE()\n",
    "\n",
    "xtest, ytest = smtest.fit_resample(xtest,ytest)"
   ]
  },
  {
   "cell_type": "code",
   "execution_count": 44,
   "id": "cc7368ce",
   "metadata": {},
   "outputs": [
    {
     "data": {
      "text/plain": [
       "0    0.5\n",
       "1    0.5\n",
       "Name: booking_status, dtype: float64"
      ]
     },
     "execution_count": 44,
     "metadata": {},
     "output_type": "execute_result"
    }
   ],
   "source": [
    "# Checking of instances after performing over sampling\n",
    "\n",
    "ytrain.value_counts(normalize=True)"
   ]
  },
  {
   "cell_type": "markdown",
   "id": "a5659d50",
   "metadata": {},
   "source": [
    "From above value counts we can see that class imbalance is rectified"
   ]
  },
  {
   "cell_type": "markdown",
   "id": "12006875",
   "metadata": {},
   "source": [
    "### Building a base model"
   ]
  },
  {
   "cell_type": "markdown",
   "id": "ef33f457",
   "metadata": {},
   "source": [
    "Building a base model using Logistic Regression as it is having the highest explanatory power compared to other models"
   ]
  },
  {
   "cell_type": "code",
   "execution_count": 45,
   "id": "690501b9",
   "metadata": {},
   "outputs": [
    {
     "name": "stdout",
     "output_type": "stream",
     "text": [
      "Optimization terminated successfully.\n",
      "         Current function value: 0.450916\n",
      "         Iterations 29\n"
     ]
    }
   ],
   "source": [
    "model_lr = sma.Logit(ytrain,sma.add_constant(xtrain)).fit()"
   ]
  },
  {
   "cell_type": "markdown",
   "id": "2107cd4b",
   "metadata": {},
   "source": [
    "##### checking for summary"
   ]
  },
  {
   "cell_type": "code",
   "execution_count": 46,
   "id": "61ef2b4c",
   "metadata": {},
   "outputs": [
    {
     "data": {
      "text/html": [
       "<table class=\"simpletable\">\n",
       "<caption>Logit Regression Results</caption>\n",
       "<tr>\n",
       "  <th>Dep. Variable:</th>    <td>booking_status</td>  <th>  No. Observations:  </th>  <td> 34146</td> \n",
       "</tr>\n",
       "<tr>\n",
       "  <th>Model:</th>                 <td>Logit</td>      <th>  Df Residuals:      </th>  <td> 34129</td> \n",
       "</tr>\n",
       "<tr>\n",
       "  <th>Method:</th>                 <td>MLE</td>       <th>  Df Model:          </th>  <td>    16</td> \n",
       "</tr>\n",
       "<tr>\n",
       "  <th>Date:</th>            <td>Tue, 13 Jun 2023</td> <th>  Pseudo R-squ.:     </th>  <td>0.3495</td> \n",
       "</tr>\n",
       "<tr>\n",
       "  <th>Time:</th>                <td>16:50:17</td>     <th>  Log-Likelihood:    </th> <td> -15397.</td>\n",
       "</tr>\n",
       "<tr>\n",
       "  <th>converged:</th>             <td>True</td>       <th>  LL-Null:           </th> <td> -23668.</td>\n",
       "</tr>\n",
       "<tr>\n",
       "  <th>Covariance Type:</th>     <td>nonrobust</td>    <th>  LLR p-value:       </th>  <td> 0.000</td> \n",
       "</tr>\n",
       "</table>\n",
       "<table class=\"simpletable\">\n",
       "<tr>\n",
       "                    <td></td>                      <th>coef</th>     <th>std err</th>      <th>z</th>      <th>P>|z|</th>  <th>[0.025</th>    <th>0.975]</th>  \n",
       "</tr>\n",
       "<tr>\n",
       "  <th>const</th>                                <td>   -0.4485</td> <td> 1.48e+05</td> <td>-3.03e-06</td> <td> 1.000</td> <td> -2.9e+05</td> <td>  2.9e+05</td>\n",
       "</tr>\n",
       "<tr>\n",
       "  <th>no_of_adults</th>                         <td>   -0.0370</td> <td>    0.017</td> <td>   -2.240</td> <td> 0.025</td> <td>   -0.069</td> <td>   -0.005</td>\n",
       "</tr>\n",
       "<tr>\n",
       "  <th>no_of_children</th>                       <td>   -0.0132</td> <td>    0.016</td> <td>   -0.831</td> <td> 0.406</td> <td>   -0.045</td> <td>    0.018</td>\n",
       "</tr>\n",
       "<tr>\n",
       "  <th>no_of_weekend_nights</th>                 <td>    0.0727</td> <td>    0.014</td> <td>    5.062</td> <td> 0.000</td> <td>    0.045</td> <td>    0.101</td>\n",
       "</tr>\n",
       "<tr>\n",
       "  <th>no_of_week_nights</th>                    <td>   -0.0500</td> <td>    0.015</td> <td>   -3.397</td> <td> 0.001</td> <td>   -0.079</td> <td>   -0.021</td>\n",
       "</tr>\n",
       "<tr>\n",
       "  <th>type_of_meal_plan</th>                    <td>   -0.1828</td> <td>    0.033</td> <td>   -5.512</td> <td> 0.000</td> <td>   -0.248</td> <td>   -0.118</td>\n",
       "</tr>\n",
       "<tr>\n",
       "  <th>required_car_parking_space</th>           <td>   -2.1320</td> <td>    0.133</td> <td>  -16.077</td> <td> 0.000</td> <td>   -2.392</td> <td>   -1.872</td>\n",
       "</tr>\n",
       "<tr>\n",
       "  <th>room_type_reserved</th>                   <td>   -0.1669</td> <td>    0.019</td> <td>   -8.960</td> <td> 0.000</td> <td>   -0.203</td> <td>   -0.130</td>\n",
       "</tr>\n",
       "<tr>\n",
       "  <th>lead_time</th>                            <td>    1.4440</td> <td>    0.019</td> <td>   74.608</td> <td> 0.000</td> <td>    1.406</td> <td>    1.482</td>\n",
       "</tr>\n",
       "<tr>\n",
       "  <th>arrival_month</th>                        <td>   -0.0635</td> <td>    0.005</td> <td>  -12.861</td> <td> 0.000</td> <td>   -0.073</td> <td>   -0.054</td>\n",
       "</tr>\n",
       "<tr>\n",
       "  <th>arrival_date</th>                         <td>    0.0025</td> <td>    0.002</td> <td>    1.539</td> <td> 0.124</td> <td>   -0.001</td> <td>    0.006</td>\n",
       "</tr>\n",
       "<tr>\n",
       "  <th>market_segment_type</th>                  <td>    0.7684</td> <td>    0.019</td> <td>   40.460</td> <td> 0.000</td> <td>    0.731</td> <td>    0.806</td>\n",
       "</tr>\n",
       "<tr>\n",
       "  <th>repeated_guest</th>                       <td>  -41.1498</td> <td> 1.62e+07</td> <td>-2.54e-06</td> <td> 1.000</td> <td>-3.18e+07</td> <td> 3.18e+07</td>\n",
       "</tr>\n",
       "<tr>\n",
       "  <th>no_of_previous_cancellations</th>         <td>    3.7475</td> <td> 1.54e+06</td> <td> 2.43e-06</td> <td> 1.000</td> <td>-3.02e+06</td> <td> 3.02e+06</td>\n",
       "</tr>\n",
       "<tr>\n",
       "  <th>no_of_previous_bookings_not_canceled</th> <td>    0.3253</td> <td>    0.103</td> <td>    3.157</td> <td> 0.002</td> <td>    0.123</td> <td>    0.527</td>\n",
       "</tr>\n",
       "<tr>\n",
       "  <th>avg_price_per_room</th>                   <td>    0.7324</td> <td>    0.022</td> <td>   33.200</td> <td> 0.000</td> <td>    0.689</td> <td>    0.776</td>\n",
       "</tr>\n",
       "<tr>\n",
       "  <th>no_of_special_requests</th>               <td>   -1.6181</td> <td>    0.025</td> <td>  -63.779</td> <td> 0.000</td> <td>   -1.668</td> <td>   -1.568</td>\n",
       "</tr>\n",
       "</table>"
      ],
      "text/plain": [
       "<class 'statsmodels.iolib.summary.Summary'>\n",
       "\"\"\"\n",
       "                           Logit Regression Results                           \n",
       "==============================================================================\n",
       "Dep. Variable:         booking_status   No. Observations:                34146\n",
       "Model:                          Logit   Df Residuals:                    34129\n",
       "Method:                           MLE   Df Model:                           16\n",
       "Date:                Tue, 13 Jun 2023   Pseudo R-squ.:                  0.3495\n",
       "Time:                        16:50:17   Log-Likelihood:                -15397.\n",
       "converged:                       True   LL-Null:                       -23668.\n",
       "Covariance Type:            nonrobust   LLR p-value:                     0.000\n",
       "========================================================================================================\n",
       "                                           coef    std err          z      P>|z|      [0.025      0.975]\n",
       "--------------------------------------------------------------------------------------------------------\n",
       "const                                   -0.4485   1.48e+05  -3.03e-06      1.000    -2.9e+05     2.9e+05\n",
       "no_of_adults                            -0.0370      0.017     -2.240      0.025      -0.069      -0.005\n",
       "no_of_children                          -0.0132      0.016     -0.831      0.406      -0.045       0.018\n",
       "no_of_weekend_nights                     0.0727      0.014      5.062      0.000       0.045       0.101\n",
       "no_of_week_nights                       -0.0500      0.015     -3.397      0.001      -0.079      -0.021\n",
       "type_of_meal_plan                       -0.1828      0.033     -5.512      0.000      -0.248      -0.118\n",
       "required_car_parking_space              -2.1320      0.133    -16.077      0.000      -2.392      -1.872\n",
       "room_type_reserved                      -0.1669      0.019     -8.960      0.000      -0.203      -0.130\n",
       "lead_time                                1.4440      0.019     74.608      0.000       1.406       1.482\n",
       "arrival_month                           -0.0635      0.005    -12.861      0.000      -0.073      -0.054\n",
       "arrival_date                             0.0025      0.002      1.539      0.124      -0.001       0.006\n",
       "market_segment_type                      0.7684      0.019     40.460      0.000       0.731       0.806\n",
       "repeated_guest                         -41.1498   1.62e+07  -2.54e-06      1.000   -3.18e+07    3.18e+07\n",
       "no_of_previous_cancellations             3.7475   1.54e+06   2.43e-06      1.000   -3.02e+06    3.02e+06\n",
       "no_of_previous_bookings_not_canceled     0.3253      0.103      3.157      0.002       0.123       0.527\n",
       "avg_price_per_room                       0.7324      0.022     33.200      0.000       0.689       0.776\n",
       "no_of_special_requests                  -1.6181      0.025    -63.779      0.000      -1.668      -1.568\n",
       "========================================================================================================\n",
       "\"\"\""
      ]
     },
     "execution_count": 46,
     "metadata": {},
     "output_type": "execute_result"
    }
   ],
   "source": [
    "model_lr.summary()"
   ]
  },
  {
   "cell_type": "code",
   "execution_count": null,
   "id": "1d3125e4",
   "metadata": {},
   "outputs": [],
   "source": []
  },
  {
   "cell_type": "markdown",
   "id": "7471519e",
   "metadata": {},
   "source": [
    "#### Calculating various metrics to evaluate the model performance"
   ]
  },
  {
   "cell_type": "code",
   "execution_count": 47,
   "id": "bc71b1ba",
   "metadata": {},
   "outputs": [],
   "source": [
    "pred_prob_train = model_lr.predict(sma.add_constant(xtrain))\n",
    "pred_prob_test = model_lr.predict(sma.add_constant(xtest))"
   ]
  },
  {
   "cell_type": "code",
   "execution_count": 48,
   "id": "f97848d3",
   "metadata": {},
   "outputs": [
    {
     "name": "stdout",
     "output_type": "stream",
     "text": [
      "Youdens index for train data is 0.59\n",
      "Youdens index for test data is 0.6\n"
     ]
    }
   ],
   "source": [
    "# Calculating youden's index to convert probability prediction to class prediction\n",
    "\n",
    "# For train data\n",
    "\n",
    "fpr , tpr , threshold = roc_curve(ytrain,pred_prob_train)\n",
    "\n",
    "youden_index_train = []\n",
    "\n",
    "for i,v in zip(fpr , tpr):\n",
    "    res = v - i\n",
    "    youden_index_train.append(res)\n",
    "\n",
    "yi_train = max(np.round(youden_index_train,2))\n",
    "\n",
    "\n",
    "# For test data\n",
    "\n",
    "fpr , tpr , threshold = roc_curve(ytest,pred_prob_test)\n",
    "\n",
    "youden_index_test = []\n",
    "\n",
    "for i,v in zip(fpr , tpr):\n",
    "    res = v - i\n",
    "    youden_index_test.append(res)\n",
    "\n",
    "yi_test = max(np.round(youden_index_test,2))\n",
    "\n",
    "print(f'Youdens index for train data is {yi_train}')\n",
    "print(f'Youdens index for test data is {yi_test}')"
   ]
  },
  {
   "cell_type": "code",
   "execution_count": 49,
   "id": "b9d9345c",
   "metadata": {},
   "outputs": [],
   "source": [
    "# Converting probability prediction to class prediction using 0.59 as threshold value\n",
    "\n",
    "pred_train = [ 1 if i > 0.59 else 0  for i in pred_prob_train]\n",
    "pred_test = [ 1 if i > 0.59 else 0  for i in pred_prob_test]\n"
   ]
  },
  {
   "cell_type": "code",
   "execution_count": 50,
   "id": "d5612710",
   "metadata": {},
   "outputs": [
    {
     "data": {
      "text/plain": [
       "<AxesSubplot:>"
      ]
     },
     "execution_count": 50,
     "metadata": {},
     "output_type": "execute_result"
    },
    {
     "data": {
      "image/png": "[encoded data removed]",
      "text/plain": [
       "<Figure size 800x500 with 1 Axes>"
      ]
     },
     "metadata": {},
     "output_type": "display_data"
    }
   ],
   "source": [
    "# plotting confusion matrix for train data\n",
    "\n",
    "cm = confusion_matrix(ytrain,pred_train)\n",
    "conf_matrix = pd.DataFrame(data = cm , columns = ['Predicted : 0','Predicted : 1'], index = ['Actual : 0','Actual : 1'])\n",
    "c = ['#97C1A9']\n",
    "\n",
    "sns.heatmap(data = conf_matrix, annot = True , cbar = False , fmt = 'd' , cmap = c , linewidth = 1.5 , \n",
    "           annot_kws = {'size' : 25})"
   ]
  },
  {
   "cell_type": "code",
   "execution_count": 51,
   "id": "bab676cd",
   "metadata": {},
   "outputs": [
    {
     "data": {
      "text/plain": [
       "<AxesSubplot:>"
      ]
     },
     "execution_count": 51,
     "metadata": {},
     "output_type": "execute_result"
    },
    {
     "data": {
      "image/png": "[encoded data removed]",
      "text/plain": [
       "<Figure size 800x500 with 1 Axes>"
      ]
     },
     "metadata": {},
     "output_type": "display_data"
    }
   ],
   "source": [
    "# plotting confusion matrix for test data\n",
    "\n",
    "cm = confusion_matrix(ytest,pred_test)\n",
    "conf_matrix = pd.DataFrame(data = cm , columns = ['Predicted : 0','Predicted : 1'], index = ['Actual : 0','Actual : 1'])\n",
    "c = ['#97C1A9']\n",
    "\n",
    "sns.heatmap(data = conf_matrix, annot = True , cbar = False , fmt = 'd' , cmap = c , linewidth = 1.5 , \n",
    "           annot_kws = {'size' : 25})"
   ]
  },
  {
   "cell_type": "code",
   "execution_count": 52,
   "id": "0225953d",
   "metadata": {},
   "outputs": [
    {
     "name": "stdout",
     "output_type": "stream",
     "text": [
      "Train report : \n",
      "              precision    recall  f1-score   support\n",
      "\n",
      "           0       0.75      0.83      0.79     17073\n",
      "           1       0.81      0.73      0.77     17073\n",
      "\n",
      "    accuracy                           0.78     34146\n",
      "   macro avg       0.78      0.78      0.78     34146\n",
      "weighted avg       0.78      0.78      0.78     34146\n",
      "\n",
      "\n",
      "Testreport : \n",
      "              precision    recall  f1-score   support\n",
      "\n",
      "           0       0.76      0.84      0.80      7317\n",
      "           1       0.82      0.74      0.78      7317\n",
      "\n",
      "    accuracy                           0.79     14634\n",
      "   macro avg       0.79      0.79      0.79     14634\n",
      "weighted avg       0.79      0.79      0.79     14634\n",
      "\n"
     ]
    }
   ],
   "source": [
    "# Classification report\n",
    "\n",
    "print(f'Train report : \\n{classification_report(ytrain,pred_train)}\\n')\n",
    "print(f'Testreport : \\n{classification_report(ytest,pred_test)}')"
   ]
  },
  {
   "cell_type": "markdown",
   "id": "38a7895c",
   "metadata": {},
   "source": [
    "From above report we can conclude that our base model has performed good in both train and unseen data with accuracy of almost 80%. On further progress we try to improve our performance by building other models, tuning their hyperparameters and selecting columns based on feature importance score"
   ]
  },
  {
   "cell_type": "code",
   "execution_count": 53,
   "id": "00484a2e",
   "metadata": {},
   "outputs": [
    {
     "data": {
      "text/html": [
       "<div>\n",
       "<style scoped>\n",
       "    .dataframe tbody tr th:only-of-type {\n",
       "        vertical-align: middle;\n",
       "    }\n",
       "\n",
       "    .dataframe tbody tr th {\n",
       "        vertical-align: top;\n",
       "    }\n",
       "\n",
       "    .dataframe thead th {\n",
       "        text-align: right;\n",
       "    }\n",
       "</style>\n",
       "<table border=\"1\" class=\"dataframe\">\n",
       "  <thead>\n",
       "    <tr style=\"text-align: right;\">\n",
       "      <th></th>\n",
       "      <th>0</th>\n",
       "    </tr>\n",
       "  </thead>\n",
       "  <tbody>\n",
       "    <tr>\n",
       "      <th>no_of_previous_cancellations</th>\n",
       "      <td>42.42</td>\n",
       "    </tr>\n",
       "    <tr>\n",
       "      <th>lead_time</th>\n",
       "      <td>4.24</td>\n",
       "    </tr>\n",
       "    <tr>\n",
       "      <th>market_segment_type</th>\n",
       "      <td>2.16</td>\n",
       "    </tr>\n",
       "    <tr>\n",
       "      <th>avg_price_per_room</th>\n",
       "      <td>2.08</td>\n",
       "    </tr>\n",
       "    <tr>\n",
       "      <th>no_of_previous_bookings_not_canceled</th>\n",
       "      <td>1.38</td>\n",
       "    </tr>\n",
       "    <tr>\n",
       "      <th>no_of_weekend_nights</th>\n",
       "      <td>1.08</td>\n",
       "    </tr>\n",
       "    <tr>\n",
       "      <th>arrival_date</th>\n",
       "      <td>1.00</td>\n",
       "    </tr>\n",
       "    <tr>\n",
       "      <th>no_of_children</th>\n",
       "      <td>0.99</td>\n",
       "    </tr>\n",
       "    <tr>\n",
       "      <th>no_of_adults</th>\n",
       "      <td>0.96</td>\n",
       "    </tr>\n",
       "    <tr>\n",
       "      <th>no_of_week_nights</th>\n",
       "      <td>0.95</td>\n",
       "    </tr>\n",
       "    <tr>\n",
       "      <th>arrival_month</th>\n",
       "      <td>0.94</td>\n",
       "    </tr>\n",
       "    <tr>\n",
       "      <th>room_type_reserved</th>\n",
       "      <td>0.85</td>\n",
       "    </tr>\n",
       "    <tr>\n",
       "      <th>type_of_meal_plan</th>\n",
       "      <td>0.83</td>\n",
       "    </tr>\n",
       "    <tr>\n",
       "      <th>const</th>\n",
       "      <td>0.64</td>\n",
       "    </tr>\n",
       "    <tr>\n",
       "      <th>no_of_special_requests</th>\n",
       "      <td>0.20</td>\n",
       "    </tr>\n",
       "    <tr>\n",
       "      <th>required_car_parking_space</th>\n",
       "      <td>0.12</td>\n",
       "    </tr>\n",
       "    <tr>\n",
       "      <th>repeated_guest</th>\n",
       "      <td>0.00</td>\n",
       "    </tr>\n",
       "  </tbody>\n",
       "</table>\n",
       "</div>"
      ],
      "text/plain": [
       "                                          0\n",
       "no_of_previous_cancellations          42.42\n",
       "lead_time                              4.24\n",
       "market_segment_type                    2.16\n",
       "avg_price_per_room                     2.08\n",
       "no_of_previous_bookings_not_canceled   1.38\n",
       "no_of_weekend_nights                   1.08\n",
       "arrival_date                           1.00\n",
       "no_of_children                         0.99\n",
       "no_of_adults                           0.96\n",
       "no_of_week_nights                      0.95\n",
       "arrival_month                          0.94\n",
       "room_type_reserved                     0.85\n",
       "type_of_meal_plan                      0.83\n",
       "const                                  0.64\n",
       "no_of_special_requests                 0.20\n",
       "required_car_parking_space             0.12\n",
       "repeated_guest                         0.00"
      ]
     },
     "execution_count": 53,
     "metadata": {},
     "output_type": "execute_result"
    }
   ],
   "source": [
    "odds = pd.DataFrame(np.round(np.exp(model_lr.params),2))\n",
    "odds.sort_values(by = 0 , ascending=False)"
   ]
  },
  {
   "cell_type": "code",
   "execution_count": 54,
   "id": "3151349d",
   "metadata": {},
   "outputs": [
    {
     "data": {
      "text/html": [
       "<div>\n",
       "<style scoped>\n",
       "    .dataframe tbody tr th:only-of-type {\n",
       "        vertical-align: middle;\n",
       "    }\n",
       "\n",
       "    .dataframe tbody tr th {\n",
       "        vertical-align: top;\n",
       "    }\n",
       "\n",
       "    .dataframe thead th {\n",
       "        text-align: right;\n",
       "    }\n",
       "</style>\n",
       "<table border=\"1\" class=\"dataframe\">\n",
       "  <thead>\n",
       "    <tr style=\"text-align: right;\">\n",
       "      <th></th>\n",
       "      <th>0</th>\n",
       "    </tr>\n",
       "  </thead>\n",
       "  <tbody>\n",
       "    <tr>\n",
       "      <th>no_of_previous_cancellations</th>\n",
       "      <td>42.42</td>\n",
       "    </tr>\n",
       "    <tr>\n",
       "      <th>lead_time</th>\n",
       "      <td>4.24</td>\n",
       "    </tr>\n",
       "    <tr>\n",
       "      <th>market_segment_type</th>\n",
       "      <td>2.16</td>\n",
       "    </tr>\n",
       "    <tr>\n",
       "      <th>avg_price_per_room</th>\n",
       "      <td>2.08</td>\n",
       "    </tr>\n",
       "    <tr>\n",
       "      <th>no_of_previous_bookings_not_canceled</th>\n",
       "      <td>1.38</td>\n",
       "    </tr>\n",
       "    <tr>\n",
       "      <th>no_of_weekend_nights</th>\n",
       "      <td>1.08</td>\n",
       "    </tr>\n",
       "    <tr>\n",
       "      <th>arrival_date</th>\n",
       "      <td>1.00</td>\n",
       "    </tr>\n",
       "    <tr>\n",
       "      <th>no_of_children</th>\n",
       "      <td>0.99</td>\n",
       "    </tr>\n",
       "  </tbody>\n",
       "</table>\n",
       "</div>"
      ],
      "text/plain": [
       "                                          0\n",
       "no_of_previous_cancellations          42.42\n",
       "lead_time                              4.24\n",
       "market_segment_type                    2.16\n",
       "avg_price_per_room                     2.08\n",
       "no_of_previous_bookings_not_canceled   1.38\n",
       "no_of_weekend_nights                   1.08\n",
       "arrival_date                           1.00\n",
       "no_of_children                         0.99"
      ]
     },
     "execution_count": 54,
     "metadata": {},
     "output_type": "execute_result"
    }
   ],
   "source": [
    "odds.sort_values(by = 0 , ascending=False)[0:8]\n",
    "\n",
    "# the below extracted features has the highest influence on the target variable, according to the oddds ratio "
   ]
  },
  {
   "cell_type": "code",
   "execution_count": 61,
   "id": "a1c57c61",
   "metadata": {},
   "outputs": [
    {
     "name": "stdout",
     "output_type": "stream",
     "text": [
      "Train report \n",
      "               precision    recall  f1-score   support\n",
      "\n",
      "           0       0.80      0.77      0.79     17073\n",
      "           1       0.78      0.81      0.79     17073\n",
      "\n",
      "    accuracy                           0.79     34146\n",
      "   macro avg       0.79      0.79      0.79     34146\n",
      "weighted avg       0.79      0.79      0.79     34146\n",
      "\n",
      "Test report \n",
      "               precision    recall  f1-score   support\n",
      "\n",
      "           0       0.81      0.78      0.80      7317\n",
      "           1       0.79      0.82      0.80      7317\n",
      "\n",
      "    accuracy                           0.80     14634\n",
      "   macro avg       0.80      0.80      0.80     14634\n",
      "weighted avg       0.80      0.80      0.80     14634\n",
      "\n"
     ]
    }
   ],
   "source": [
    "# Classification using logistic regression: \n",
    "\n",
    "from sklearn.linear_model import LogisticRegression\n",
    "\n",
    "model_lr1 = LogisticRegression().fit(xtrain , ytrain)\n",
    "\n",
    "model_performance_remarks(model_lr1, 'Base Model')"
   ]
  },
  {
   "cell_type": "code",
   "execution_count": 62,
   "id": "9b6640af",
   "metadata": {},
   "outputs": [
    {
     "name": "stdout",
     "output_type": "stream",
     "text": [
      "Train report \n",
      "               precision    recall  f1-score   support\n",
      "\n",
      "           0       0.99      1.00      1.00     17073\n",
      "           1       1.00      0.99      1.00     17073\n",
      "\n",
      "    accuracy                           1.00     34146\n",
      "   macro avg       1.00      1.00      1.00     34146\n",
      "weighted avg       1.00      1.00      1.00     34146\n",
      "\n",
      "Test report \n",
      "               precision    recall  f1-score   support\n",
      "\n",
      "           0       0.79      0.85      0.82      7317\n",
      "           1       0.84      0.77      0.80      7317\n",
      "\n",
      "    accuracy                           0.81     14634\n",
      "   macro avg       0.81      0.81      0.81     14634\n",
      "weighted avg       0.81      0.81      0.81     14634\n",
      "\n"
     ]
    }
   ],
   "source": [
    "# Decision Tree Model \n",
    "\n",
    "dt = DecisionTreeClassifier()\n",
    "\n",
    "model_dt = dt.fit(xtrain,ytrain)\n",
    "\n",
    "model_performance_remarks(model_dt, 'Decision Tree')"
   ]
  },
  {
   "cell_type": "code",
   "execution_count": 64,
   "id": "d9b8e226",
   "metadata": {},
   "outputs": [
    {
     "name": "stdout",
     "output_type": "stream",
     "text": [
      "Train report \n",
      "               precision    recall  f1-score   support\n",
      "\n",
      "           0       0.99      1.00      1.00     17073\n",
      "           1       1.00      0.99      1.00     17073\n",
      "\n",
      "    accuracy                           1.00     34146\n",
      "   macro avg       1.00      1.00      1.00     34146\n",
      "weighted avg       1.00      1.00      1.00     34146\n",
      "\n",
      "Test report \n",
      "               precision    recall  f1-score   support\n",
      "\n",
      "           0       0.88      0.92      0.90      7317\n",
      "           1       0.91      0.88      0.89      7317\n",
      "\n",
      "    accuracy                           0.90     14634\n",
      "   macro avg       0.90      0.90      0.90     14634\n",
      "weighted avg       0.90      0.90      0.90     14634\n",
      "\n"
     ]
    }
   ],
   "source": [
    "# Random Forest Model \n",
    "\n",
    "rf = RandomForestClassifier()\n",
    "\n",
    "model_rf = rf.fit(xtrain,ytrain)\n",
    "\n",
    "model_performance_remarks(model_rf, \"Random Forest\")"
   ]
  },
  {
   "cell_type": "code",
   "execution_count": 75,
   "id": "ed83cc58",
   "metadata": {},
   "outputs": [],
   "source": [
    "with open (\"xg.pkl\", \"wb\") as file:\n",
    "    pickle.dump(model_xg, file)"
   ]
  },
  {
   "cell_type": "code",
   "execution_count": 65,
   "id": "31c52327",
   "metadata": {},
   "outputs": [
    {
     "name": "stdout",
     "output_type": "stream",
     "text": [
      "Train report \n",
      "               precision    recall  f1-score   support\n",
      "\n",
      "           0       0.92      0.94      0.93     17073\n",
      "           1       0.94      0.92      0.93     17073\n",
      "\n",
      "    accuracy                           0.93     34146\n",
      "   macro avg       0.93      0.93      0.93     34146\n",
      "weighted avg       0.93      0.93      0.93     34146\n",
      "\n",
      "Test report \n",
      "               precision    recall  f1-score   support\n",
      "\n",
      "           0       0.91      0.89      0.90      7317\n",
      "           1       0.89      0.91      0.90      7317\n",
      "\n",
      "    accuracy                           0.90     14634\n",
      "   macro avg       0.90      0.90      0.90     14634\n",
      "weighted avg       0.90      0.90      0.90     14634\n",
      "\n"
     ]
    }
   ],
   "source": [
    "# XGBoost Model:\n",
    "\n",
    "xg = XGBClassifier()\n",
    "\n",
    "model_xg = xg.fit(xtrain, ytrain)\n",
    "\n",
    "model_performance_remarks(model_xg, \"XGBoost\")"
   ]
  },
  {
   "cell_type": "code",
   "execution_count": 66,
   "id": "1b0916a5",
   "metadata": {},
   "outputs": [
    {
     "name": "stdout",
     "output_type": "stream",
     "text": [
      "Train report \n",
      "               precision    recall  f1-score   support\n",
      "\n",
      "           0       0.82      0.82      0.82     17073\n",
      "           1       0.82      0.82      0.82     17073\n",
      "\n",
      "    accuracy                           0.82     34146\n",
      "   macro avg       0.82      0.82      0.82     34146\n",
      "weighted avg       0.82      0.82      0.82     34146\n",
      "\n",
      "Test report \n",
      "               precision    recall  f1-score   support\n",
      "\n",
      "           0       0.84      0.81      0.83      7317\n",
      "           1       0.82      0.85      0.83      7317\n",
      "\n",
      "    accuracy                           0.83     14634\n",
      "   macro avg       0.83      0.83      0.83     14634\n",
      "weighted avg       0.83      0.83      0.83     14634\n",
      "\n"
     ]
    }
   ],
   "source": [
    "# Ada Boost Model \n",
    "\n",
    "ab = AdaBoostClassifier()\n",
    "\n",
    "model_ab = ab.fit(xtrain,ytrain)\n",
    "\n",
    "model_performance_remarks(model_ab, \"AdaBoost\")"
   ]
  },
  {
   "cell_type": "code",
   "execution_count": null,
   "id": "dc91e5ab",
   "metadata": {},
   "outputs": [],
   "source": [
    "# Grid Search CV -- RF params \n",
    "\n",
    "params = ({\"n_estimators\" :range(100,200,25),\n",
    "    \"criterion\" :['gini','entropy'],\n",
    "    \"max_depth\": range(1,6,1),\n",
    "    \"min_samples_split\" : range(1,10,2),\n",
    "    \"min_samples_leaf\" : range(1,5,1),\n",
    "    \"max_features\" : ['sqrt','log2']})\n",
    "          \n",
    "cv = GridSearchCV(estimator=rf,param_grid=params, cv = 3, n_jobs=-1, \n",
    "                 verbose=5, return_train_score=\"f1\")\n",
    "          \n",
    "cv.fit(xtrain,ytrain)\n",
    "\n",
    "cv.best_score_"
   ]
  },
  {
   "cell_type": "code",
   "execution_count": null,
   "id": "2cf57115",
   "metadata": {},
   "outputs": [],
   "source": [
    "model_grid = cv.best_estimator_.fit(xtrain,ytrain)\n",
    "\n",
    "model_performance(model_grid, \"GridSearchCV\")"
   ]
  },
  {
   "cell_type": "code",
   "execution_count": null,
   "id": "0a4d5dee",
   "metadata": {},
   "outputs": [],
   "source": [
    "# pip install catboost"
   ]
  },
  {
   "cell_type": "code",
   "execution_count": 67,
   "id": "0b248f04",
   "metadata": {},
   "outputs": [],
   "source": [
    "from catboost import CatBoostClassifier"
   ]
  },
  {
   "cell_type": "code",
   "execution_count": 68,
   "id": "b0f067ed",
   "metadata": {},
   "outputs": [
    {
     "name": "stdout",
     "output_type": "stream",
     "text": [
      "Learning rate set to 0.046523\n",
      "0:\tlearn: 0.6646920\ttotal: 173ms\tremaining: 2m 52s\n",
      "1:\tlearn: 0.6374858\ttotal: 200ms\tremaining: 1m 39s\n",
      "2:\tlearn: 0.6176944\ttotal: 228ms\tremaining: 1m 15s\n",
      "3:\tlearn: 0.5965556\ttotal: 259ms\tremaining: 1m 4s\n",
      "4:\tlearn: 0.5736674\ttotal: 284ms\tremaining: 56.5s\n",
      "5:\tlearn: 0.5576657\ttotal: 304ms\tremaining: 50.4s\n",
      "6:\tlearn: 0.5431500\ttotal: 326ms\tremaining: 46.2s\n",
      "7:\tlearn: 0.5296492\ttotal: 349ms\tremaining: 43.2s\n",
      "8:\tlearn: 0.5182981\ttotal: 372ms\tremaining: 40.9s\n",
      "9:\tlearn: 0.5064734\ttotal: 393ms\tremaining: 38.9s\n",
      "10:\tlearn: 0.4962627\ttotal: 415ms\tremaining: 37.3s\n",
      "11:\tlearn: 0.4876666\ttotal: 441ms\tremaining: 36.3s\n",
      "12:\tlearn: 0.4804615\ttotal: 463ms\tremaining: 35.2s\n",
      "13:\tlearn: 0.4717699\ttotal: 486ms\tremaining: 34.2s\n",
      "14:\tlearn: 0.4657659\ttotal: 508ms\tremaining: 33.4s\n",
      "15:\tlearn: 0.4589708\ttotal: 534ms\tremaining: 32.8s\n",
      "16:\tlearn: 0.4547817\ttotal: 561ms\tremaining: 32.4s\n",
      "17:\tlearn: 0.4503618\ttotal: 587ms\tremaining: 32s\n",
      "18:\tlearn: 0.4470231\ttotal: 610ms\tremaining: 31.5s\n",
      "19:\tlearn: 0.4430819\ttotal: 636ms\tremaining: 31.2s\n",
      "20:\tlearn: 0.4388215\ttotal: 665ms\tremaining: 31s\n",
      "21:\tlearn: 0.4345370\ttotal: 692ms\tremaining: 30.7s\n",
      "22:\tlearn: 0.4311194\ttotal: 715ms\tremaining: 30.4s\n",
      "23:\tlearn: 0.4269641\ttotal: 736ms\tremaining: 29.9s\n",
      "24:\tlearn: 0.4239569\ttotal: 759ms\tremaining: 29.6s\n",
      "25:\tlearn: 0.4210208\ttotal: 782ms\tremaining: 29.3s\n",
      "26:\tlearn: 0.4169572\ttotal: 807ms\tremaining: 29.1s\n",
      "27:\tlearn: 0.4134716\ttotal: 832ms\tremaining: 28.9s\n",
      "28:\tlearn: 0.4106422\ttotal: 858ms\tremaining: 28.7s\n",
      "29:\tlearn: 0.4082574\ttotal: 882ms\tremaining: 28.5s\n",
      "30:\tlearn: 0.4062427\ttotal: 910ms\tremaining: 28.4s\n",
      "31:\tlearn: 0.4042053\ttotal: 933ms\tremaining: 28.2s\n",
      "32:\tlearn: 0.4005553\ttotal: 954ms\tremaining: 28s\n",
      "33:\tlearn: 0.3991041\ttotal: 987ms\tremaining: 28.1s\n",
      "34:\tlearn: 0.3959826\ttotal: 1.02s\tremaining: 28.1s\n",
      "35:\tlearn: 0.3945032\ttotal: 1.05s\tremaining: 28.2s\n",
      "36:\tlearn: 0.3928728\ttotal: 1.09s\tremaining: 28.3s\n",
      "37:\tlearn: 0.3905269\ttotal: 1.12s\tremaining: 28.3s\n",
      "38:\tlearn: 0.3889177\ttotal: 1.14s\tremaining: 28.2s\n",
      "39:\tlearn: 0.3874156\ttotal: 1.17s\tremaining: 28s\n",
      "40:\tlearn: 0.3857536\ttotal: 1.19s\tremaining: 27.8s\n",
      "41:\tlearn: 0.3842616\ttotal: 1.21s\tremaining: 27.6s\n",
      "42:\tlearn: 0.3817374\ttotal: 1.24s\tremaining: 27.5s\n",
      "43:\tlearn: 0.3808634\ttotal: 1.27s\tremaining: 27.5s\n",
      "44:\tlearn: 0.3794493\ttotal: 1.3s\tremaining: 27.6s\n",
      "45:\tlearn: 0.3775164\ttotal: 1.33s\tremaining: 27.7s\n",
      "46:\tlearn: 0.3766717\ttotal: 1.38s\tremaining: 28s\n",
      "47:\tlearn: 0.3753777\ttotal: 1.42s\tremaining: 28.3s\n",
      "48:\tlearn: 0.3735757\ttotal: 1.46s\tremaining: 28.4s\n",
      "49:\tlearn: 0.3715271\ttotal: 1.49s\tremaining: 28.3s\n",
      "50:\tlearn: 0.3708553\ttotal: 1.52s\tremaining: 28.4s\n",
      "51:\tlearn: 0.3697369\ttotal: 1.55s\tremaining: 28.3s\n",
      "52:\tlearn: 0.3685275\ttotal: 1.58s\tremaining: 28.3s\n",
      "53:\tlearn: 0.3669981\ttotal: 1.61s\tremaining: 28.1s\n",
      "54:\tlearn: 0.3655011\ttotal: 1.63s\tremaining: 28.1s\n",
      "55:\tlearn: 0.3641868\ttotal: 1.66s\tremaining: 28s\n",
      "56:\tlearn: 0.3635530\ttotal: 1.69s\tremaining: 28s\n",
      "57:\tlearn: 0.3625030\ttotal: 1.72s\tremaining: 27.9s\n",
      "58:\tlearn: 0.3615914\ttotal: 1.75s\tremaining: 28s\n",
      "59:\tlearn: 0.3604765\ttotal: 1.79s\tremaining: 28s\n",
      "60:\tlearn: 0.3596592\ttotal: 1.81s\tremaining: 27.9s\n",
      "61:\tlearn: 0.3587593\ttotal: 1.84s\tremaining: 27.8s\n",
      "62:\tlearn: 0.3575704\ttotal: 1.87s\tremaining: 27.8s\n",
      "63:\tlearn: 0.3566842\ttotal: 1.9s\tremaining: 27.8s\n",
      "64:\tlearn: 0.3559614\ttotal: 1.94s\tremaining: 27.9s\n",
      "65:\tlearn: 0.3553305\ttotal: 1.97s\tremaining: 27.9s\n",
      "66:\tlearn: 0.3542575\ttotal: 2s\tremaining: 27.9s\n",
      "67:\tlearn: 0.3523388\ttotal: 2.04s\tremaining: 28s\n",
      "68:\tlearn: 0.3511496\ttotal: 2.07s\tremaining: 28s\n",
      "69:\tlearn: 0.3496801\ttotal: 2.11s\tremaining: 28.1s\n",
      "70:\tlearn: 0.3493073\ttotal: 2.15s\tremaining: 28.1s\n",
      "71:\tlearn: 0.3485955\ttotal: 2.18s\tremaining: 28.1s\n",
      "72:\tlearn: 0.3478062\ttotal: 2.22s\tremaining: 28.2s\n",
      "73:\tlearn: 0.3471783\ttotal: 2.26s\tremaining: 28.2s\n",
      "74:\tlearn: 0.3465541\ttotal: 2.29s\tremaining: 28.2s\n",
      "75:\tlearn: 0.3458127\ttotal: 2.31s\tremaining: 28.1s\n",
      "76:\tlearn: 0.3448228\ttotal: 2.33s\tremaining: 28s\n",
      "77:\tlearn: 0.3427649\ttotal: 2.35s\tremaining: 27.8s\n",
      "78:\tlearn: 0.3409670\ttotal: 2.37s\tremaining: 27.7s\n",
      "79:\tlearn: 0.3397100\ttotal: 2.41s\tremaining: 27.7s\n",
      "80:\tlearn: 0.3387443\ttotal: 2.44s\tremaining: 27.7s\n",
      "81:\tlearn: 0.3381729\ttotal: 2.47s\tremaining: 27.7s\n",
      "82:\tlearn: 0.3371557\ttotal: 2.5s\tremaining: 27.7s\n",
      "83:\tlearn: 0.3364812\ttotal: 2.54s\tremaining: 27.6s\n",
      "84:\tlearn: 0.3352354\ttotal: 2.56s\tremaining: 27.6s\n",
      "85:\tlearn: 0.3339035\ttotal: 2.6s\tremaining: 27.7s\n",
      "86:\tlearn: 0.3331909\ttotal: 2.63s\tremaining: 27.7s\n",
      "87:\tlearn: 0.3328664\ttotal: 2.66s\tremaining: 27.6s\n",
      "88:\tlearn: 0.3318995\ttotal: 2.7s\tremaining: 27.7s\n",
      "89:\tlearn: 0.3307734\ttotal: 2.73s\tremaining: 27.6s\n",
      "90:\tlearn: 0.3303166\ttotal: 2.76s\tremaining: 27.6s\n",
      "91:\tlearn: 0.3298977\ttotal: 2.79s\tremaining: 27.6s\n",
      "92:\tlearn: 0.3290856\ttotal: 2.82s\tremaining: 27.5s\n",
      "93:\tlearn: 0.3280978\ttotal: 2.84s\tremaining: 27.4s\n",
      "94:\tlearn: 0.3276848\ttotal: 2.87s\tremaining: 27.3s\n",
      "95:\tlearn: 0.3271688\ttotal: 2.9s\tremaining: 27.3s\n",
      "96:\tlearn: 0.3267534\ttotal: 2.93s\tremaining: 27.3s\n",
      "97:\tlearn: 0.3261843\ttotal: 2.96s\tremaining: 27.3s\n",
      "98:\tlearn: 0.3256315\ttotal: 3.01s\tremaining: 27.4s\n",
      "99:\tlearn: 0.3252711\ttotal: 3.05s\tremaining: 27.4s\n",
      "100:\tlearn: 0.3249820\ttotal: 3.1s\tremaining: 27.6s\n",
      "101:\tlearn: 0.3245073\ttotal: 3.13s\tremaining: 27.6s\n",
      "102:\tlearn: 0.3238559\ttotal: 3.16s\tremaining: 27.6s\n",
      "103:\tlearn: 0.3234591\ttotal: 3.19s\tremaining: 27.5s\n",
      "104:\tlearn: 0.3228419\ttotal: 3.22s\tremaining: 27.4s\n",
      "105:\tlearn: 0.3223760\ttotal: 3.25s\tremaining: 27.4s\n",
      "106:\tlearn: 0.3217401\ttotal: 3.28s\tremaining: 27.4s\n",
      "107:\tlearn: 0.3214343\ttotal: 3.32s\tremaining: 27.4s\n",
      "108:\tlearn: 0.3204066\ttotal: 3.35s\tremaining: 27.4s\n",
      "109:\tlearn: 0.3200470\ttotal: 3.37s\tremaining: 27.3s\n",
      "110:\tlearn: 0.3194681\ttotal: 3.4s\tremaining: 27.2s\n",
      "111:\tlearn: 0.3187123\ttotal: 3.43s\tremaining: 27.2s\n",
      "112:\tlearn: 0.3184370\ttotal: 3.47s\tremaining: 27.2s\n",
      "113:\tlearn: 0.3180313\ttotal: 3.5s\tremaining: 27.2s\n",
      "114:\tlearn: 0.3167697\ttotal: 3.53s\tremaining: 27.2s\n",
      "115:\tlearn: 0.3161227\ttotal: 3.56s\tremaining: 27.1s\n",
      "116:\tlearn: 0.3157992\ttotal: 3.59s\tremaining: 27.1s\n",
      "117:\tlearn: 0.3154892\ttotal: 3.61s\tremaining: 27s\n",
      "118:\tlearn: 0.3147037\ttotal: 3.63s\tremaining: 26.9s\n",
      "119:\tlearn: 0.3142797\ttotal: 3.66s\tremaining: 26.9s\n",
      "120:\tlearn: 0.3139486\ttotal: 3.7s\tremaining: 26.9s\n",
      "121:\tlearn: 0.3136778\ttotal: 3.73s\tremaining: 26.9s\n",
      "122:\tlearn: 0.3131289\ttotal: 3.77s\tremaining: 26.9s\n",
      "123:\tlearn: 0.3128270\ttotal: 3.81s\tremaining: 26.9s\n",
      "124:\tlearn: 0.3123918\ttotal: 3.86s\tremaining: 27s\n",
      "125:\tlearn: 0.3116937\ttotal: 3.89s\tremaining: 27s\n",
      "126:\tlearn: 0.3108873\ttotal: 3.92s\tremaining: 27s\n",
      "127:\tlearn: 0.3100545\ttotal: 3.96s\tremaining: 27s\n",
      "128:\tlearn: 0.3095346\ttotal: 3.99s\tremaining: 26.9s\n",
      "129:\tlearn: 0.3090654\ttotal: 4.02s\tremaining: 26.9s\n",
      "130:\tlearn: 0.3084533\ttotal: 4.07s\tremaining: 27s\n",
      "131:\tlearn: 0.3079164\ttotal: 4.11s\tremaining: 27s\n",
      "132:\tlearn: 0.3069833\ttotal: 4.14s\tremaining: 27s\n",
      "133:\tlearn: 0.3067320\ttotal: 4.19s\tremaining: 27.1s\n",
      "134:\tlearn: 0.3061300\ttotal: 4.24s\tremaining: 27.1s\n",
      "135:\tlearn: 0.3058816\ttotal: 4.28s\tremaining: 27.2s\n",
      "136:\tlearn: 0.3053637\ttotal: 4.32s\tremaining: 27.2s\n",
      "137:\tlearn: 0.3049834\ttotal: 4.35s\tremaining: 27.2s\n",
      "138:\tlearn: 0.3044762\ttotal: 4.39s\tremaining: 27.2s\n",
      "139:\tlearn: 0.3042711\ttotal: 4.43s\tremaining: 27.2s\n",
      "140:\tlearn: 0.3038874\ttotal: 4.46s\tremaining: 27.2s\n",
      "141:\tlearn: 0.3029923\ttotal: 4.5s\tremaining: 27.2s\n",
      "142:\tlearn: 0.3026091\ttotal: 4.53s\tremaining: 27.2s\n",
      "143:\tlearn: 0.3023757\ttotal: 4.56s\tremaining: 27.1s\n",
      "144:\tlearn: 0.3018324\ttotal: 4.6s\tremaining: 27.1s\n",
      "145:\tlearn: 0.3013713\ttotal: 4.63s\tremaining: 27.1s\n",
      "146:\tlearn: 0.3011135\ttotal: 4.65s\tremaining: 27s\n",
      "147:\tlearn: 0.3006737\ttotal: 4.67s\tremaining: 26.9s\n",
      "148:\tlearn: 0.3003960\ttotal: 4.7s\tremaining: 26.8s\n",
      "149:\tlearn: 0.3000965\ttotal: 4.73s\tremaining: 26.8s\n",
      "150:\tlearn: 0.2998024\ttotal: 4.85s\tremaining: 27.3s\n",
      "151:\tlearn: 0.2990842\ttotal: 4.9s\tremaining: 27.3s\n",
      "152:\tlearn: 0.2987032\ttotal: 4.96s\tremaining: 27.5s\n",
      "153:\tlearn: 0.2984625\ttotal: 5s\tremaining: 27.4s\n",
      "154:\tlearn: 0.2979752\ttotal: 5.04s\tremaining: 27.5s\n",
      "155:\tlearn: 0.2976835\ttotal: 5.07s\tremaining: 27.4s\n",
      "156:\tlearn: 0.2973761\ttotal: 5.09s\tremaining: 27.3s\n",
      "157:\tlearn: 0.2966481\ttotal: 5.11s\tremaining: 27.3s\n",
      "158:\tlearn: 0.2962988\ttotal: 5.14s\tremaining: 27.2s\n",
      "159:\tlearn: 0.2959223\ttotal: 5.16s\tremaining: 27.1s\n",
      "160:\tlearn: 0.2956849\ttotal: 5.19s\tremaining: 27s\n",
      "161:\tlearn: 0.2952156\ttotal: 5.21s\tremaining: 27s\n",
      "162:\tlearn: 0.2949326\ttotal: 5.24s\tremaining: 26.9s\n",
      "163:\tlearn: 0.2945631\ttotal: 5.27s\tremaining: 26.9s\n",
      "164:\tlearn: 0.2942662\ttotal: 5.29s\tremaining: 26.8s\n",
      "165:\tlearn: 0.2939043\ttotal: 5.31s\tremaining: 26.7s\n",
      "166:\tlearn: 0.2937470\ttotal: 5.33s\tremaining: 26.6s\n",
      "167:\tlearn: 0.2933425\ttotal: 5.36s\tremaining: 26.5s\n",
      "168:\tlearn: 0.2929036\ttotal: 5.38s\tremaining: 26.4s\n"
     ]
    },
    {
     "name": "stdout",
     "output_type": "stream",
     "text": [
      "169:\tlearn: 0.2927068\ttotal: 5.4s\tremaining: 26.4s\n",
      "170:\tlearn: 0.2924246\ttotal: 5.42s\tremaining: 26.3s\n",
      "171:\tlearn: 0.2921835\ttotal: 5.45s\tremaining: 26.2s\n",
      "172:\tlearn: 0.2919616\ttotal: 5.47s\tremaining: 26.1s\n",
      "173:\tlearn: 0.2914913\ttotal: 5.49s\tremaining: 26.1s\n",
      "174:\tlearn: 0.2912833\ttotal: 5.51s\tremaining: 26s\n",
      "175:\tlearn: 0.2907087\ttotal: 5.54s\tremaining: 25.9s\n",
      "176:\tlearn: 0.2904061\ttotal: 5.56s\tremaining: 25.9s\n",
      "177:\tlearn: 0.2897789\ttotal: 5.58s\tremaining: 25.8s\n",
      "178:\tlearn: 0.2893837\ttotal: 5.61s\tremaining: 25.7s\n",
      "179:\tlearn: 0.2890353\ttotal: 5.64s\tremaining: 25.7s\n",
      "180:\tlearn: 0.2886531\ttotal: 5.67s\tremaining: 25.6s\n",
      "181:\tlearn: 0.2884886\ttotal: 5.69s\tremaining: 25.6s\n",
      "182:\tlearn: 0.2881695\ttotal: 5.71s\tremaining: 25.5s\n",
      "183:\tlearn: 0.2877806\ttotal: 5.74s\tremaining: 25.4s\n",
      "184:\tlearn: 0.2875973\ttotal: 5.76s\tremaining: 25.4s\n",
      "185:\tlearn: 0.2872782\ttotal: 5.79s\tremaining: 25.3s\n",
      "186:\tlearn: 0.2866778\ttotal: 5.81s\tremaining: 25.3s\n",
      "187:\tlearn: 0.2864383\ttotal: 5.84s\tremaining: 25.2s\n",
      "188:\tlearn: 0.2860623\ttotal: 5.86s\tremaining: 25.1s\n",
      "189:\tlearn: 0.2856666\ttotal: 5.88s\tremaining: 25.1s\n",
      "190:\tlearn: 0.2853962\ttotal: 5.91s\tremaining: 25s\n",
      "191:\tlearn: 0.2852151\ttotal: 5.93s\tremaining: 25s\n",
      "192:\tlearn: 0.2849198\ttotal: 5.96s\tremaining: 24.9s\n",
      "193:\tlearn: 0.2847118\ttotal: 5.98s\tremaining: 24.8s\n",
      "194:\tlearn: 0.2844743\ttotal: 6s\tremaining: 24.8s\n",
      "195:\tlearn: 0.2838506\ttotal: 6.02s\tremaining: 24.7s\n",
      "196:\tlearn: 0.2834725\ttotal: 6.05s\tremaining: 24.7s\n",
      "197:\tlearn: 0.2832101\ttotal: 6.08s\tremaining: 24.6s\n",
      "198:\tlearn: 0.2828155\ttotal: 6.1s\tremaining: 24.5s\n",
      "199:\tlearn: 0.2825316\ttotal: 6.12s\tremaining: 24.5s\n",
      "200:\tlearn: 0.2821258\ttotal: 6.14s\tremaining: 24.4s\n",
      "201:\tlearn: 0.2818475\ttotal: 6.16s\tremaining: 24.3s\n",
      "202:\tlearn: 0.2816484\ttotal: 6.19s\tremaining: 24.3s\n",
      "203:\tlearn: 0.2812426\ttotal: 6.22s\tremaining: 24.3s\n",
      "204:\tlearn: 0.2809877\ttotal: 6.25s\tremaining: 24.2s\n",
      "205:\tlearn: 0.2807218\ttotal: 6.27s\tremaining: 24.2s\n",
      "206:\tlearn: 0.2805211\ttotal: 6.29s\tremaining: 24.1s\n",
      "207:\tlearn: 0.2802339\ttotal: 6.31s\tremaining: 24s\n",
      "208:\tlearn: 0.2798958\ttotal: 6.33s\tremaining: 24s\n",
      "209:\tlearn: 0.2796200\ttotal: 6.36s\tremaining: 23.9s\n",
      "210:\tlearn: 0.2794469\ttotal: 6.38s\tremaining: 23.9s\n",
      "211:\tlearn: 0.2792179\ttotal: 6.4s\tremaining: 23.8s\n",
      "212:\tlearn: 0.2789152\ttotal: 6.42s\tremaining: 23.7s\n",
      "213:\tlearn: 0.2787499\ttotal: 6.45s\tremaining: 23.7s\n",
      "214:\tlearn: 0.2784864\ttotal: 6.47s\tremaining: 23.6s\n",
      "215:\tlearn: 0.2782358\ttotal: 6.5s\tremaining: 23.6s\n",
      "216:\tlearn: 0.2780763\ttotal: 6.52s\tremaining: 23.5s\n",
      "217:\tlearn: 0.2777986\ttotal: 6.54s\tremaining: 23.5s\n",
      "218:\tlearn: 0.2774806\ttotal: 6.56s\tremaining: 23.4s\n",
      "219:\tlearn: 0.2773221\ttotal: 6.58s\tremaining: 23.4s\n",
      "220:\tlearn: 0.2771631\ttotal: 6.61s\tremaining: 23.3s\n",
      "221:\tlearn: 0.2769041\ttotal: 6.63s\tremaining: 23.3s\n",
      "222:\tlearn: 0.2766734\ttotal: 6.66s\tremaining: 23.2s\n",
      "223:\tlearn: 0.2763668\ttotal: 6.68s\tremaining: 23.2s\n",
      "224:\tlearn: 0.2762004\ttotal: 6.71s\tremaining: 23.1s\n",
      "225:\tlearn: 0.2755844\ttotal: 6.73s\tremaining: 23.1s\n",
      "226:\tlearn: 0.2751942\ttotal: 6.75s\tremaining: 23s\n",
      "227:\tlearn: 0.2748943\ttotal: 6.78s\tremaining: 23s\n",
      "228:\tlearn: 0.2746557\ttotal: 6.8s\tremaining: 22.9s\n",
      "229:\tlearn: 0.2741388\ttotal: 6.82s\tremaining: 22.8s\n",
      "230:\tlearn: 0.2738671\ttotal: 6.85s\tremaining: 22.8s\n",
      "231:\tlearn: 0.2734984\ttotal: 6.87s\tremaining: 22.8s\n",
      "232:\tlearn: 0.2733872\ttotal: 6.9s\tremaining: 22.7s\n",
      "233:\tlearn: 0.2731622\ttotal: 6.92s\tremaining: 22.6s\n",
      "234:\tlearn: 0.2729731\ttotal: 6.94s\tremaining: 22.6s\n",
      "235:\tlearn: 0.2728038\ttotal: 6.96s\tremaining: 22.5s\n",
      "236:\tlearn: 0.2726078\ttotal: 6.99s\tremaining: 22.5s\n",
      "237:\tlearn: 0.2723938\ttotal: 7.01s\tremaining: 22.4s\n",
      "238:\tlearn: 0.2719879\ttotal: 7.03s\tremaining: 22.4s\n",
      "239:\tlearn: 0.2717182\ttotal: 7.05s\tremaining: 22.3s\n",
      "240:\tlearn: 0.2713884\ttotal: 7.08s\tremaining: 22.3s\n",
      "241:\tlearn: 0.2711713\ttotal: 7.1s\tremaining: 22.2s\n",
      "242:\tlearn: 0.2709243\ttotal: 7.12s\tremaining: 22.2s\n",
      "243:\tlearn: 0.2707366\ttotal: 7.15s\tremaining: 22.1s\n",
      "244:\tlearn: 0.2700694\ttotal: 7.17s\tremaining: 22.1s\n",
      "245:\tlearn: 0.2698350\ttotal: 7.2s\tremaining: 22.1s\n",
      "246:\tlearn: 0.2696692\ttotal: 7.22s\tremaining: 22s\n",
      "247:\tlearn: 0.2690446\ttotal: 7.25s\tremaining: 22s\n",
      "248:\tlearn: 0.2687786\ttotal: 7.27s\tremaining: 21.9s\n",
      "249:\tlearn: 0.2686578\ttotal: 7.29s\tremaining: 21.9s\n",
      "250:\tlearn: 0.2683949\ttotal: 7.32s\tremaining: 21.8s\n",
      "251:\tlearn: 0.2677635\ttotal: 7.34s\tremaining: 21.8s\n",
      "252:\tlearn: 0.2675438\ttotal: 7.36s\tremaining: 21.7s\n",
      "253:\tlearn: 0.2673516\ttotal: 7.38s\tremaining: 21.7s\n",
      "254:\tlearn: 0.2671448\ttotal: 7.41s\tremaining: 21.6s\n",
      "255:\tlearn: 0.2669454\ttotal: 7.43s\tremaining: 21.6s\n",
      "256:\tlearn: 0.2667715\ttotal: 7.45s\tremaining: 21.5s\n",
      "257:\tlearn: 0.2666317\ttotal: 7.47s\tremaining: 21.5s\n",
      "258:\tlearn: 0.2664281\ttotal: 7.5s\tremaining: 21.5s\n",
      "259:\tlearn: 0.2661957\ttotal: 7.52s\tremaining: 21.4s\n",
      "260:\tlearn: 0.2660189\ttotal: 7.54s\tremaining: 21.4s\n",
      "261:\tlearn: 0.2655989\ttotal: 7.57s\tremaining: 21.3s\n",
      "262:\tlearn: 0.2653396\ttotal: 7.59s\tremaining: 21.3s\n",
      "263:\tlearn: 0.2652419\ttotal: 7.62s\tremaining: 21.2s\n",
      "264:\tlearn: 0.2651550\ttotal: 7.64s\tremaining: 21.2s\n",
      "265:\tlearn: 0.2649277\ttotal: 7.67s\tremaining: 21.2s\n",
      "266:\tlearn: 0.2647892\ttotal: 7.69s\tremaining: 21.1s\n",
      "267:\tlearn: 0.2645849\ttotal: 7.71s\tremaining: 21.1s\n",
      "268:\tlearn: 0.2640826\ttotal: 7.74s\tremaining: 21s\n",
      "269:\tlearn: 0.2639322\ttotal: 7.76s\tremaining: 21s\n",
      "270:\tlearn: 0.2637050\ttotal: 7.78s\tremaining: 20.9s\n",
      "271:\tlearn: 0.2634736\ttotal: 7.81s\tremaining: 20.9s\n",
      "272:\tlearn: 0.2632309\ttotal: 7.83s\tremaining: 20.9s\n",
      "273:\tlearn: 0.2628600\ttotal: 7.86s\tremaining: 20.8s\n",
      "274:\tlearn: 0.2627254\ttotal: 7.88s\tremaining: 20.8s\n",
      "275:\tlearn: 0.2626009\ttotal: 7.9s\tremaining: 20.7s\n",
      "276:\tlearn: 0.2624570\ttotal: 7.92s\tremaining: 20.7s\n",
      "277:\tlearn: 0.2621812\ttotal: 7.95s\tremaining: 20.6s\n",
      "278:\tlearn: 0.2619590\ttotal: 7.97s\tremaining: 20.6s\n",
      "279:\tlearn: 0.2618067\ttotal: 8s\tremaining: 20.6s\n",
      "280:\tlearn: 0.2616594\ttotal: 8.02s\tremaining: 20.5s\n",
      "281:\tlearn: 0.2614407\ttotal: 8.04s\tremaining: 20.5s\n",
      "282:\tlearn: 0.2613211\ttotal: 8.06s\tremaining: 20.4s\n",
      "283:\tlearn: 0.2611415\ttotal: 8.09s\tremaining: 20.4s\n",
      "284:\tlearn: 0.2605471\ttotal: 8.11s\tremaining: 20.3s\n",
      "285:\tlearn: 0.2603398\ttotal: 8.14s\tremaining: 20.3s\n",
      "286:\tlearn: 0.2602110\ttotal: 8.16s\tremaining: 20.3s\n",
      "287:\tlearn: 0.2598450\ttotal: 8.19s\tremaining: 20.2s\n",
      "288:\tlearn: 0.2597034\ttotal: 8.21s\tremaining: 20.2s\n",
      "289:\tlearn: 0.2594976\ttotal: 8.23s\tremaining: 20.2s\n",
      "290:\tlearn: 0.2593093\ttotal: 8.27s\tremaining: 20.1s\n",
      "291:\tlearn: 0.2591569\ttotal: 8.29s\tremaining: 20.1s\n",
      "292:\tlearn: 0.2587636\ttotal: 8.32s\tremaining: 20.1s\n",
      "293:\tlearn: 0.2585881\ttotal: 8.34s\tremaining: 20s\n",
      "294:\tlearn: 0.2582961\ttotal: 8.37s\tremaining: 20s\n",
      "295:\tlearn: 0.2578547\ttotal: 8.39s\tremaining: 20s\n",
      "296:\tlearn: 0.2576759\ttotal: 8.41s\tremaining: 19.9s\n",
      "297:\tlearn: 0.2575520\ttotal: 8.43s\tremaining: 19.9s\n",
      "298:\tlearn: 0.2574310\ttotal: 8.46s\tremaining: 19.8s\n",
      "299:\tlearn: 0.2573121\ttotal: 8.48s\tremaining: 19.8s\n",
      "300:\tlearn: 0.2571301\ttotal: 8.51s\tremaining: 19.8s\n",
      "301:\tlearn: 0.2570125\ttotal: 8.53s\tremaining: 19.7s\n",
      "302:\tlearn: 0.2568932\ttotal: 8.55s\tremaining: 19.7s\n",
      "303:\tlearn: 0.2565538\ttotal: 8.57s\tremaining: 19.6s\n",
      "304:\tlearn: 0.2562818\ttotal: 8.59s\tremaining: 19.6s\n",
      "305:\tlearn: 0.2561315\ttotal: 8.61s\tremaining: 19.5s\n",
      "306:\tlearn: 0.2557347\ttotal: 8.63s\tremaining: 19.5s\n",
      "307:\tlearn: 0.2554980\ttotal: 8.66s\tremaining: 19.4s\n",
      "308:\tlearn: 0.2552971\ttotal: 8.68s\tremaining: 19.4s\n",
      "309:\tlearn: 0.2550841\ttotal: 8.71s\tremaining: 19.4s\n",
      "310:\tlearn: 0.2549005\ttotal: 8.73s\tremaining: 19.3s\n",
      "311:\tlearn: 0.2545989\ttotal: 8.75s\tremaining: 19.3s\n",
      "312:\tlearn: 0.2543321\ttotal: 8.77s\tremaining: 19.3s\n",
      "313:\tlearn: 0.2541111\ttotal: 8.8s\tremaining: 19.2s\n",
      "314:\tlearn: 0.2539810\ttotal: 8.82s\tremaining: 19.2s\n",
      "315:\tlearn: 0.2538083\ttotal: 8.84s\tremaining: 19.1s\n",
      "316:\tlearn: 0.2536478\ttotal: 8.87s\tremaining: 19.1s\n",
      "317:\tlearn: 0.2533200\ttotal: 8.9s\tremaining: 19.1s\n",
      "318:\tlearn: 0.2532285\ttotal: 8.92s\tremaining: 19s\n",
      "319:\tlearn: 0.2529695\ttotal: 8.95s\tremaining: 19s\n",
      "320:\tlearn: 0.2526867\ttotal: 8.96s\tremaining: 19s\n",
      "321:\tlearn: 0.2522206\ttotal: 8.99s\tremaining: 18.9s\n",
      "322:\tlearn: 0.2517454\ttotal: 9.01s\tremaining: 18.9s\n",
      "323:\tlearn: 0.2516116\ttotal: 9.04s\tremaining: 18.9s\n",
      "324:\tlearn: 0.2513968\ttotal: 9.06s\tremaining: 18.8s\n",
      "325:\tlearn: 0.2512869\ttotal: 9.08s\tremaining: 18.8s\n",
      "326:\tlearn: 0.2511676\ttotal: 9.1s\tremaining: 18.7s\n",
      "327:\tlearn: 0.2509313\ttotal: 9.13s\tremaining: 18.7s\n",
      "328:\tlearn: 0.2508116\ttotal: 9.15s\tremaining: 18.7s\n",
      "329:\tlearn: 0.2507207\ttotal: 9.17s\tremaining: 18.6s\n",
      "330:\tlearn: 0.2506072\ttotal: 9.19s\tremaining: 18.6s\n",
      "331:\tlearn: 0.2504731\ttotal: 9.21s\tremaining: 18.5s\n",
      "332:\tlearn: 0.2503376\ttotal: 9.23s\tremaining: 18.5s\n",
      "333:\tlearn: 0.2502139\ttotal: 9.26s\tremaining: 18.5s\n",
      "334:\tlearn: 0.2498908\ttotal: 9.28s\tremaining: 18.4s\n"
     ]
    },
    {
     "name": "stdout",
     "output_type": "stream",
     "text": [
      "335:\tlearn: 0.2495367\ttotal: 9.31s\tremaining: 18.4s\n",
      "336:\tlearn: 0.2493501\ttotal: 9.33s\tremaining: 18.4s\n",
      "337:\tlearn: 0.2491755\ttotal: 9.36s\tremaining: 18.3s\n",
      "338:\tlearn: 0.2490492\ttotal: 9.38s\tremaining: 18.3s\n",
      "339:\tlearn: 0.2489083\ttotal: 9.4s\tremaining: 18.2s\n",
      "340:\tlearn: 0.2487486\ttotal: 9.42s\tremaining: 18.2s\n",
      "341:\tlearn: 0.2485082\ttotal: 9.44s\tremaining: 18.2s\n",
      "342:\tlearn: 0.2483935\ttotal: 9.46s\tremaining: 18.1s\n",
      "343:\tlearn: 0.2481821\ttotal: 9.49s\tremaining: 18.1s\n",
      "344:\tlearn: 0.2479483\ttotal: 9.51s\tremaining: 18.1s\n",
      "345:\tlearn: 0.2476851\ttotal: 9.54s\tremaining: 18s\n",
      "346:\tlearn: 0.2475090\ttotal: 9.56s\tremaining: 18s\n",
      "347:\tlearn: 0.2474058\ttotal: 9.58s\tremaining: 17.9s\n",
      "348:\tlearn: 0.2472732\ttotal: 9.6s\tremaining: 17.9s\n",
      "349:\tlearn: 0.2471145\ttotal: 9.62s\tremaining: 17.9s\n",
      "350:\tlearn: 0.2468421\ttotal: 9.64s\tremaining: 17.8s\n",
      "351:\tlearn: 0.2466904\ttotal: 9.67s\tremaining: 17.8s\n",
      "352:\tlearn: 0.2465520\ttotal: 9.7s\tremaining: 17.8s\n",
      "353:\tlearn: 0.2463796\ttotal: 9.72s\tremaining: 17.7s\n",
      "354:\tlearn: 0.2462610\ttotal: 9.74s\tremaining: 17.7s\n",
      "355:\tlearn: 0.2461104\ttotal: 9.77s\tremaining: 17.7s\n",
      "356:\tlearn: 0.2459583\ttotal: 9.79s\tremaining: 17.6s\n",
      "357:\tlearn: 0.2458019\ttotal: 9.81s\tremaining: 17.6s\n",
      "358:\tlearn: 0.2456353\ttotal: 9.84s\tremaining: 17.6s\n",
      "359:\tlearn: 0.2453669\ttotal: 9.86s\tremaining: 17.5s\n",
      "360:\tlearn: 0.2452289\ttotal: 9.88s\tremaining: 17.5s\n",
      "361:\tlearn: 0.2450747\ttotal: 9.91s\tremaining: 17.5s\n",
      "362:\tlearn: 0.2448032\ttotal: 9.93s\tremaining: 17.4s\n",
      "363:\tlearn: 0.2446996\ttotal: 9.96s\tremaining: 17.4s\n",
      "364:\tlearn: 0.2445147\ttotal: 9.98s\tremaining: 17.4s\n",
      "365:\tlearn: 0.2441428\ttotal: 10s\tremaining: 17.4s\n",
      "366:\tlearn: 0.2439057\ttotal: 10.1s\tremaining: 17.4s\n",
      "367:\tlearn: 0.2437136\ttotal: 10.1s\tremaining: 17.4s\n",
      "368:\tlearn: 0.2435902\ttotal: 10.1s\tremaining: 17.4s\n",
      "369:\tlearn: 0.2434536\ttotal: 10.2s\tremaining: 17.3s\n",
      "370:\tlearn: 0.2433287\ttotal: 10.2s\tremaining: 17.3s\n",
      "371:\tlearn: 0.2432143\ttotal: 10.3s\tremaining: 17.3s\n",
      "372:\tlearn: 0.2430808\ttotal: 10.3s\tremaining: 17.3s\n",
      "373:\tlearn: 0.2429417\ttotal: 10.4s\tremaining: 17.3s\n",
      "374:\tlearn: 0.2428224\ttotal: 10.4s\tremaining: 17.3s\n",
      "375:\tlearn: 0.2426897\ttotal: 10.4s\tremaining: 17.3s\n",
      "376:\tlearn: 0.2425176\ttotal: 10.5s\tremaining: 17.3s\n",
      "377:\tlearn: 0.2423663\ttotal: 10.5s\tremaining: 17.3s\n",
      "378:\tlearn: 0.2422507\ttotal: 10.6s\tremaining: 17.3s\n",
      "379:\tlearn: 0.2421145\ttotal: 10.6s\tremaining: 17.3s\n",
      "380:\tlearn: 0.2419798\ttotal: 10.6s\tremaining: 17.3s\n",
      "381:\tlearn: 0.2418783\ttotal: 10.7s\tremaining: 17.2s\n",
      "382:\tlearn: 0.2417572\ttotal: 10.7s\tremaining: 17.2s\n",
      "383:\tlearn: 0.2416296\ttotal: 10.7s\tremaining: 17.2s\n",
      "384:\tlearn: 0.2415622\ttotal: 10.8s\tremaining: 17.2s\n",
      "385:\tlearn: 0.2414455\ttotal: 10.8s\tremaining: 17.2s\n",
      "386:\tlearn: 0.2413250\ttotal: 10.8s\tremaining: 17.1s\n",
      "387:\tlearn: 0.2412141\ttotal: 10.8s\tremaining: 17.1s\n",
      "388:\tlearn: 0.2410712\ttotal: 10.9s\tremaining: 17.1s\n",
      "389:\tlearn: 0.2408836\ttotal: 10.9s\tremaining: 17s\n",
      "390:\tlearn: 0.2407048\ttotal: 10.9s\tremaining: 17s\n",
      "391:\tlearn: 0.2405577\ttotal: 10.9s\tremaining: 17s\n",
      "392:\tlearn: 0.2403823\ttotal: 11s\tremaining: 16.9s\n",
      "393:\tlearn: 0.2401758\ttotal: 11s\tremaining: 16.9s\n",
      "394:\tlearn: 0.2400949\ttotal: 11s\tremaining: 16.9s\n",
      "395:\tlearn: 0.2399292\ttotal: 11s\tremaining: 16.8s\n",
      "396:\tlearn: 0.2397667\ttotal: 11.1s\tremaining: 16.8s\n",
      "397:\tlearn: 0.2396184\ttotal: 11.1s\tremaining: 16.8s\n",
      "398:\tlearn: 0.2394619\ttotal: 11.1s\tremaining: 16.7s\n",
      "399:\tlearn: 0.2392431\ttotal: 11.1s\tremaining: 16.7s\n",
      "400:\tlearn: 0.2391483\ttotal: 11.2s\tremaining: 16.7s\n",
      "401:\tlearn: 0.2388466\ttotal: 11.2s\tremaining: 16.6s\n",
      "402:\tlearn: 0.2387826\ttotal: 11.2s\tremaining: 16.6s\n",
      "403:\tlearn: 0.2386397\ttotal: 11.2s\tremaining: 16.6s\n",
      "404:\tlearn: 0.2385636\ttotal: 11.3s\tremaining: 16.5s\n",
      "405:\tlearn: 0.2382874\ttotal: 11.3s\tremaining: 16.5s\n",
      "406:\tlearn: 0.2381892\ttotal: 11.3s\tremaining: 16.5s\n",
      "407:\tlearn: 0.2381280\ttotal: 11.3s\tremaining: 16.4s\n",
      "408:\tlearn: 0.2380380\ttotal: 11.3s\tremaining: 16.4s\n",
      "409:\tlearn: 0.2378538\ttotal: 11.4s\tremaining: 16.4s\n",
      "410:\tlearn: 0.2375925\ttotal: 11.4s\tremaining: 16.3s\n",
      "411:\tlearn: 0.2374266\ttotal: 11.4s\tremaining: 16.3s\n",
      "412:\tlearn: 0.2373301\ttotal: 11.4s\tremaining: 16.3s\n",
      "413:\tlearn: 0.2371140\ttotal: 11.5s\tremaining: 16.2s\n",
      "414:\tlearn: 0.2369394\ttotal: 11.5s\tremaining: 16.2s\n",
      "415:\tlearn: 0.2368575\ttotal: 11.5s\tremaining: 16.2s\n",
      "416:\tlearn: 0.2367532\ttotal: 11.5s\tremaining: 16.1s\n",
      "417:\tlearn: 0.2364928\ttotal: 11.6s\tremaining: 16.1s\n",
      "418:\tlearn: 0.2363328\ttotal: 11.6s\tremaining: 16.1s\n",
      "419:\tlearn: 0.2362280\ttotal: 11.6s\tremaining: 16s\n",
      "420:\tlearn: 0.2360504\ttotal: 11.6s\tremaining: 16s\n",
      "421:\tlearn: 0.2359788\ttotal: 11.6s\tremaining: 15.9s\n",
      "422:\tlearn: 0.2357588\ttotal: 11.7s\tremaining: 15.9s\n",
      "423:\tlearn: 0.2356001\ttotal: 11.7s\tremaining: 15.9s\n",
      "424:\tlearn: 0.2354799\ttotal: 11.7s\tremaining: 15.8s\n",
      "425:\tlearn: 0.2353917\ttotal: 11.7s\tremaining: 15.8s\n",
      "426:\tlearn: 0.2352793\ttotal: 11.8s\tremaining: 15.8s\n",
      "427:\tlearn: 0.2350767\ttotal: 11.8s\tremaining: 15.8s\n",
      "428:\tlearn: 0.2350033\ttotal: 11.8s\tremaining: 15.7s\n",
      "429:\tlearn: 0.2349024\ttotal: 11.8s\tremaining: 15.7s\n",
      "430:\tlearn: 0.2348341\ttotal: 11.9s\tremaining: 15.7s\n",
      "431:\tlearn: 0.2347291\ttotal: 11.9s\tremaining: 15.6s\n",
      "432:\tlearn: 0.2346019\ttotal: 11.9s\tremaining: 15.6s\n",
      "433:\tlearn: 0.2344839\ttotal: 11.9s\tremaining: 15.6s\n",
      "434:\tlearn: 0.2343636\ttotal: 12s\tremaining: 15.5s\n",
      "435:\tlearn: 0.2341780\ttotal: 12s\tremaining: 15.5s\n",
      "436:\tlearn: 0.2340907\ttotal: 12s\tremaining: 15.5s\n",
      "437:\tlearn: 0.2339669\ttotal: 12s\tremaining: 15.4s\n",
      "438:\tlearn: 0.2338440\ttotal: 12.1s\tremaining: 15.4s\n",
      "439:\tlearn: 0.2337391\ttotal: 12.1s\tremaining: 15.4s\n",
      "440:\tlearn: 0.2336449\ttotal: 12.1s\tremaining: 15.3s\n",
      "441:\tlearn: 0.2334017\ttotal: 12.1s\tremaining: 15.3s\n",
      "442:\tlearn: 0.2333273\ttotal: 12.2s\tremaining: 15.3s\n",
      "443:\tlearn: 0.2331325\ttotal: 12.2s\tremaining: 15.2s\n",
      "444:\tlearn: 0.2330615\ttotal: 12.2s\tremaining: 15.2s\n",
      "445:\tlearn: 0.2329331\ttotal: 12.2s\tremaining: 15.2s\n",
      "446:\tlearn: 0.2328466\ttotal: 12.2s\tremaining: 15.2s\n",
      "447:\tlearn: 0.2327885\ttotal: 12.3s\tremaining: 15.1s\n",
      "448:\tlearn: 0.2327021\ttotal: 12.3s\tremaining: 15.1s\n",
      "449:\tlearn: 0.2326455\ttotal: 12.3s\tremaining: 15s\n",
      "450:\tlearn: 0.2324850\ttotal: 12.3s\tremaining: 15s\n",
      "451:\tlearn: 0.2323983\ttotal: 12.4s\tremaining: 15s\n",
      "452:\tlearn: 0.2322652\ttotal: 12.4s\tremaining: 15s\n",
      "453:\tlearn: 0.2321494\ttotal: 12.4s\tremaining: 14.9s\n",
      "454:\tlearn: 0.2320383\ttotal: 12.4s\tremaining: 14.9s\n",
      "455:\tlearn: 0.2319243\ttotal: 12.5s\tremaining: 14.9s\n",
      "456:\tlearn: 0.2318291\ttotal: 12.5s\tremaining: 14.9s\n",
      "457:\tlearn: 0.2316585\ttotal: 12.6s\tremaining: 14.9s\n",
      "458:\tlearn: 0.2315048\ttotal: 12.6s\tremaining: 14.8s\n",
      "459:\tlearn: 0.2314040\ttotal: 12.6s\tremaining: 14.8s\n",
      "460:\tlearn: 0.2312993\ttotal: 12.7s\tremaining: 14.8s\n",
      "461:\tlearn: 0.2312168\ttotal: 12.7s\tremaining: 14.8s\n",
      "462:\tlearn: 0.2311335\ttotal: 12.8s\tremaining: 14.8s\n",
      "463:\tlearn: 0.2307083\ttotal: 12.8s\tremaining: 14.8s\n",
      "464:\tlearn: 0.2305578\ttotal: 12.8s\tremaining: 14.8s\n",
      "465:\tlearn: 0.2304935\ttotal: 12.9s\tremaining: 14.8s\n",
      "466:\tlearn: 0.2304257\ttotal: 12.9s\tremaining: 14.7s\n",
      "467:\tlearn: 0.2302670\ttotal: 12.9s\tremaining: 14.7s\n",
      "468:\tlearn: 0.2300829\ttotal: 13s\tremaining: 14.7s\n",
      "469:\tlearn: 0.2298901\ttotal: 13s\tremaining: 14.6s\n",
      "470:\tlearn: 0.2297536\ttotal: 13s\tremaining: 14.6s\n",
      "471:\tlearn: 0.2296497\ttotal: 13s\tremaining: 14.6s\n",
      "472:\tlearn: 0.2294711\ttotal: 13.1s\tremaining: 14.6s\n",
      "473:\tlearn: 0.2294077\ttotal: 13.1s\tremaining: 14.6s\n",
      "474:\tlearn: 0.2291212\ttotal: 13.2s\tremaining: 14.6s\n",
      "475:\tlearn: 0.2289376\ttotal: 13.2s\tremaining: 14.5s\n",
      "476:\tlearn: 0.2288619\ttotal: 13.2s\tremaining: 14.5s\n",
      "477:\tlearn: 0.2287759\ttotal: 13.3s\tremaining: 14.5s\n",
      "478:\tlearn: 0.2286205\ttotal: 13.3s\tremaining: 14.5s\n",
      "479:\tlearn: 0.2284984\ttotal: 13.4s\tremaining: 14.5s\n",
      "480:\tlearn: 0.2284296\ttotal: 13.4s\tremaining: 14.4s\n",
      "481:\tlearn: 0.2282593\ttotal: 13.4s\tremaining: 14.4s\n",
      "482:\tlearn: 0.2281714\ttotal: 13.5s\tremaining: 14.4s\n",
      "483:\tlearn: 0.2280955\ttotal: 13.5s\tremaining: 14.4s\n",
      "484:\tlearn: 0.2279395\ttotal: 13.5s\tremaining: 14.3s\n",
      "485:\tlearn: 0.2278505\ttotal: 13.6s\tremaining: 14.4s\n",
      "486:\tlearn: 0.2277613\ttotal: 13.6s\tremaining: 14.3s\n",
      "487:\tlearn: 0.2275473\ttotal: 13.6s\tremaining: 14.3s\n",
      "488:\tlearn: 0.2274386\ttotal: 13.7s\tremaining: 14.3s\n",
      "489:\tlearn: 0.2273593\ttotal: 13.7s\tremaining: 14.3s\n",
      "490:\tlearn: 0.2272851\ttotal: 13.8s\tremaining: 14.3s\n",
      "491:\tlearn: 0.2272156\ttotal: 13.8s\tremaining: 14.3s\n",
      "492:\tlearn: 0.2271118\ttotal: 13.8s\tremaining: 14.2s\n",
      "493:\tlearn: 0.2269832\ttotal: 13.9s\tremaining: 14.2s\n",
      "494:\tlearn: 0.2269238\ttotal: 13.9s\tremaining: 14.2s\n",
      "495:\tlearn: 0.2268670\ttotal: 13.9s\tremaining: 14.1s\n",
      "496:\tlearn: 0.2267164\ttotal: 13.9s\tremaining: 14.1s\n"
     ]
    },
    {
     "name": "stdout",
     "output_type": "stream",
     "text": [
      "497:\tlearn: 0.2266525\ttotal: 14s\tremaining: 14.1s\n",
      "498:\tlearn: 0.2265908\ttotal: 14s\tremaining: 14s\n",
      "499:\tlearn: 0.2264508\ttotal: 14s\tremaining: 14s\n",
      "500:\tlearn: 0.2263830\ttotal: 14.1s\tremaining: 14s\n",
      "501:\tlearn: 0.2260270\ttotal: 14.1s\tremaining: 14s\n",
      "502:\tlearn: 0.2259427\ttotal: 14.1s\tremaining: 14s\n",
      "503:\tlearn: 0.2258186\ttotal: 14.2s\tremaining: 14s\n",
      "504:\tlearn: 0.2257108\ttotal: 14.2s\tremaining: 14s\n",
      "505:\tlearn: 0.2255826\ttotal: 14.3s\tremaining: 13.9s\n",
      "506:\tlearn: 0.2254992\ttotal: 14.3s\tremaining: 13.9s\n",
      "507:\tlearn: 0.2254415\ttotal: 14.3s\tremaining: 13.9s\n",
      "508:\tlearn: 0.2252934\ttotal: 14.4s\tremaining: 13.9s\n",
      "509:\tlearn: 0.2251751\ttotal: 14.4s\tremaining: 13.8s\n",
      "510:\tlearn: 0.2250573\ttotal: 14.4s\tremaining: 13.8s\n",
      "511:\tlearn: 0.2249666\ttotal: 14.5s\tremaining: 13.8s\n",
      "512:\tlearn: 0.2248700\ttotal: 14.5s\tremaining: 13.8s\n",
      "513:\tlearn: 0.2247898\ttotal: 14.5s\tremaining: 13.7s\n",
      "514:\tlearn: 0.2245691\ttotal: 14.5s\tremaining: 13.7s\n",
      "515:\tlearn: 0.2245102\ttotal: 14.6s\tremaining: 13.7s\n",
      "516:\tlearn: 0.2244177\ttotal: 14.6s\tremaining: 13.6s\n",
      "517:\tlearn: 0.2243224\ttotal: 14.6s\tremaining: 13.6s\n",
      "518:\tlearn: 0.2240258\ttotal: 14.7s\tremaining: 13.6s\n",
      "519:\tlearn: 0.2239140\ttotal: 14.7s\tremaining: 13.6s\n",
      "520:\tlearn: 0.2238205\ttotal: 14.7s\tremaining: 13.5s\n",
      "521:\tlearn: 0.2237406\ttotal: 14.7s\tremaining: 13.5s\n",
      "522:\tlearn: 0.2236594\ttotal: 14.8s\tremaining: 13.5s\n",
      "523:\tlearn: 0.2236068\ttotal: 14.8s\tremaining: 13.4s\n",
      "524:\tlearn: 0.2235695\ttotal: 14.8s\tremaining: 13.4s\n",
      "525:\tlearn: 0.2233947\ttotal: 14.8s\tremaining: 13.4s\n",
      "526:\tlearn: 0.2232748\ttotal: 14.9s\tremaining: 13.3s\n",
      "527:\tlearn: 0.2231775\ttotal: 14.9s\tremaining: 13.3s\n",
      "528:\tlearn: 0.2230559\ttotal: 14.9s\tremaining: 13.3s\n",
      "529:\tlearn: 0.2229812\ttotal: 14.9s\tremaining: 13.2s\n",
      "530:\tlearn: 0.2229110\ttotal: 15s\tremaining: 13.2s\n",
      "531:\tlearn: 0.2228553\ttotal: 15s\tremaining: 13.2s\n",
      "532:\tlearn: 0.2227263\ttotal: 15s\tremaining: 13.2s\n",
      "533:\tlearn: 0.2226282\ttotal: 15.1s\tremaining: 13.1s\n",
      "534:\tlearn: 0.2225575\ttotal: 15.1s\tremaining: 13.1s\n",
      "535:\tlearn: 0.2224591\ttotal: 15.1s\tremaining: 13.1s\n",
      "536:\tlearn: 0.2223517\ttotal: 15.1s\tremaining: 13.1s\n",
      "537:\tlearn: 0.2222137\ttotal: 15.2s\tremaining: 13s\n",
      "538:\tlearn: 0.2221413\ttotal: 15.2s\tremaining: 13s\n",
      "539:\tlearn: 0.2220613\ttotal: 15.2s\tremaining: 13s\n",
      "540:\tlearn: 0.2220090\ttotal: 15.3s\tremaining: 12.9s\n",
      "541:\tlearn: 0.2219514\ttotal: 15.3s\tremaining: 12.9s\n",
      "542:\tlearn: 0.2218607\ttotal: 15.3s\tremaining: 12.9s\n",
      "543:\tlearn: 0.2218236\ttotal: 15.3s\tremaining: 12.8s\n",
      "544:\tlearn: 0.2217595\ttotal: 15.3s\tremaining: 12.8s\n",
      "545:\tlearn: 0.2216515\ttotal: 15.4s\tremaining: 12.8s\n",
      "546:\tlearn: 0.2215583\ttotal: 15.4s\tremaining: 12.8s\n",
      "547:\tlearn: 0.2214628\ttotal: 15.4s\tremaining: 12.7s\n",
      "548:\tlearn: 0.2213881\ttotal: 15.4s\tremaining: 12.7s\n",
      "549:\tlearn: 0.2212535\ttotal: 15.5s\tremaining: 12.7s\n",
      "550:\tlearn: 0.2211316\ttotal: 15.5s\tremaining: 12.6s\n",
      "551:\tlearn: 0.2210824\ttotal: 15.5s\tremaining: 12.6s\n",
      "552:\tlearn: 0.2209724\ttotal: 15.6s\tremaining: 12.6s\n",
      "553:\tlearn: 0.2208505\ttotal: 15.6s\tremaining: 12.5s\n",
      "554:\tlearn: 0.2207699\ttotal: 15.6s\tremaining: 12.5s\n",
      "555:\tlearn: 0.2206594\ttotal: 15.6s\tremaining: 12.5s\n",
      "556:\tlearn: 0.2205907\ttotal: 15.7s\tremaining: 12.5s\n",
      "557:\tlearn: 0.2203594\ttotal: 15.7s\tremaining: 12.4s\n",
      "558:\tlearn: 0.2202809\ttotal: 15.7s\tremaining: 12.4s\n",
      "559:\tlearn: 0.2201506\ttotal: 15.7s\tremaining: 12.4s\n",
      "560:\tlearn: 0.2200602\ttotal: 15.8s\tremaining: 12.3s\n",
      "561:\tlearn: 0.2199185\ttotal: 15.8s\tremaining: 12.3s\n",
      "562:\tlearn: 0.2198572\ttotal: 15.8s\tremaining: 12.3s\n",
      "563:\tlearn: 0.2197817\ttotal: 15.9s\tremaining: 12.3s\n",
      "564:\tlearn: 0.2197080\ttotal: 15.9s\tremaining: 12.2s\n",
      "565:\tlearn: 0.2195581\ttotal: 15.9s\tremaining: 12.2s\n",
      "566:\tlearn: 0.2194738\ttotal: 15.9s\tremaining: 12.2s\n",
      "567:\tlearn: 0.2193922\ttotal: 16s\tremaining: 12.1s\n",
      "568:\tlearn: 0.2193118\ttotal: 16s\tremaining: 12.1s\n",
      "569:\tlearn: 0.2192175\ttotal: 16s\tremaining: 12.1s\n",
      "570:\tlearn: 0.2190843\ttotal: 16.1s\tremaining: 12.1s\n",
      "571:\tlearn: 0.2190057\ttotal: 16.1s\tremaining: 12s\n",
      "572:\tlearn: 0.2188870\ttotal: 16.1s\tremaining: 12s\n",
      "573:\tlearn: 0.2187876\ttotal: 16.1s\tremaining: 12s\n",
      "574:\tlearn: 0.2187232\ttotal: 16.2s\tremaining: 11.9s\n",
      "575:\tlearn: 0.2186001\ttotal: 16.2s\tremaining: 11.9s\n",
      "576:\tlearn: 0.2185124\ttotal: 16.2s\tremaining: 11.9s\n",
      "577:\tlearn: 0.2183221\ttotal: 16.2s\tremaining: 11.9s\n",
      "578:\tlearn: 0.2181641\ttotal: 16.3s\tremaining: 11.8s\n",
      "579:\tlearn: 0.2181093\ttotal: 16.3s\tremaining: 11.8s\n",
      "580:\tlearn: 0.2180549\ttotal: 16.3s\tremaining: 11.8s\n",
      "581:\tlearn: 0.2177130\ttotal: 16.3s\tremaining: 11.7s\n",
      "582:\tlearn: 0.2175994\ttotal: 16.4s\tremaining: 11.7s\n",
      "583:\tlearn: 0.2175579\ttotal: 16.4s\tremaining: 11.7s\n",
      "584:\tlearn: 0.2174048\ttotal: 16.4s\tremaining: 11.7s\n",
      "585:\tlearn: 0.2173576\ttotal: 16.4s\tremaining: 11.6s\n",
      "586:\tlearn: 0.2172419\ttotal: 16.5s\tremaining: 11.6s\n",
      "587:\tlearn: 0.2171358\ttotal: 16.5s\tremaining: 11.6s\n",
      "588:\tlearn: 0.2171006\ttotal: 16.5s\tremaining: 11.5s\n",
      "589:\tlearn: 0.2169343\ttotal: 16.5s\tremaining: 11.5s\n",
      "590:\tlearn: 0.2168091\ttotal: 16.6s\tremaining: 11.5s\n",
      "591:\tlearn: 0.2166791\ttotal: 16.6s\tremaining: 11.4s\n",
      "592:\tlearn: 0.2165599\ttotal: 16.6s\tremaining: 11.4s\n",
      "593:\tlearn: 0.2164345\ttotal: 16.7s\tremaining: 11.4s\n",
      "594:\tlearn: 0.2162825\ttotal: 16.7s\tremaining: 11.4s\n",
      "595:\tlearn: 0.2161984\ttotal: 16.7s\tremaining: 11.3s\n",
      "596:\tlearn: 0.2160753\ttotal: 16.7s\tremaining: 11.3s\n",
      "597:\tlearn: 0.2160235\ttotal: 16.8s\tremaining: 11.3s\n",
      "598:\tlearn: 0.2159180\ttotal: 16.8s\tremaining: 11.2s\n",
      "599:\tlearn: 0.2158226\ttotal: 16.8s\tremaining: 11.2s\n",
      "600:\tlearn: 0.2157260\ttotal: 16.8s\tremaining: 11.2s\n",
      "601:\tlearn: 0.2156080\ttotal: 16.9s\tremaining: 11.1s\n",
      "602:\tlearn: 0.2155157\ttotal: 16.9s\tremaining: 11.1s\n",
      "603:\tlearn: 0.2154369\ttotal: 16.9s\tremaining: 11.1s\n",
      "604:\tlearn: 0.2153427\ttotal: 16.9s\tremaining: 11s\n",
      "605:\tlearn: 0.2152789\ttotal: 16.9s\tremaining: 11s\n",
      "606:\tlearn: 0.2152200\ttotal: 17s\tremaining: 11s\n",
      "607:\tlearn: 0.2151602\ttotal: 17s\tremaining: 11s\n",
      "608:\tlearn: 0.2151100\ttotal: 17s\tremaining: 10.9s\n",
      "609:\tlearn: 0.2150323\ttotal: 17s\tremaining: 10.9s\n",
      "610:\tlearn: 0.2148915\ttotal: 17.1s\tremaining: 10.9s\n",
      "611:\tlearn: 0.2148221\ttotal: 17.1s\tremaining: 10.8s\n",
      "612:\tlearn: 0.2147266\ttotal: 17.1s\tremaining: 10.8s\n",
      "613:\tlearn: 0.2146687\ttotal: 17.1s\tremaining: 10.8s\n",
      "614:\tlearn: 0.2145952\ttotal: 17.1s\tremaining: 10.7s\n",
      "615:\tlearn: 0.2145127\ttotal: 17.2s\tremaining: 10.7s\n",
      "616:\tlearn: 0.2144582\ttotal: 17.2s\tremaining: 10.7s\n",
      "617:\tlearn: 0.2143750\ttotal: 17.2s\tremaining: 10.6s\n",
      "618:\tlearn: 0.2143090\ttotal: 17.2s\tremaining: 10.6s\n",
      "619:\tlearn: 0.2142032\ttotal: 17.3s\tremaining: 10.6s\n",
      "620:\tlearn: 0.2141654\ttotal: 17.3s\tremaining: 10.5s\n",
      "621:\tlearn: 0.2140807\ttotal: 17.3s\tremaining: 10.5s\n",
      "622:\tlearn: 0.2139827\ttotal: 17.3s\tremaining: 10.5s\n",
      "623:\tlearn: 0.2139064\ttotal: 17.3s\tremaining: 10.4s\n",
      "624:\tlearn: 0.2137871\ttotal: 17.4s\tremaining: 10.4s\n",
      "625:\tlearn: 0.2136994\ttotal: 17.4s\tremaining: 10.4s\n",
      "626:\tlearn: 0.2135677\ttotal: 17.4s\tremaining: 10.4s\n",
      "627:\tlearn: 0.2135169\ttotal: 17.4s\tremaining: 10.3s\n",
      "628:\tlearn: 0.2134567\ttotal: 17.4s\tremaining: 10.3s\n",
      "629:\tlearn: 0.2134046\ttotal: 17.5s\tremaining: 10.3s\n",
      "630:\tlearn: 0.2132345\ttotal: 17.5s\tremaining: 10.2s\n",
      "631:\tlearn: 0.2131824\ttotal: 17.5s\tremaining: 10.2s\n",
      "632:\tlearn: 0.2131082\ttotal: 17.5s\tremaining: 10.2s\n",
      "633:\tlearn: 0.2130248\ttotal: 17.6s\tremaining: 10.1s\n",
      "634:\tlearn: 0.2129190\ttotal: 17.6s\tremaining: 10.1s\n",
      "635:\tlearn: 0.2128223\ttotal: 17.6s\tremaining: 10.1s\n",
      "636:\tlearn: 0.2126752\ttotal: 17.6s\tremaining: 10s\n",
      "637:\tlearn: 0.2125561\ttotal: 17.6s\tremaining: 10s\n",
      "638:\tlearn: 0.2124745\ttotal: 17.7s\tremaining: 9.98s\n",
      "639:\tlearn: 0.2124203\ttotal: 17.7s\tremaining: 9.95s\n",
      "640:\tlearn: 0.2123779\ttotal: 17.7s\tremaining: 9.91s\n",
      "641:\tlearn: 0.2122803\ttotal: 17.7s\tremaining: 9.88s\n",
      "642:\tlearn: 0.2122027\ttotal: 17.7s\tremaining: 9.85s\n",
      "643:\tlearn: 0.2121316\ttotal: 17.8s\tremaining: 9.82s\n",
      "644:\tlearn: 0.2120326\ttotal: 17.8s\tremaining: 9.79s\n",
      "645:\tlearn: 0.2117469\ttotal: 17.8s\tremaining: 9.76s\n",
      "646:\tlearn: 0.2116482\ttotal: 17.8s\tremaining: 9.73s\n",
      "647:\tlearn: 0.2116021\ttotal: 17.9s\tremaining: 9.7s\n",
      "648:\tlearn: 0.2115728\ttotal: 17.9s\tremaining: 9.67s\n",
      "649:\tlearn: 0.2114674\ttotal: 17.9s\tremaining: 9.64s\n",
      "650:\tlearn: 0.2113924\ttotal: 17.9s\tremaining: 9.61s\n",
      "651:\tlearn: 0.2112982\ttotal: 17.9s\tremaining: 9.58s\n",
      "652:\tlearn: 0.2112175\ttotal: 18s\tremaining: 9.55s\n",
      "653:\tlearn: 0.2111653\ttotal: 18s\tremaining: 9.52s\n",
      "654:\tlearn: 0.2111222\ttotal: 18s\tremaining: 9.49s\n",
      "655:\tlearn: 0.2110273\ttotal: 18s\tremaining: 9.46s\n",
      "656:\tlearn: 0.2109541\ttotal: 18.1s\tremaining: 9.42s\n"
     ]
    },
    {
     "name": "stdout",
     "output_type": "stream",
     "text": [
      "657:\tlearn: 0.2108931\ttotal: 18.1s\tremaining: 9.43s\n",
      "658:\tlearn: 0.2108416\ttotal: 18.2s\tremaining: 9.39s\n",
      "659:\tlearn: 0.2107379\ttotal: 18.2s\tremaining: 9.36s\n",
      "660:\tlearn: 0.2106120\ttotal: 18.2s\tremaining: 9.33s\n",
      "661:\tlearn: 0.2105627\ttotal: 18.2s\tremaining: 9.3s\n",
      "662:\tlearn: 0.2104529\ttotal: 18.2s\tremaining: 9.27s\n",
      "663:\tlearn: 0.2103716\ttotal: 18.3s\tremaining: 9.24s\n",
      "664:\tlearn: 0.2102978\ttotal: 18.3s\tremaining: 9.21s\n",
      "665:\tlearn: 0.2102332\ttotal: 18.3s\tremaining: 9.18s\n",
      "666:\tlearn: 0.2101825\ttotal: 18.3s\tremaining: 9.15s\n",
      "667:\tlearn: 0.2101500\ttotal: 18.3s\tremaining: 9.11s\n",
      "668:\tlearn: 0.2100839\ttotal: 18.4s\tremaining: 9.09s\n",
      "669:\tlearn: 0.2100122\ttotal: 18.4s\tremaining: 9.05s\n",
      "670:\tlearn: 0.2099212\ttotal: 18.4s\tremaining: 9.03s\n",
      "671:\tlearn: 0.2098413\ttotal: 18.4s\tremaining: 9s\n",
      "672:\tlearn: 0.2097532\ttotal: 18.5s\tremaining: 8.97s\n",
      "673:\tlearn: 0.2096818\ttotal: 18.5s\tremaining: 8.94s\n",
      "674:\tlearn: 0.2095988\ttotal: 18.5s\tremaining: 8.9s\n",
      "675:\tlearn: 0.2094991\ttotal: 18.5s\tremaining: 8.88s\n",
      "676:\tlearn: 0.2093920\ttotal: 18.5s\tremaining: 8.84s\n",
      "677:\tlearn: 0.2092917\ttotal: 18.6s\tremaining: 8.81s\n",
      "678:\tlearn: 0.2092609\ttotal: 18.6s\tremaining: 8.79s\n",
      "679:\tlearn: 0.2091718\ttotal: 18.6s\tremaining: 8.76s\n",
      "680:\tlearn: 0.2091463\ttotal: 18.6s\tremaining: 8.73s\n",
      "681:\tlearn: 0.2090974\ttotal: 18.7s\tremaining: 8.7s\n",
      "682:\tlearn: 0.2089966\ttotal: 18.7s\tremaining: 8.67s\n",
      "683:\tlearn: 0.2089086\ttotal: 18.7s\tremaining: 8.64s\n",
      "684:\tlearn: 0.2088761\ttotal: 18.7s\tremaining: 8.61s\n",
      "685:\tlearn: 0.2086759\ttotal: 18.8s\tremaining: 8.58s\n",
      "686:\tlearn: 0.2086079\ttotal: 18.8s\tremaining: 8.55s\n",
      "687:\tlearn: 0.2085193\ttotal: 18.8s\tremaining: 8.53s\n",
      "688:\tlearn: 0.2084184\ttotal: 18.8s\tremaining: 8.5s\n",
      "689:\tlearn: 0.2083024\ttotal: 18.9s\tremaining: 8.47s\n",
      "690:\tlearn: 0.2082291\ttotal: 18.9s\tremaining: 8.44s\n",
      "691:\tlearn: 0.2081748\ttotal: 18.9s\tremaining: 8.41s\n",
      "692:\tlearn: 0.2080959\ttotal: 18.9s\tremaining: 8.38s\n",
      "693:\tlearn: 0.2079895\ttotal: 18.9s\tremaining: 8.35s\n",
      "694:\tlearn: 0.2079050\ttotal: 19s\tremaining: 8.32s\n",
      "695:\tlearn: 0.2077963\ttotal: 19s\tremaining: 8.3s\n",
      "696:\tlearn: 0.2077425\ttotal: 19s\tremaining: 8.27s\n",
      "697:\tlearn: 0.2076983\ttotal: 19.1s\tremaining: 8.24s\n",
      "698:\tlearn: 0.2076525\ttotal: 19.1s\tremaining: 8.21s\n",
      "699:\tlearn: 0.2075270\ttotal: 19.1s\tremaining: 8.19s\n",
      "700:\tlearn: 0.2074608\ttotal: 19.1s\tremaining: 8.16s\n",
      "701:\tlearn: 0.2073954\ttotal: 19.1s\tremaining: 8.13s\n",
      "702:\tlearn: 0.2072976\ttotal: 19.2s\tremaining: 8.1s\n",
      "703:\tlearn: 0.2072240\ttotal: 19.2s\tremaining: 8.07s\n",
      "704:\tlearn: 0.2071244\ttotal: 19.2s\tremaining: 8.04s\n",
      "705:\tlearn: 0.2070586\ttotal: 19.2s\tremaining: 8.01s\n",
      "706:\tlearn: 0.2069581\ttotal: 19.3s\tremaining: 7.99s\n",
      "707:\tlearn: 0.2069027\ttotal: 19.3s\tremaining: 7.96s\n",
      "708:\tlearn: 0.2068216\ttotal: 19.3s\tremaining: 7.93s\n",
      "709:\tlearn: 0.2066809\ttotal: 19.3s\tremaining: 7.9s\n",
      "710:\tlearn: 0.2065753\ttotal: 19.4s\tremaining: 7.87s\n",
      "711:\tlearn: 0.2065222\ttotal: 19.4s\tremaining: 7.84s\n",
      "712:\tlearn: 0.2064790\ttotal: 19.4s\tremaining: 7.81s\n",
      "713:\tlearn: 0.2063783\ttotal: 19.4s\tremaining: 7.78s\n",
      "714:\tlearn: 0.2063184\ttotal: 19.5s\tremaining: 7.75s\n",
      "715:\tlearn: 0.2062426\ttotal: 19.5s\tremaining: 7.72s\n",
      "716:\tlearn: 0.2061595\ttotal: 19.5s\tremaining: 7.69s\n",
      "717:\tlearn: 0.2060795\ttotal: 19.5s\tremaining: 7.66s\n",
      "718:\tlearn: 0.2060437\ttotal: 19.5s\tremaining: 7.63s\n",
      "719:\tlearn: 0.2059758\ttotal: 19.6s\tremaining: 7.6s\n",
      "720:\tlearn: 0.2059340\ttotal: 19.6s\tremaining: 7.57s\n",
      "721:\tlearn: 0.2058943\ttotal: 19.6s\tremaining: 7.54s\n",
      "722:\tlearn: 0.2057826\ttotal: 19.6s\tremaining: 7.52s\n",
      "723:\tlearn: 0.2057127\ttotal: 19.7s\tremaining: 7.5s\n",
      "724:\tlearn: 0.2056657\ttotal: 19.7s\tremaining: 7.47s\n",
      "725:\tlearn: 0.2056394\ttotal: 19.7s\tremaining: 7.44s\n",
      "726:\tlearn: 0.2055778\ttotal: 19.7s\tremaining: 7.41s\n",
      "727:\tlearn: 0.2055246\ttotal: 19.7s\tremaining: 7.38s\n",
      "728:\tlearn: 0.2054365\ttotal: 19.8s\tremaining: 7.35s\n",
      "729:\tlearn: 0.2053130\ttotal: 19.8s\tremaining: 7.32s\n",
      "730:\tlearn: 0.2052148\ttotal: 19.8s\tremaining: 7.29s\n",
      "731:\tlearn: 0.2051484\ttotal: 19.8s\tremaining: 7.26s\n",
      "732:\tlearn: 0.2050463\ttotal: 19.9s\tremaining: 7.24s\n",
      "733:\tlearn: 0.2050091\ttotal: 19.9s\tremaining: 7.21s\n",
      "734:\tlearn: 0.2049206\ttotal: 19.9s\tremaining: 7.18s\n",
      "735:\tlearn: 0.2047467\ttotal: 19.9s\tremaining: 7.15s\n",
      "736:\tlearn: 0.2046361\ttotal: 20s\tremaining: 7.12s\n",
      "737:\tlearn: 0.2045857\ttotal: 20s\tremaining: 7.09s\n",
      "738:\tlearn: 0.2045646\ttotal: 20s\tremaining: 7.06s\n",
      "739:\tlearn: 0.2044774\ttotal: 20s\tremaining: 7.03s\n",
      "740:\tlearn: 0.2043962\ttotal: 20s\tremaining: 7.01s\n",
      "741:\tlearn: 0.2043227\ttotal: 20.1s\tremaining: 6.98s\n",
      "742:\tlearn: 0.2042781\ttotal: 20.1s\tremaining: 6.95s\n",
      "743:\tlearn: 0.2042318\ttotal: 20.1s\tremaining: 6.92s\n",
      "744:\tlearn: 0.2041878\ttotal: 20.1s\tremaining: 6.89s\n",
      "745:\tlearn: 0.2040901\ttotal: 20.2s\tremaining: 6.87s\n",
      "746:\tlearn: 0.2039481\ttotal: 20.2s\tremaining: 6.84s\n",
      "747:\tlearn: 0.2038919\ttotal: 20.2s\tremaining: 6.81s\n",
      "748:\tlearn: 0.2038157\ttotal: 20.2s\tremaining: 6.78s\n",
      "749:\tlearn: 0.2037524\ttotal: 20.3s\tremaining: 6.75s\n",
      "750:\tlearn: 0.2036640\ttotal: 20.3s\tremaining: 6.72s\n",
      "751:\tlearn: 0.2035856\ttotal: 20.3s\tremaining: 6.69s\n",
      "752:\tlearn: 0.2034954\ttotal: 20.3s\tremaining: 6.66s\n",
      "753:\tlearn: 0.2034154\ttotal: 20.3s\tremaining: 6.64s\n",
      "754:\tlearn: 0.2032917\ttotal: 20.4s\tremaining: 6.61s\n",
      "755:\tlearn: 0.2032206\ttotal: 20.4s\tremaining: 6.58s\n",
      "756:\tlearn: 0.2031306\ttotal: 20.4s\tremaining: 6.55s\n",
      "757:\tlearn: 0.2030718\ttotal: 20.4s\tremaining: 6.52s\n",
      "758:\tlearn: 0.2030163\ttotal: 20.4s\tremaining: 6.49s\n",
      "759:\tlearn: 0.2029409\ttotal: 20.5s\tremaining: 6.46s\n",
      "760:\tlearn: 0.2028805\ttotal: 20.5s\tremaining: 6.44s\n",
      "761:\tlearn: 0.2028050\ttotal: 20.5s\tremaining: 6.41s\n",
      "762:\tlearn: 0.2027768\ttotal: 20.5s\tremaining: 6.38s\n",
      "763:\tlearn: 0.2026814\ttotal: 20.6s\tremaining: 6.35s\n",
      "764:\tlearn: 0.2026121\ttotal: 20.6s\tremaining: 6.32s\n",
      "765:\tlearn: 0.2025133\ttotal: 20.6s\tremaining: 6.29s\n",
      "766:\tlearn: 0.2024595\ttotal: 20.6s\tremaining: 6.26s\n",
      "767:\tlearn: 0.2024114\ttotal: 20.6s\tremaining: 6.24s\n",
      "768:\tlearn: 0.2023449\ttotal: 20.7s\tremaining: 6.21s\n",
      "769:\tlearn: 0.2022864\ttotal: 20.7s\tremaining: 6.18s\n",
      "770:\tlearn: 0.2022244\ttotal: 20.7s\tremaining: 6.15s\n",
      "771:\tlearn: 0.2021462\ttotal: 20.7s\tremaining: 6.12s\n",
      "772:\tlearn: 0.2020986\ttotal: 20.8s\tremaining: 6.09s\n",
      "773:\tlearn: 0.2020508\ttotal: 20.8s\tremaining: 6.07s\n",
      "774:\tlearn: 0.2019304\ttotal: 20.8s\tremaining: 6.04s\n",
      "775:\tlearn: 0.2018756\ttotal: 20.8s\tremaining: 6.01s\n",
      "776:\tlearn: 0.2018459\ttotal: 20.8s\tremaining: 5.98s\n",
      "777:\tlearn: 0.2017288\ttotal: 20.9s\tremaining: 5.96s\n",
      "778:\tlearn: 0.2016412\ttotal: 20.9s\tremaining: 5.93s\n",
      "779:\tlearn: 0.2015751\ttotal: 20.9s\tremaining: 5.9s\n",
      "780:\tlearn: 0.2015144\ttotal: 20.9s\tremaining: 5.87s\n",
      "781:\tlearn: 0.2014378\ttotal: 21s\tremaining: 5.84s\n",
      "782:\tlearn: 0.2013597\ttotal: 21s\tremaining: 5.81s\n",
      "783:\tlearn: 0.2012791\ttotal: 21s\tremaining: 5.79s\n",
      "784:\tlearn: 0.2011746\ttotal: 21s\tremaining: 5.76s\n",
      "785:\tlearn: 0.2011342\ttotal: 21s\tremaining: 5.73s\n",
      "786:\tlearn: 0.2009763\ttotal: 21.1s\tremaining: 5.7s\n",
      "787:\tlearn: 0.2009383\ttotal: 21.1s\tremaining: 5.67s\n",
      "788:\tlearn: 0.2008690\ttotal: 21.1s\tremaining: 5.65s\n",
      "789:\tlearn: 0.2008178\ttotal: 21.1s\tremaining: 5.62s\n",
      "790:\tlearn: 0.2007506\ttotal: 21.2s\tremaining: 5.59s\n",
      "791:\tlearn: 0.2007089\ttotal: 21.2s\tremaining: 5.56s\n",
      "792:\tlearn: 0.2005704\ttotal: 21.2s\tremaining: 5.54s\n",
      "793:\tlearn: 0.2005226\ttotal: 21.2s\tremaining: 5.51s\n",
      "794:\tlearn: 0.2003911\ttotal: 21.3s\tremaining: 5.48s\n",
      "795:\tlearn: 0.2003485\ttotal: 21.3s\tremaining: 5.45s\n",
      "796:\tlearn: 0.2002874\ttotal: 21.3s\tremaining: 5.42s\n",
      "797:\tlearn: 0.2002358\ttotal: 21.3s\tremaining: 5.4s\n",
      "798:\tlearn: 0.2001939\ttotal: 21.3s\tremaining: 5.37s\n",
      "799:\tlearn: 0.2000529\ttotal: 21.4s\tremaining: 5.34s\n",
      "800:\tlearn: 0.1999688\ttotal: 21.4s\tremaining: 5.31s\n",
      "801:\tlearn: 0.1998731\ttotal: 21.4s\tremaining: 5.29s\n",
      "802:\tlearn: 0.1998184\ttotal: 21.4s\tremaining: 5.26s\n",
      "803:\tlearn: 0.1997599\ttotal: 21.5s\tremaining: 5.23s\n",
      "804:\tlearn: 0.1996739\ttotal: 21.5s\tremaining: 5.2s\n",
      "805:\tlearn: 0.1996206\ttotal: 21.5s\tremaining: 5.17s\n",
      "806:\tlearn: 0.1995785\ttotal: 21.5s\tremaining: 5.15s\n",
      "807:\tlearn: 0.1995273\ttotal: 21.5s\tremaining: 5.12s\n",
      "808:\tlearn: 0.1994740\ttotal: 21.6s\tremaining: 5.09s\n",
      "809:\tlearn: 0.1994381\ttotal: 21.6s\tremaining: 5.06s\n",
      "810:\tlearn: 0.1994040\ttotal: 21.6s\tremaining: 5.04s\n",
      "811:\tlearn: 0.1993370\ttotal: 21.6s\tremaining: 5.01s\n",
      "812:\tlearn: 0.1992306\ttotal: 21.7s\tremaining: 4.98s\n",
      "813:\tlearn: 0.1991281\ttotal: 21.7s\tremaining: 4.95s\n",
      "814:\tlearn: 0.1989998\ttotal: 21.7s\tremaining: 4.93s\n",
      "815:\tlearn: 0.1989181\ttotal: 21.7s\tremaining: 4.9s\n",
      "816:\tlearn: 0.1988240\ttotal: 21.7s\tremaining: 4.87s\n",
      "817:\tlearn: 0.1987682\ttotal: 21.8s\tremaining: 4.84s\n"
     ]
    },
    {
     "name": "stdout",
     "output_type": "stream",
     "text": [
      "818:\tlearn: 0.1987112\ttotal: 21.8s\tremaining: 4.82s\n",
      "819:\tlearn: 0.1986868\ttotal: 21.8s\tremaining: 4.79s\n",
      "820:\tlearn: 0.1986071\ttotal: 21.8s\tremaining: 4.76s\n",
      "821:\tlearn: 0.1985335\ttotal: 21.9s\tremaining: 4.73s\n",
      "822:\tlearn: 0.1984694\ttotal: 21.9s\tremaining: 4.71s\n",
      "823:\tlearn: 0.1983444\ttotal: 21.9s\tremaining: 4.68s\n",
      "824:\tlearn: 0.1982795\ttotal: 21.9s\tremaining: 4.65s\n",
      "825:\tlearn: 0.1982035\ttotal: 22s\tremaining: 4.62s\n",
      "826:\tlearn: 0.1981221\ttotal: 22s\tremaining: 4.6s\n",
      "827:\tlearn: 0.1980554\ttotal: 22s\tremaining: 4.57s\n",
      "828:\tlearn: 0.1979809\ttotal: 22s\tremaining: 4.54s\n",
      "829:\tlearn: 0.1979384\ttotal: 22s\tremaining: 4.51s\n",
      "830:\tlearn: 0.1978761\ttotal: 22.1s\tremaining: 4.49s\n",
      "831:\tlearn: 0.1978301\ttotal: 22.1s\tremaining: 4.46s\n",
      "832:\tlearn: 0.1978131\ttotal: 22.1s\tremaining: 4.43s\n",
      "833:\tlearn: 0.1977502\ttotal: 22.1s\tremaining: 4.41s\n",
      "834:\tlearn: 0.1975940\ttotal: 22.2s\tremaining: 4.38s\n",
      "835:\tlearn: 0.1975417\ttotal: 22.2s\tremaining: 4.35s\n",
      "836:\tlearn: 0.1974998\ttotal: 22.2s\tremaining: 4.32s\n",
      "837:\tlearn: 0.1973713\ttotal: 22.2s\tremaining: 4.29s\n",
      "838:\tlearn: 0.1973093\ttotal: 22.2s\tremaining: 4.27s\n",
      "839:\tlearn: 0.1972434\ttotal: 22.3s\tremaining: 4.24s\n",
      "840:\tlearn: 0.1971475\ttotal: 22.3s\tremaining: 4.21s\n",
      "841:\tlearn: 0.1970986\ttotal: 22.3s\tremaining: 4.19s\n",
      "842:\tlearn: 0.1970139\ttotal: 22.3s\tremaining: 4.16s\n",
      "843:\tlearn: 0.1969545\ttotal: 22.4s\tremaining: 4.13s\n",
      "844:\tlearn: 0.1969071\ttotal: 22.4s\tremaining: 4.1s\n",
      "845:\tlearn: 0.1968466\ttotal: 22.4s\tremaining: 4.08s\n",
      "846:\tlearn: 0.1967684\ttotal: 22.4s\tremaining: 4.05s\n",
      "847:\tlearn: 0.1967192\ttotal: 22.4s\tremaining: 4.02s\n",
      "848:\tlearn: 0.1965707\ttotal: 22.5s\tremaining: 4s\n",
      "849:\tlearn: 0.1964880\ttotal: 22.5s\tremaining: 3.97s\n",
      "850:\tlearn: 0.1963742\ttotal: 22.5s\tremaining: 3.94s\n",
      "851:\tlearn: 0.1962633\ttotal: 22.5s\tremaining: 3.91s\n",
      "852:\tlearn: 0.1962260\ttotal: 22.6s\tremaining: 3.89s\n",
      "853:\tlearn: 0.1961749\ttotal: 22.6s\tremaining: 3.86s\n",
      "854:\tlearn: 0.1961143\ttotal: 22.6s\tremaining: 3.83s\n",
      "855:\tlearn: 0.1960747\ttotal: 22.6s\tremaining: 3.8s\n",
      "856:\tlearn: 0.1960442\ttotal: 22.6s\tremaining: 3.78s\n",
      "857:\tlearn: 0.1960063\ttotal: 22.7s\tremaining: 3.75s\n",
      "858:\tlearn: 0.1959720\ttotal: 22.7s\tremaining: 3.72s\n",
      "859:\tlearn: 0.1959126\ttotal: 22.7s\tremaining: 3.7s\n",
      "860:\tlearn: 0.1957690\ttotal: 22.7s\tremaining: 3.67s\n",
      "861:\tlearn: 0.1956837\ttotal: 22.8s\tremaining: 3.64s\n",
      "862:\tlearn: 0.1956058\ttotal: 22.8s\tremaining: 3.62s\n",
      "863:\tlearn: 0.1955460\ttotal: 22.8s\tremaining: 3.59s\n",
      "864:\tlearn: 0.1954908\ttotal: 22.8s\tremaining: 3.56s\n",
      "865:\tlearn: 0.1954124\ttotal: 22.8s\tremaining: 3.53s\n",
      "866:\tlearn: 0.1953744\ttotal: 22.9s\tremaining: 3.51s\n",
      "867:\tlearn: 0.1953119\ttotal: 22.9s\tremaining: 3.48s\n",
      "868:\tlearn: 0.1952634\ttotal: 22.9s\tremaining: 3.46s\n",
      "869:\tlearn: 0.1952017\ttotal: 22.9s\tremaining: 3.43s\n",
      "870:\tlearn: 0.1951310\ttotal: 23s\tremaining: 3.4s\n",
      "871:\tlearn: 0.1950785\ttotal: 23s\tremaining: 3.38s\n",
      "872:\tlearn: 0.1950263\ttotal: 23s\tremaining: 3.35s\n",
      "873:\tlearn: 0.1949499\ttotal: 23s\tremaining: 3.32s\n",
      "874:\tlearn: 0.1949103\ttotal: 23.1s\tremaining: 3.29s\n",
      "875:\tlearn: 0.1948616\ttotal: 23.1s\tremaining: 3.27s\n",
      "876:\tlearn: 0.1948410\ttotal: 23.1s\tremaining: 3.24s\n",
      "877:\tlearn: 0.1948043\ttotal: 23.1s\tremaining: 3.21s\n",
      "878:\tlearn: 0.1947082\ttotal: 23.2s\tremaining: 3.19s\n",
      "879:\tlearn: 0.1946756\ttotal: 23.2s\tremaining: 3.16s\n",
      "880:\tlearn: 0.1946384\ttotal: 23.2s\tremaining: 3.13s\n",
      "881:\tlearn: 0.1945669\ttotal: 23.2s\tremaining: 3.11s\n",
      "882:\tlearn: 0.1945287\ttotal: 23.3s\tremaining: 3.08s\n",
      "883:\tlearn: 0.1944455\ttotal: 23.3s\tremaining: 3.05s\n",
      "884:\tlearn: 0.1943463\ttotal: 23.3s\tremaining: 3.03s\n",
      "885:\tlearn: 0.1941975\ttotal: 23.3s\tremaining: 3s\n",
      "886:\tlearn: 0.1941454\ttotal: 23.4s\tremaining: 2.98s\n",
      "887:\tlearn: 0.1941049\ttotal: 23.4s\tremaining: 2.95s\n",
      "888:\tlearn: 0.1940772\ttotal: 23.4s\tremaining: 2.92s\n",
      "889:\tlearn: 0.1940019\ttotal: 23.4s\tremaining: 2.9s\n",
      "890:\tlearn: 0.1939486\ttotal: 23.5s\tremaining: 2.87s\n",
      "891:\tlearn: 0.1938797\ttotal: 23.5s\tremaining: 2.84s\n",
      "892:\tlearn: 0.1938324\ttotal: 23.5s\tremaining: 2.82s\n",
      "893:\tlearn: 0.1937872\ttotal: 23.5s\tremaining: 2.79s\n",
      "894:\tlearn: 0.1936948\ttotal: 23.6s\tremaining: 2.76s\n",
      "895:\tlearn: 0.1936517\ttotal: 23.6s\tremaining: 2.74s\n",
      "896:\tlearn: 0.1935898\ttotal: 23.6s\tremaining: 2.71s\n",
      "897:\tlearn: 0.1935229\ttotal: 23.6s\tremaining: 2.68s\n",
      "898:\tlearn: 0.1935030\ttotal: 23.7s\tremaining: 2.66s\n",
      "899:\tlearn: 0.1934222\ttotal: 23.7s\tremaining: 2.63s\n",
      "900:\tlearn: 0.1933080\ttotal: 23.7s\tremaining: 2.6s\n",
      "901:\tlearn: 0.1932616\ttotal: 23.7s\tremaining: 2.58s\n",
      "902:\tlearn: 0.1932288\ttotal: 23.8s\tremaining: 2.55s\n",
      "903:\tlearn: 0.1931577\ttotal: 23.8s\tremaining: 2.53s\n",
      "904:\tlearn: 0.1930899\ttotal: 23.8s\tremaining: 2.5s\n",
      "905:\tlearn: 0.1930445\ttotal: 23.8s\tremaining: 2.47s\n",
      "906:\tlearn: 0.1929784\ttotal: 23.9s\tremaining: 2.45s\n",
      "907:\tlearn: 0.1929047\ttotal: 23.9s\tremaining: 2.42s\n",
      "908:\tlearn: 0.1928494\ttotal: 23.9s\tremaining: 2.39s\n",
      "909:\tlearn: 0.1927631\ttotal: 23.9s\tremaining: 2.37s\n",
      "910:\tlearn: 0.1926901\ttotal: 24s\tremaining: 2.34s\n",
      "911:\tlearn: 0.1926477\ttotal: 24s\tremaining: 2.31s\n",
      "912:\tlearn: 0.1925757\ttotal: 24s\tremaining: 2.29s\n",
      "913:\tlearn: 0.1925348\ttotal: 24s\tremaining: 2.26s\n",
      "914:\tlearn: 0.1924625\ttotal: 24.1s\tremaining: 2.23s\n",
      "915:\tlearn: 0.1923817\ttotal: 24.1s\tremaining: 2.21s\n",
      "916:\tlearn: 0.1923219\ttotal: 24.1s\tremaining: 2.18s\n",
      "917:\tlearn: 0.1922755\ttotal: 24.1s\tremaining: 2.15s\n",
      "918:\tlearn: 0.1922352\ttotal: 24.2s\tremaining: 2.13s\n",
      "919:\tlearn: 0.1921648\ttotal: 24.2s\tremaining: 2.1s\n",
      "920:\tlearn: 0.1920841\ttotal: 24.2s\tremaining: 2.08s\n",
      "921:\tlearn: 0.1920089\ttotal: 24.2s\tremaining: 2.05s\n",
      "922:\tlearn: 0.1919270\ttotal: 24.3s\tremaining: 2.02s\n",
      "923:\tlearn: 0.1918956\ttotal: 24.3s\tremaining: 2s\n",
      "924:\tlearn: 0.1918598\ttotal: 24.3s\tremaining: 1.97s\n",
      "925:\tlearn: 0.1917595\ttotal: 24.3s\tremaining: 1.94s\n",
      "926:\tlearn: 0.1916273\ttotal: 24.4s\tremaining: 1.92s\n",
      "927:\tlearn: 0.1915818\ttotal: 24.4s\tremaining: 1.89s\n",
      "928:\tlearn: 0.1914923\ttotal: 24.4s\tremaining: 1.86s\n",
      "929:\tlearn: 0.1914623\ttotal: 24.4s\tremaining: 1.84s\n",
      "930:\tlearn: 0.1913637\ttotal: 24.5s\tremaining: 1.81s\n",
      "931:\tlearn: 0.1912541\ttotal: 24.5s\tremaining: 1.78s\n",
      "932:\tlearn: 0.1911913\ttotal: 24.5s\tremaining: 1.76s\n",
      "933:\tlearn: 0.1911125\ttotal: 24.5s\tremaining: 1.73s\n",
      "934:\tlearn: 0.1910777\ttotal: 24.5s\tremaining: 1.71s\n",
      "935:\tlearn: 0.1909604\ttotal: 24.6s\tremaining: 1.68s\n",
      "936:\tlearn: 0.1909209\ttotal: 24.6s\tremaining: 1.65s\n",
      "937:\tlearn: 0.1908540\ttotal: 24.6s\tremaining: 1.63s\n",
      "938:\tlearn: 0.1908129\ttotal: 24.6s\tremaining: 1.6s\n",
      "939:\tlearn: 0.1907785\ttotal: 24.6s\tremaining: 1.57s\n",
      "940:\tlearn: 0.1907382\ttotal: 24.7s\tremaining: 1.55s\n",
      "941:\tlearn: 0.1907025\ttotal: 24.7s\tremaining: 1.52s\n",
      "942:\tlearn: 0.1906540\ttotal: 24.7s\tremaining: 1.49s\n",
      "943:\tlearn: 0.1905957\ttotal: 24.7s\tremaining: 1.47s\n",
      "944:\tlearn: 0.1905520\ttotal: 24.8s\tremaining: 1.44s\n",
      "945:\tlearn: 0.1905039\ttotal: 24.8s\tremaining: 1.41s\n",
      "946:\tlearn: 0.1904663\ttotal: 24.8s\tremaining: 1.39s\n",
      "947:\tlearn: 0.1903997\ttotal: 24.8s\tremaining: 1.36s\n",
      "948:\tlearn: 0.1903088\ttotal: 24.8s\tremaining: 1.33s\n",
      "949:\tlearn: 0.1902562\ttotal: 24.9s\tremaining: 1.31s\n",
      "950:\tlearn: 0.1902109\ttotal: 24.9s\tremaining: 1.28s\n",
      "951:\tlearn: 0.1901309\ttotal: 24.9s\tremaining: 1.25s\n",
      "952:\tlearn: 0.1900716\ttotal: 24.9s\tremaining: 1.23s\n",
      "953:\tlearn: 0.1900032\ttotal: 25s\tremaining: 1.2s\n",
      "954:\tlearn: 0.1899227\ttotal: 25s\tremaining: 1.18s\n",
      "955:\tlearn: 0.1898654\ttotal: 25s\tremaining: 1.15s\n",
      "956:\tlearn: 0.1898342\ttotal: 25s\tremaining: 1.12s\n",
      "957:\tlearn: 0.1897936\ttotal: 25s\tremaining: 1.1s\n",
      "958:\tlearn: 0.1897556\ttotal: 25.1s\tremaining: 1.07s\n",
      "959:\tlearn: 0.1897090\ttotal: 25.1s\tremaining: 1.04s\n",
      "960:\tlearn: 0.1896595\ttotal: 25.1s\tremaining: 1.02s\n",
      "961:\tlearn: 0.1896082\ttotal: 25.1s\tremaining: 993ms\n",
      "962:\tlearn: 0.1895307\ttotal: 25.2s\tremaining: 966ms\n",
      "963:\tlearn: 0.1894886\ttotal: 25.2s\tremaining: 940ms\n",
      "964:\tlearn: 0.1894441\ttotal: 25.2s\tremaining: 914ms\n",
      "965:\tlearn: 0.1893938\ttotal: 25.2s\tremaining: 888ms\n",
      "966:\tlearn: 0.1893397\ttotal: 25.2s\tremaining: 861ms\n",
      "967:\tlearn: 0.1893009\ttotal: 25.3s\tremaining: 835ms\n",
      "968:\tlearn: 0.1891868\ttotal: 25.3s\tremaining: 809ms\n",
      "969:\tlearn: 0.1891406\ttotal: 25.3s\tremaining: 783ms\n",
      "970:\tlearn: 0.1890754\ttotal: 25.3s\tremaining: 757ms\n",
      "971:\tlearn: 0.1889904\ttotal: 25.4s\tremaining: 730ms\n",
      "972:\tlearn: 0.1889220\ttotal: 25.4s\tremaining: 704ms\n",
      "973:\tlearn: 0.1888519\ttotal: 25.4s\tremaining: 678ms\n",
      "974:\tlearn: 0.1887641\ttotal: 25.4s\tremaining: 652ms\n",
      "975:\tlearn: 0.1887172\ttotal: 25.4s\tremaining: 626ms\n",
      "976:\tlearn: 0.1886804\ttotal: 25.5s\tremaining: 600ms\n",
      "977:\tlearn: 0.1886267\ttotal: 25.5s\tremaining: 573ms\n"
     ]
    },
    {
     "name": "stdout",
     "output_type": "stream",
     "text": [
      "978:\tlearn: 0.1885864\ttotal: 25.5s\tremaining: 547ms\n",
      "979:\tlearn: 0.1885142\ttotal: 25.5s\tremaining: 521ms\n",
      "980:\tlearn: 0.1883985\ttotal: 25.6s\tremaining: 495ms\n",
      "981:\tlearn: 0.1883668\ttotal: 25.6s\tremaining: 469ms\n",
      "982:\tlearn: 0.1882961\ttotal: 25.6s\tremaining: 443ms\n",
      "983:\tlearn: 0.1882362\ttotal: 25.6s\tremaining: 417ms\n",
      "984:\tlearn: 0.1881671\ttotal: 25.7s\tremaining: 391ms\n",
      "985:\tlearn: 0.1881067\ttotal: 25.7s\tremaining: 365ms\n",
      "986:\tlearn: 0.1880182\ttotal: 25.7s\tremaining: 339ms\n",
      "987:\tlearn: 0.1879242\ttotal: 25.7s\tremaining: 312ms\n",
      "988:\tlearn: 0.1878453\ttotal: 25.8s\tremaining: 286ms\n",
      "989:\tlearn: 0.1877947\ttotal: 25.8s\tremaining: 260ms\n",
      "990:\tlearn: 0.1877184\ttotal: 25.8s\tremaining: 234ms\n",
      "991:\tlearn: 0.1876533\ttotal: 25.8s\tremaining: 208ms\n",
      "992:\tlearn: 0.1876276\ttotal: 25.9s\tremaining: 182ms\n",
      "993:\tlearn: 0.1875446\ttotal: 25.9s\tremaining: 156ms\n",
      "994:\tlearn: 0.1874781\ttotal: 25.9s\tremaining: 130ms\n",
      "995:\tlearn: 0.1874308\ttotal: 25.9s\tremaining: 104ms\n",
      "996:\tlearn: 0.1873913\ttotal: 25.9s\tremaining: 78.1ms\n",
      "997:\tlearn: 0.1873434\ttotal: 26s\tremaining: 52ms\n",
      "998:\tlearn: 0.1873003\ttotal: 26s\tremaining: 26ms\n",
      "999:\tlearn: 0.1872087\ttotal: 26s\tremaining: 0us\n"
     ]
    }
   ],
   "source": [
    "cb = CatBoostClassifier()\n",
    "\n",
    "model_cb = cb.fit(xtrain, ytrain)"
   ]
  },
  {
   "cell_type": "code",
   "execution_count": 69,
   "id": "68c79de1",
   "metadata": {},
   "outputs": [
    {
     "name": "stdout",
     "output_type": "stream",
     "text": [
      "Train report \n",
      "               precision    recall  f1-score   support\n",
      "\n",
      "           0       0.92      0.94      0.93     17073\n",
      "           1       0.94      0.91      0.92     17073\n",
      "\n",
      "    accuracy                           0.93     34146\n",
      "   macro avg       0.93      0.93      0.93     34146\n",
      "weighted avg       0.93      0.93      0.93     34146\n",
      "\n",
      "Test report \n",
      "               precision    recall  f1-score   support\n",
      "\n",
      "           0       0.90      0.90      0.90      7317\n",
      "           1       0.90      0.89      0.90      7317\n",
      "\n",
      "    accuracy                           0.90     14634\n",
      "   macro avg       0.90      0.90      0.90     14634\n",
      "weighted avg       0.90      0.90      0.90     14634\n",
      "\n"
     ]
    }
   ],
   "source": [
    "model_performance_remarks(model_cb, \"CatBoost\")"
   ]
  },
  {
   "cell_type": "code",
   "execution_count": 58,
   "id": "f816f240",
   "metadata": {},
   "outputs": [],
   "source": [
    "# User Defined Function with remarks\n",
    "\n",
    "from sklearn.metrics import accuracy_score , f1_score , cohen_kappa_score\n",
    "\n",
    "performance_remarks_df = pd.DataFrame(columns = ['Name','Train_accuracy','Test_accuracy','Train_f1score',\n",
    "                                        'Test_f1score','Train_Kappa','Test_Kappa','Remarks'])\n",
    "\n",
    "\n",
    "def model_performance_remarks(model , name , xtrain = xtrain, xtest = xtest):\n",
    "    \n",
    "    global performance_remarks_df\n",
    "    \n",
    "    pred_train = model.predict(xtrain)\n",
    "    pred_test = model.predict(xtest)\n",
    "    \n",
    "    acc_train = round(accuracy_score(ytrain , pred_train),2)*100\n",
    "    acc_test = round(accuracy_score(ytest , pred_test),2)*100\n",
    "    \n",
    "    f1_train = f1_score(ytrain , pred_train)\n",
    "    f1_test = f1_score(ytest , pred_test)\n",
    "    \n",
    "    kappa_train = cohen_kappa_score(ytrain , pred_train)\n",
    "    kappa_test = cohen_kappa_score(ytest , pred_test)\n",
    "    \n",
    "    #remarks\n",
    "    \n",
    "    def remark(train , test):\n",
    "        \n",
    "        if name == 'Base Model':\n",
    "            return 'Base Model'\n",
    "        \n",
    "        else:\n",
    "            \n",
    "            if abs(train - test) > 10 or train > 95:\n",
    "                        return 'Over Fit'\n",
    "            elif train < 81 or test < 78:\n",
    "                        return 'Under Fit'\n",
    "            else:\n",
    "                        return 'Good Fit'\n",
    "        \n",
    "    \n",
    "    performance_remarks_df = performance_remarks_df.append({'Name':name ,\n",
    "                                           'Train_accuracy': round(acc_train,2),\n",
    "                                           'Test_accuracy': round(acc_test,2),\n",
    "                                           'Train_f1score': f1_train,\n",
    "                                           'Test_f1score': f1_test,\n",
    "                                           'Train_Kappa': kappa_train,\n",
    "                                           'Test_Kappa' : kappa_test,\n",
    "                                           'Remarks' : remark(acc_train , acc_test)}, ignore_index = True)\n",
    "    \n",
    "    print('Train report \\n',classification_report(ytrain , pred_train))\n",
    "    print('Test report \\n', classification_report(ytest , pred_test))"
   ]
  },
  {
   "cell_type": "code",
   "execution_count": null,
   "id": "7bf8a403",
   "metadata": {},
   "outputs": [],
   "source": [
    "# model_performance_remarks(model_lr1, \"Linear Regression\")\n",
    "# model_performance_remarks(model_dt, \"Decision Tree\")\n",
    "# model_performance_remarks(model_rf, \"Random forest\")\n",
    "# model_performance_remarks(model_xg, \"XGBoost\")\n",
    "# model_performance_remarks(model_ab, \"AdaBoost\")\n",
    "# # model_performance_remarks(model_grid, \"Grid SearchCV\")"
   ]
  },
  {
   "cell_type": "code",
   "execution_count": 70,
   "id": "bec6f7b8",
   "metadata": {},
   "outputs": [
    {
     "data": {
      "text/html": [
       "<div>\n",
       "<style scoped>\n",
       "    .dataframe tbody tr th:only-of-type {\n",
       "        vertical-align: middle;\n",
       "    }\n",
       "\n",
       "    .dataframe tbody tr th {\n",
       "        vertical-align: top;\n",
       "    }\n",
       "\n",
       "    .dataframe thead th {\n",
       "        text-align: right;\n",
       "    }\n",
       "</style>\n",
       "<table border=\"1\" class=\"dataframe\">\n",
       "  <thead>\n",
       "    <tr style=\"text-align: right;\">\n",
       "      <th></th>\n",
       "      <th>Name</th>\n",
       "      <th>Train_accuracy</th>\n",
       "      <th>Test_accuracy</th>\n",
       "      <th>Train_f1score</th>\n",
       "      <th>Test_f1score</th>\n",
       "      <th>Train_Kappa</th>\n",
       "      <th>Test_Kappa</th>\n",
       "      <th>Remarks</th>\n",
       "    </tr>\n",
       "  </thead>\n",
       "  <tbody>\n",
       "    <tr>\n",
       "      <th>0</th>\n",
       "      <td>Base Model</td>\n",
       "      <td>79.0</td>\n",
       "      <td>80.0</td>\n",
       "      <td>0.794400</td>\n",
       "      <td>0.804057</td>\n",
       "      <td>0.580214</td>\n",
       "      <td>0.601339</td>\n",
       "      <td>Base Model</td>\n",
       "    </tr>\n",
       "    <tr>\n",
       "      <th>1</th>\n",
       "      <td>Decision Tree</td>\n",
       "      <td>100.0</td>\n",
       "      <td>81.0</td>\n",
       "      <td>0.995248</td>\n",
       "      <td>0.803929</td>\n",
       "      <td>0.990511</td>\n",
       "      <td>0.623480</td>\n",
       "      <td>Over Fit</td>\n",
       "    </tr>\n",
       "    <tr>\n",
       "      <th>2</th>\n",
       "      <td>Random Forest</td>\n",
       "      <td>100.0</td>\n",
       "      <td>90.0</td>\n",
       "      <td>0.995253</td>\n",
       "      <td>0.894341</td>\n",
       "      <td>0.990511</td>\n",
       "      <td>0.792811</td>\n",
       "      <td>Over Fit</td>\n",
       "    </tr>\n",
       "    <tr>\n",
       "      <th>3</th>\n",
       "      <td>XGBoost</td>\n",
       "      <td>93.0</td>\n",
       "      <td>90.0</td>\n",
       "      <td>0.930798</td>\n",
       "      <td>0.900102</td>\n",
       "      <td>0.862707</td>\n",
       "      <td>0.798415</td>\n",
       "      <td>Good Fit</td>\n",
       "    </tr>\n",
       "    <tr>\n",
       "      <th>4</th>\n",
       "      <td>AdaBoost</td>\n",
       "      <td>82.0</td>\n",
       "      <td>83.0</td>\n",
       "      <td>0.821973</td>\n",
       "      <td>0.834487</td>\n",
       "      <td>0.642945</td>\n",
       "      <td>0.663387</td>\n",
       "      <td>Good Fit</td>\n",
       "    </tr>\n",
       "    <tr>\n",
       "      <th>5</th>\n",
       "      <td>CatBoost</td>\n",
       "      <td>93.0</td>\n",
       "      <td>90.0</td>\n",
       "      <td>0.924681</td>\n",
       "      <td>0.899086</td>\n",
       "      <td>0.851110</td>\n",
       "      <td>0.799235</td>\n",
       "      <td>Good Fit</td>\n",
       "    </tr>\n",
       "  </tbody>\n",
       "</table>\n",
       "</div>"
      ],
      "text/plain": [
       "            Name  Train_accuracy  Test_accuracy  Train_f1score  Test_f1score  \\\n",
       "0     Base Model            79.0           80.0       0.794400      0.804057   \n",
       "1  Decision Tree           100.0           81.0       0.995248      0.803929   \n",
       "2  Random Forest           100.0           90.0       0.995253      0.894341   \n",
       "3        XGBoost            93.0           90.0       0.930798      0.900102   \n",
       "4       AdaBoost            82.0           83.0       0.821973      0.834487   \n",
       "5       CatBoost            93.0           90.0       0.924681      0.899086   \n",
       "\n",
       "   Train_Kappa  Test_Kappa     Remarks  \n",
       "0     0.580214    0.601339  Base Model  \n",
       "1     0.990511    0.623480    Over Fit  \n",
       "2     0.990511    0.792811    Over Fit  \n",
       "3     0.862707    0.798415    Good Fit  \n",
       "4     0.642945    0.663387    Good Fit  \n",
       "5     0.851110    0.799235    Good Fit  "
      ]
     },
     "execution_count": 70,
     "metadata": {},
     "output_type": "execute_result"
    }
   ],
   "source": [
    "performance_remarks_df"
   ]
  },
  {
   "cell_type": "code",
   "execution_count": 71,
   "id": "49bd61f8",
   "metadata": {},
   "outputs": [],
   "source": [
    "def highlight_row(df):\n",
    "    color_green = ['background-color : pink']*len(df)\n",
    "    color_white = ['background-color : white']*len(df)\n",
    "    \n",
    "    if df['Remarks'] == 'Good Fit':\n",
    "        return color_green\n",
    "    \n",
    "    else:\n",
    "        return color_white"
   ]
  },
  {
   "cell_type": "code",
   "execution_count": 77,
   "id": "cecb00ee",
   "metadata": {},
   "outputs": [
    {
     "data": {
      "text/html": [
       "<style type=\"text/css\">\n",
       "#T_eb02f_row0_col0, #T_eb02f_row0_col1, #T_eb02f_row0_col2, #T_eb02f_row0_col3, #T_eb02f_row0_col4, #T_eb02f_row0_col5, #T_eb02f_row0_col6, #T_eb02f_row0_col7, #T_eb02f_row1_col0, #T_eb02f_row1_col1, #T_eb02f_row1_col2, #T_eb02f_row1_col3, #T_eb02f_row1_col4, #T_eb02f_row1_col5, #T_eb02f_row1_col6, #T_eb02f_row1_col7, #T_eb02f_row2_col0, #T_eb02f_row2_col1, #T_eb02f_row2_col2, #T_eb02f_row2_col3, #T_eb02f_row2_col4, #T_eb02f_row2_col5, #T_eb02f_row2_col6, #T_eb02f_row2_col7 {\n",
       "  background-color: white;\n",
       "}\n",
       "#T_eb02f_row3_col0, #T_eb02f_row3_col1, #T_eb02f_row3_col2, #T_eb02f_row3_col3, #T_eb02f_row3_col4, #T_eb02f_row3_col5, #T_eb02f_row3_col6, #T_eb02f_row3_col7, #T_eb02f_row4_col0, #T_eb02f_row4_col1, #T_eb02f_row4_col2, #T_eb02f_row4_col3, #T_eb02f_row4_col4, #T_eb02f_row4_col5, #T_eb02f_row4_col6, #T_eb02f_row4_col7, #T_eb02f_row5_col0, #T_eb02f_row5_col1, #T_eb02f_row5_col2, #T_eb02f_row5_col3, #T_eb02f_row5_col4, #T_eb02f_row5_col5, #T_eb02f_row5_col6, #T_eb02f_row5_col7 {\n",
       "  background-color: pink;\n",
       "}\n",
       "</style>\n",
       "<table id=\"T_eb02f\">\n",
       "  <thead>\n",
       "    <tr>\n",
       "      <th class=\"blank level0\" >&nbsp;</th>\n",
       "      <th id=\"T_eb02f_level0_col0\" class=\"col_heading level0 col0\" >Name</th>\n",
       "      <th id=\"T_eb02f_level0_col1\" class=\"col_heading level0 col1\" >Train_accuracy</th>\n",
       "      <th id=\"T_eb02f_level0_col2\" class=\"col_heading level0 col2\" >Test_accuracy</th>\n",
       "      <th id=\"T_eb02f_level0_col3\" class=\"col_heading level0 col3\" >Train_f1score</th>\n",
       "      <th id=\"T_eb02f_level0_col4\" class=\"col_heading level0 col4\" >Test_f1score</th>\n",
       "      <th id=\"T_eb02f_level0_col5\" class=\"col_heading level0 col5\" >Train_Kappa</th>\n",
       "      <th id=\"T_eb02f_level0_col6\" class=\"col_heading level0 col6\" >Test_Kappa</th>\n",
       "      <th id=\"T_eb02f_level0_col7\" class=\"col_heading level0 col7\" >Remarks</th>\n",
       "    </tr>\n",
       "  </thead>\n",
       "  <tbody>\n",
       "    <tr>\n",
       "      <th id=\"T_eb02f_level0_row0\" class=\"row_heading level0 row0\" >0</th>\n",
       "      <td id=\"T_eb02f_row0_col0\" class=\"data row0 col0\" >Base Model</td>\n",
       "      <td id=\"T_eb02f_row0_col1\" class=\"data row0 col1\" >79.000000</td>\n",
       "      <td id=\"T_eb02f_row0_col2\" class=\"data row0 col2\" >80.000000</td>\n",
       "      <td id=\"T_eb02f_row0_col3\" class=\"data row0 col3\" >0.794400</td>\n",
       "      <td id=\"T_eb02f_row0_col4\" class=\"data row0 col4\" >0.804057</td>\n",
       "      <td id=\"T_eb02f_row0_col5\" class=\"data row0 col5\" >0.580214</td>\n",
       "      <td id=\"T_eb02f_row0_col6\" class=\"data row0 col6\" >0.601339</td>\n",
       "      <td id=\"T_eb02f_row0_col7\" class=\"data row0 col7\" >Base Model</td>\n",
       "    </tr>\n",
       "    <tr>\n",
       "      <th id=\"T_eb02f_level0_row1\" class=\"row_heading level0 row1\" >1</th>\n",
       "      <td id=\"T_eb02f_row1_col0\" class=\"data row1 col0\" >Decision Tree</td>\n",
       "      <td id=\"T_eb02f_row1_col1\" class=\"data row1 col1\" >100.000000</td>\n",
       "      <td id=\"T_eb02f_row1_col2\" class=\"data row1 col2\" >81.000000</td>\n",
       "      <td id=\"T_eb02f_row1_col3\" class=\"data row1 col3\" >0.995248</td>\n",
       "      <td id=\"T_eb02f_row1_col4\" class=\"data row1 col4\" >0.803929</td>\n",
       "      <td id=\"T_eb02f_row1_col5\" class=\"data row1 col5\" >0.990511</td>\n",
       "      <td id=\"T_eb02f_row1_col6\" class=\"data row1 col6\" >0.623480</td>\n",
       "      <td id=\"T_eb02f_row1_col7\" class=\"data row1 col7\" >Over Fit</td>\n",
       "    </tr>\n",
       "    <tr>\n",
       "      <th id=\"T_eb02f_level0_row2\" class=\"row_heading level0 row2\" >2</th>\n",
       "      <td id=\"T_eb02f_row2_col0\" class=\"data row2 col0\" >Random Forest</td>\n",
       "      <td id=\"T_eb02f_row2_col1\" class=\"data row2 col1\" >100.000000</td>\n",
       "      <td id=\"T_eb02f_row2_col2\" class=\"data row2 col2\" >90.000000</td>\n",
       "      <td id=\"T_eb02f_row2_col3\" class=\"data row2 col3\" >0.995253</td>\n",
       "      <td id=\"T_eb02f_row2_col4\" class=\"data row2 col4\" >0.894341</td>\n",
       "      <td id=\"T_eb02f_row2_col5\" class=\"data row2 col5\" >0.990511</td>\n",
       "      <td id=\"T_eb02f_row2_col6\" class=\"data row2 col6\" >0.792811</td>\n",
       "      <td id=\"T_eb02f_row2_col7\" class=\"data row2 col7\" >Over Fit</td>\n",
       "    </tr>\n",
       "    <tr>\n",
       "      <th id=\"T_eb02f_level0_row3\" class=\"row_heading level0 row3\" >3</th>\n",
       "      <td id=\"T_eb02f_row3_col0\" class=\"data row3 col0\" >XGBoost</td>\n",
       "      <td id=\"T_eb02f_row3_col1\" class=\"data row3 col1\" >93.000000</td>\n",
       "      <td id=\"T_eb02f_row3_col2\" class=\"data row3 col2\" >90.000000</td>\n",
       "      <td id=\"T_eb02f_row3_col3\" class=\"data row3 col3\" >0.930798</td>\n",
       "      <td id=\"T_eb02f_row3_col4\" class=\"data row3 col4\" >0.900102</td>\n",
       "      <td id=\"T_eb02f_row3_col5\" class=\"data row3 col5\" >0.862707</td>\n",
       "      <td id=\"T_eb02f_row3_col6\" class=\"data row3 col6\" >0.798415</td>\n",
       "      <td id=\"T_eb02f_row3_col7\" class=\"data row3 col7\" >Good Fit</td>\n",
       "    </tr>\n",
       "    <tr>\n",
       "      <th id=\"T_eb02f_level0_row4\" class=\"row_heading level0 row4\" >4</th>\n",
       "      <td id=\"T_eb02f_row4_col0\" class=\"data row4 col0\" >AdaBoost</td>\n",
       "      <td id=\"T_eb02f_row4_col1\" class=\"data row4 col1\" >82.000000</td>\n",
       "      <td id=\"T_eb02f_row4_col2\" class=\"data row4 col2\" >83.000000</td>\n",
       "      <td id=\"T_eb02f_row4_col3\" class=\"data row4 col3\" >0.821973</td>\n",
       "      <td id=\"T_eb02f_row4_col4\" class=\"data row4 col4\" >0.834487</td>\n",
       "      <td id=\"T_eb02f_row4_col5\" class=\"data row4 col5\" >0.642945</td>\n",
       "      <td id=\"T_eb02f_row4_col6\" class=\"data row4 col6\" >0.663387</td>\n",
       "      <td id=\"T_eb02f_row4_col7\" class=\"data row4 col7\" >Good Fit</td>\n",
       "    </tr>\n",
       "    <tr>\n",
       "      <th id=\"T_eb02f_level0_row5\" class=\"row_heading level0 row5\" >5</th>\n",
       "      <td id=\"T_eb02f_row5_col0\" class=\"data row5 col0\" >CatBoost</td>\n",
       "      <td id=\"T_eb02f_row5_col1\" class=\"data row5 col1\" >93.000000</td>\n",
       "      <td id=\"T_eb02f_row5_col2\" class=\"data row5 col2\" >90.000000</td>\n",
       "      <td id=\"T_eb02f_row5_col3\" class=\"data row5 col3\" >0.924681</td>\n",
       "      <td id=\"T_eb02f_row5_col4\" class=\"data row5 col4\" >0.899086</td>\n",
       "      <td id=\"T_eb02f_row5_col5\" class=\"data row5 col5\" >0.851110</td>\n",
       "      <td id=\"T_eb02f_row5_col6\" class=\"data row5 col6\" >0.799235</td>\n",
       "      <td id=\"T_eb02f_row5_col7\" class=\"data row5 col7\" >Good Fit</td>\n",
       "    </tr>\n",
       "  </tbody>\n",
       "</table>\n"
      ],
      "text/plain": [
       "<pandas.io.formats.style.Styler at 0x24bf92d6eb0>"
      ]
     },
     "execution_count": 77,
     "metadata": {},
     "output_type": "execute_result"
    }
   ],
   "source": [
    "performance_remarks_df.style.apply(highlight_row, axis =1)"
   ]
  },
  {
   "cell_type": "code",
   "execution_count": null,
   "id": "e24d26c6",
   "metadata": {},
   "outputs": [],
   "source": [
    "from sklearn.compose import ColumnTransformer"
   ]
  },
  {
   "cell_type": "code",
   "execution_count": null,
   "id": "613cdbac",
   "metadata": {},
   "outputs": [],
   "source": [
    "X = df.drop(columns=[\"Booking_ID\",\"arrival_year\",\"booking_status\"])\n",
    "y = df[\"booking_status\"]"
   ]
  },
  {
   "cell_type": "code",
   "execution_count": null,
   "id": "df99aaf0",
   "metadata": {},
   "outputs": [],
   "source": [
    "df_num.columns"
   ]
  },
  {
   "cell_type": "code",
   "execution_count": null,
   "id": "c7dc2901",
   "metadata": {},
   "outputs": [],
   "source": [
    "df_hotel.columns"
   ]
  },
  {
   "cell_type": "code",
   "execution_count": null,
   "id": "35ebd917",
   "metadata": {},
   "outputs": [],
   "source": [
    "df = pd.read_csv(\"Hotel reservations.csv\")"
   ]
  },
  {
   "cell_type": "code",
   "execution_count": null,
   "id": "46ed1079",
   "metadata": {},
   "outputs": [],
   "source": [
    "df[df.columns[:]].agg([\"min\",\"max\"]).T"
   ]
  },
  {
   "cell_type": "code",
   "execution_count": null,
   "id": "d7238cb1",
   "metadata": {},
   "outputs": [],
   "source": [
    "meal_plan_oe = OrdinalEncoder(categories = [['Meal Plan 2','Meal Plan 1','Not Selected', 'Meal Plan 3']])\n",
    "\n",
    "room_type_oe =OrdinalEncoder(categories = [['Room_Type 6','Room_Type 7','Room_Type 4', 'Room_Type 5',\n",
    "                                  'Room_Type 1','Room_Type 2','Room_Type 3']])\n",
    "\n",
    "segment_type_oe = OrdinalEncoder(categories = [['Online','Aviation','Offline','Corporate','Complementary']])\n",
    "\n",
    "booking_status_oe = OrdinalEncoder(categories = [['Not_Canceled','Canceled']])"
   ]
  },
  {
   "cell_type": "code",
   "execution_count": null,
   "id": "b6e09dba",
   "metadata": {},
   "outputs": [],
   "source": [
    "from sklearn.pipeline import Pipeline\n",
    "pt = PowerTransformer()\n",
    "\n",
    "rf = RandomForestClassifier()\n",
    "\n",
    "preprocessor = ColumnTransformer(\n",
    "    transformers=[\n",
    "        ('Power Trns', pt, df_num.columns),(\"meal plan\",meal_plan_oe,[\"type_of_meal_plan\"] ),\n",
    "        (\"room type\", room_type_oe,[\"room_type_reserved\"]),\n",
    "        (\"segment type\" , segment_type_oe,[\"market_segment_type\"])\n",
    "        ],remainder='passthrough')\n",
    "\n",
    "pipeline = Pipeline([(\"preprocessor\",preprocessor), (\"classifier\", rf)])\n",
    "\n",
    "\n",
    "x_train,x_test,y_train,y_test = train_test_split(X,y, test_size=0.2,random_state=42)\n",
    "\n",
    "pipeline.fit(x_train,y_train)\n",
    "y_pred = pipeline.predict(x_test)\n"
   ]
  },
  {
   "cell_type": "code",
   "execution_count": null,
   "id": "4ae9306f",
   "metadata": {},
   "outputs": [],
   "source": [
    "# y_pred"
   ]
  },
  {
   "cell_type": "code",
   "execution_count": null,
   "id": "7aad8d86",
   "metadata": {},
   "outputs": [],
   "source": [
    "print(classification_report(y_test,y_pred))"
   ]
  },
  {
   "cell_type": "code",
   "execution_count": 74,
   "id": "f399b786",
   "metadata": {},
   "outputs": [],
   "source": [
    "# Freeze the model \n",
    "\n",
    "import pickle #preserve all the learning params that made this model\n",
    "\n",
    "# writebinary\n",
    "model = open(\"xg.pickle\", \"wb\")\n",
    "pickle.dump(model_xg, model)\n",
    "model.close()"
   ]
  },
  {
   "cell_type": "code",
   "execution_count": null,
   "id": "a0989a3e",
   "metadata": {},
   "outputs": [],
   "source": [
    "pip install streamlit-extras"
   ]
  },
  {
   "cell_type": "code",
   "execution_count": 76,
   "id": "33ac4f12",
   "metadata": {},
   "outputs": [
    {
     "name": "stdout",
     "output_type": "stream",
     "text": [
      "<class 'pandas.core.frame.DataFrame'>\n",
      "RangeIndex: 34146 entries, 0 to 34145\n",
      "Data columns (total 16 columns):\n",
      " #   Column                                Non-Null Count  Dtype  \n",
      "---  ------                                --------------  -----  \n",
      " 0   no_of_adults                          34146 non-null  float64\n",
      " 1   no_of_children                        34146 non-null  float64\n",
      " 2   no_of_weekend_nights                  34146 non-null  float64\n",
      " 3   no_of_week_nights                     34146 non-null  float64\n",
      " 4   type_of_meal_plan                     34146 non-null  float64\n",
      " 5   required_car_parking_space            34146 non-null  int64  \n",
      " 6   room_type_reserved                    34146 non-null  float64\n",
      " 7   lead_time                             34146 non-null  float64\n",
      " 8   arrival_month                         34146 non-null  int64  \n",
      " 9   arrival_date                          34146 non-null  int64  \n",
      " 10  market_segment_type                   34146 non-null  float64\n",
      " 11  repeated_guest                        34146 non-null  int64  \n",
      " 12  no_of_previous_cancellations          34146 non-null  float64\n",
      " 13  no_of_previous_bookings_not_canceled  34146 non-null  float64\n",
      " 14  avg_price_per_room                    34146 non-null  float64\n",
      " 15  no_of_special_requests                34146 non-null  int64  \n",
      "dtypes: float64(11), int64(5)\n",
      "memory usage: 4.2 MB\n"
     ]
    }
   ],
   "source": [
    "xtrain.info()"
   ]
  },
  {
   "cell_type": "code",
   "execution_count": null,
   "id": "a0706962",
   "metadata": {},
   "outputs": [],
   "source": [
    "%%writefile app.py\n",
    "import streamlit as st\n",
    "# from IPython.display import display, HTML\n",
    "import pandas as pd \n",
    "import matplotlib.pyplot as plt \n",
    "import pickle\n",
    "from sklearn.preprocessing import PowerTransformer\n",
    "\n",
    "# st.balloons()\n",
    "# st.snow()\n",
    "\n",
    "\n",
    "# st.markdown(\n",
    "#          f\"\"\"\n",
    "#          <style>\n",
    "#          .stApp {{\n",
    "#              background-image: url(\"https://cdn.pixabay.com/photo/2019/04/24/11/27/flowers-4151900_960_720.jpg\");\n",
    "#              background-attachment: fixed;\n",
    "#              background-size: cover\n",
    "#          }}\n",
    "#          </style>\n",
    "#          \"\"\",\n",
    "#          unsafe_allow_html=True\n",
    "#      )\n",
    "\n",
    "import base64\n",
    "\n",
    "with open(\"hotel_bg.jpg\", \"rb\") as image_file:\n",
    "    encoded_string = base64.b64encode(image_file.read())\n",
    "st.markdown(\n",
    "f\"\"\"\n",
    "<style>\n",
    ".stApp {{\n",
    "    background-image: url(data:image/{\"png\"};base64,{encoded_string.decode()});\n",
    "    background-size: cover\n",
    "}}\n",
    "</style>\n",
    "\"\"\",\n",
    "unsafe_allow_html=True\n",
    ")\n",
    "\n",
    "\n",
    "\n",
    "\n",
    "# from PIL import Image\n",
    "\n",
    "# image = Image.open(\"Hotel - BG.jpg\")\n",
    "\n",
    "# st.image(image, caption='Hotel')\n",
    "\n",
    "\n",
    "st.title(\"Hotel Booking Cancellation Prediction\")\n",
    "st.markdown(\"Will this customer honour the booking? \")\n",
    "\n",
    "# step 1 load the pickled model --> rb read binary\n",
    "\n",
    "model = open(\"rf.pickle\",\"rb\")\n",
    "clf = pickle.load(model)\n",
    "model.close()\n",
    "\n",
    "# step2 get the user input from the front end\n",
    "no_of_adults= st.number_input('No of Adults',0,4,step = 1) \n",
    "no_of_children = st.slider('No of Children',0,10,1) \n",
    "no_of_weekend_nights = st.slider(\"No of weekend nights\",0,7,1)\n",
    "no_of_week_nights = st.slider('No of week nights',0,17,1)\n",
    "type_of_meal_plan = st.selectbox(\"Select a meal plan \", ('Meal Plan 1', 'Meal Plan 2', 'Meal Plan 3', 'Not Selected'))\n",
    "required_car_parking_space = st.selectbox(\"Parking required or not \", (0,1))\n",
    "room_type_reserved = st.selectbox(\"Type of room type reserved \", ('Room_Type 1', 'Room_Type 2', 'Room_Type 3', 'Room_Type 4',\n",
    "                       'Room_Type 5', 'Room_Type 6', 'Room_Type 7'))\n",
    "lead_time = st.number_input(\"Lead Time\" , 0,443,1)\n",
    "arrival_month = st.slider(\"Month of arrival \" , 1,12,1)\n",
    "arrival_date = st.slider(\"Date of arrival\", 1,30,1)\n",
    "market_segment_type = st.selectbox(\"Mode of Booking \", ('Online','Aviation','Offline','Corporate','Complementary'))\n",
    "repeated_guest = st.selectbox(\"Repeat visit(if yes --> 1, no -->0)\" , (0,1))\n",
    "no_of_previous_cancellations = st.slider(\"No of previous cancellations\", 0,13,1)\n",
    "no_of_previous_bookings_not_canceled = st.slider(\"No of successful visits\" , 0,58,1)\n",
    "avg_price_per_room = st.slider(\"Price per room\" , 0, 540, 10)\n",
    "no_of_special_requests = st.slider(\"Special requests if any\" , 0,5,1)\n",
    "\n",
    "\n",
    "# step3 : converting user input to model input \n",
    "\n",
    "data = {'no_of_adults': no_of_adults,\n",
    "        'no_of_children' : no_of_children, \n",
    "        'no_of_weekend_nights' : no_of_weekend_nights, \n",
    "        'no_of_week_nights': no_of_week_nights,\n",
    "        'type_of_meal_plan' : type_of_meal_plan,\n",
    "       'required_car_parking_space': required_car_parking_space,\n",
    "        'room_type_reserved': room_type_reserved,\n",
    "        'lead_time':lead_time,\n",
    "       \"arrival_month\": arrival_month,\n",
    "       \"arrival_date\": arrival_date,\n",
    "       \"market_segment_type\": market_segment_type,\n",
    "       \"repeated_guest\": repeated_guest,\n",
    "       \"no_of_previous_cancellations\" : no_of_previous_cancellations,\n",
    "       \"no_of_previous_bookings_not_canceled\" : no_of_previous_bookings_not_canceled,\n",
    "       \"avg_price_per_room\": avg_price_per_room,\n",
    "       \"no_of_special_requests\" : no_of_special_requests}\n",
    "input_data = pd.DataFrame([data])\n",
    "# st.write(input_data)\n",
    "\n",
    "\n",
    "prediction = clf.predict(input_data)\n",
    "if st.button(\"Prediction\"):\n",
    "    if prediction == \"Not_Canceled\":\n",
    "        st.subheader(\"Booking will be honoured\")\n",
    "    if prediction==\"Canceled\":\n",
    "        st.subheader(\"Booking will be cancelled\")"
   ]
  },
  {
   "cell_type": "code",
   "execution_count": null,
   "id": "ded14cff",
   "metadata": {},
   "outputs": [],
   "source": [
    "df.head(1)"
   ]
  }
 ],
 "metadata": {
  "kernelspec": {
   "display_name": "Python 3 (ipykernel)",
   "language": "python",
   "name": "python3"
  },
  "language_info": {
   "codemirror_mode": {
    "name": "ipython",
    "version": 3
   },
   "file_extension": ".py",
   "mimetype": "text/x-python",
   "name": "python",
   "nbconvert_exporter": "python",
   "pygments_lexer": "ipython3",
   "version": "3.9.13"
  }
 },
 "nbformat": 4,
 "nbformat_minor": 5
}
